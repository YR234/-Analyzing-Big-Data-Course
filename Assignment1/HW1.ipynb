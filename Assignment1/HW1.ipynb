{
  "nbformat": 4,
  "nbformat_minor": 0,
  "metadata": {
    "kernelspec": {
      "display_name": "Python 3",
      "language": "python",
      "name": "python3"
    },
    "language_info": {
      "codemirror_mode": {
        "name": "ipython",
        "version": 3
      },
      "file_extension": ".py",
      "mimetype": "text/x-python",
      "name": "python",
      "nbconvert_exporter": "python",
      "pygments_lexer": "ipython3",
      "version": "3.6.9"
    },
    "colab": {
      "name": "HW 1.ipynb",
      "provenance": [],
      "collapsed_sections": []
    }
  },
  "cells": [
    {
      "cell_type": "markdown",
      "metadata": {
        "id": "_fq8BHLiYCyE"
      },
      "source": [
        "# Homework Assignment 1\n",
        "### [The Art of Analyzing Big Data - The Data Scientist’s Toolbox](https://www.ise.bgu.ac.il/labs/fire/lectures.html)\n",
        "#### By Dr. Michael Fire "
      ]
    },
    {
      "cell_type": "markdown",
      "metadata": {
        "id": "jYvqtKSOYCyG"
      },
      "source": [
        "For this homework you will need to write code that analyzes real-world datasets. The code needs to be written in Python using the [sqlite3](https://docs.python.org/2/library/sqlite3.html) package. \n",
        "\n",
        "**Please note:** You need to answer only the questions that match your ID first digit."
      ]
    },
    {
      "cell_type": "markdown",
      "metadata": {
        "id": "AML-gkV-YCyI"
      },
      "source": [
        "# 1. Babies Names Dataset (35pt)"
      ]
    },
    {
      "cell_type": "markdown",
      "metadata": {
        "id": "jvkBrt7SYCyK"
      },
      "source": [
        "**Task 1 (for everyone):** Write a code that uses the  [**babies names dataset**](https://catalog.data.gov/dataset/baby-names-from-social-security-card-applications-data-by-state-and-district-of-#topic=developers_navigation) and creates a table named (Names) with the dataset data and the following columns: 'State', 'Gender', 'Name', 'Number', and 'Year' (5pt)\n",
        "**Bonus:** Load the data using a Batch INSERT SQL Query (2pt)"
      ]
    },
    {
      "cell_type": "code",
      "metadata": {
        "id": "cxr1IpN6OJxY",
        "outputId": "ed330dd8-e32c-4b14-8d56-b484c71fc009",
        "colab": {
          "resources": {
            "http://localhost:8080/nbextensions/google.colab/files.js": {
              "data": "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",
              "ok": true,
              "headers": [
                [
                  "content-type",
                  "application/javascript"
                ]
              ],
              "status": 200,
              "status_text": "OK"
            }
          },
          "base_uri": "https://localhost:8080/",
          "height": 92
        }
      },
      "source": [
        "from google.colab import files\n",
        "files.upload() #upload kaggle.json\n",
        "\n",
        "!pip install -q kaggle\n",
        "!mkdir -p ~/.kaggle\n",
        "!cp kaggle.json ~/.kaggle/\n",
        "!ls ~/.kaggle\n",
        "!chmod 600 /root/.kaggle/kaggle.json"
      ],
      "execution_count": 3,
      "outputs": [
        {
          "output_type": "display_data",
          "data": {
            "text/html": [
              "\n",
              "     <input type=\"file\" id=\"files-e3bae289-5049-49fd-b5b0-f532b08def7b\" name=\"files[]\" multiple disabled\n",
              "        style=\"border:none\" />\n",
              "     <output id=\"result-e3bae289-5049-49fd-b5b0-f532b08def7b\">\n",
              "      Upload widget is only available when the cell has been executed in the\n",
              "      current browser session. Please rerun this cell to enable.\n",
              "      </output>\n",
              "      <script src=\"/nbextensions/google.colab/files.js\"></script> "
            ],
            "text/plain": [
              "<IPython.core.display.HTML object>"
            ]
          },
          "metadata": {
            "tags": []
          }
        },
        {
          "output_type": "stream",
          "text": [
            "Saving kaggle.json to kaggle.json\n",
            "kaggle.json\n"
          ],
          "name": "stdout"
        }
      ]
    },
    {
      "cell_type": "code",
      "metadata": {
        "id": "fYIMvn93zqS2",
        "outputId": "f362f339-b5ce-43cc-a500-68c3649dd4af",
        "colab": {
          "base_uri": "https://localhost:8080/",
          "height": 1000
        }
      },
      "source": [
        "! rm -rf ./datasets\n",
        "! mkdir ./datasets\n",
        "! mkdir ./datasets/us-baby-name\n",
        "# download the dataset using wget\n",
        "! wget --directory-prefix ./datasets/us-baby-name https://www.ssa.gov/oact/babynames/state/namesbystate.zip\n",
        "! unzip ./datasets/us-baby-name/*.zip  -d ./datasets/us-baby-name/namesbystate\n",
        "# concatenate to one file\n",
        "! cat ./datasets/us-baby-name/namesbystate/*.TXT >> ./datasets/us-baby-name/namesbystate.txt"
      ],
      "execution_count": 25,
      "outputs": [
        {
          "output_type": "stream",
          "text": [
            "mkdir: cannot create directory ‘./datasets’: File exists\n",
            "mkdir: cannot create directory ‘./datasets/us-baby-name’: File exists\n",
            "--2020-10-22 11:12:57--  https://www.ssa.gov/oact/babynames/state/namesbystate.zip\n",
            "Resolving www.ssa.gov (www.ssa.gov)... 137.200.4.16, 2001:1930:e03::aaaa\n",
            "Connecting to www.ssa.gov (www.ssa.gov)|137.200.4.16|:443... connected.\n",
            "HTTP request sent, awaiting response... 200 OK\n",
            "Length: 22148032 (21M) [application/zip]\n",
            "Saving to: ‘./datasets/us-baby-name/namesbystate.zip’\n",
            "\n",
            "namesbystate.zip    100%[===================>]  21.12M   896KB/s    in 25s     \n",
            "\n",
            "2020-10-22 11:13:22 (873 KB/s) - ‘./datasets/us-baby-name/namesbystate.zip’ saved [22148032/22148032]\n",
            "\n",
            "Archive:  ./datasets/us-baby-name/namesbystate.zip\n",
            "  inflating: ./datasets/us-baby-name/namesbystate/AK.TXT  \n",
            "  inflating: ./datasets/us-baby-name/namesbystate/AL.TXT  \n",
            "  inflating: ./datasets/us-baby-name/namesbystate/AR.TXT  \n",
            "  inflating: ./datasets/us-baby-name/namesbystate/AZ.TXT  \n",
            "  inflating: ./datasets/us-baby-name/namesbystate/CA.TXT  \n",
            "  inflating: ./datasets/us-baby-name/namesbystate/CO.TXT  \n",
            "  inflating: ./datasets/us-baby-name/namesbystate/CT.TXT  \n",
            "  inflating: ./datasets/us-baby-name/namesbystate/DC.TXT  \n",
            "  inflating: ./datasets/us-baby-name/namesbystate/DE.TXT  \n",
            "  inflating: ./datasets/us-baby-name/namesbystate/FL.TXT  \n",
            "  inflating: ./datasets/us-baby-name/namesbystate/GA.TXT  \n",
            "  inflating: ./datasets/us-baby-name/namesbystate/HI.TXT  \n",
            "  inflating: ./datasets/us-baby-name/namesbystate/IA.TXT  \n",
            "  inflating: ./datasets/us-baby-name/namesbystate/ID.TXT  \n",
            "  inflating: ./datasets/us-baby-name/namesbystate/IL.TXT  \n",
            "  inflating: ./datasets/us-baby-name/namesbystate/IN.TXT  \n",
            "  inflating: ./datasets/us-baby-name/namesbystate/KS.TXT  \n",
            "  inflating: ./datasets/us-baby-name/namesbystate/KY.TXT  \n",
            "  inflating: ./datasets/us-baby-name/namesbystate/LA.TXT  \n",
            "  inflating: ./datasets/us-baby-name/namesbystate/MA.TXT  \n",
            "  inflating: ./datasets/us-baby-name/namesbystate/MD.TXT  \n",
            "  inflating: ./datasets/us-baby-name/namesbystate/ME.TXT  \n",
            "  inflating: ./datasets/us-baby-name/namesbystate/MI.TXT  \n",
            "  inflating: ./datasets/us-baby-name/namesbystate/MN.TXT  \n",
            "  inflating: ./datasets/us-baby-name/namesbystate/MO.TXT  \n",
            "  inflating: ./datasets/us-baby-name/namesbystate/MS.TXT  \n",
            "  inflating: ./datasets/us-baby-name/namesbystate/MT.TXT  \n",
            "  inflating: ./datasets/us-baby-name/namesbystate/NC.TXT  \n",
            "  inflating: ./datasets/us-baby-name/namesbystate/ND.TXT  \n",
            "  inflating: ./datasets/us-baby-name/namesbystate/NE.TXT  \n",
            "  inflating: ./datasets/us-baby-name/namesbystate/NH.TXT  \n",
            "  inflating: ./datasets/us-baby-name/namesbystate/NJ.TXT  \n",
            "  inflating: ./datasets/us-baby-name/namesbystate/NM.TXT  \n",
            "  inflating: ./datasets/us-baby-name/namesbystate/NV.TXT  \n",
            "  inflating: ./datasets/us-baby-name/namesbystate/NY.TXT  \n",
            "  inflating: ./datasets/us-baby-name/namesbystate/OH.TXT  \n",
            "  inflating: ./datasets/us-baby-name/namesbystate/OK.TXT  \n",
            "  inflating: ./datasets/us-baby-name/namesbystate/OR.TXT  \n",
            "  inflating: ./datasets/us-baby-name/namesbystate/PA.TXT  \n",
            "  inflating: ./datasets/us-baby-name/namesbystate/RI.TXT  \n",
            "  inflating: ./datasets/us-baby-name/namesbystate/SC.TXT  \n",
            "  inflating: ./datasets/us-baby-name/namesbystate/SD.TXT  \n",
            "  inflating: ./datasets/us-baby-name/namesbystate/StateReadMe.pdf  \n",
            "  inflating: ./datasets/us-baby-name/namesbystate/TN.TXT  \n",
            "  inflating: ./datasets/us-baby-name/namesbystate/TX.TXT  \n",
            "  inflating: ./datasets/us-baby-name/namesbystate/UT.TXT  \n",
            "  inflating: ./datasets/us-baby-name/namesbystate/VA.TXT  \n",
            "  inflating: ./datasets/us-baby-name/namesbystate/VT.TXT  \n",
            "  inflating: ./datasets/us-baby-name/namesbystate/WA.TXT  \n",
            "  inflating: ./datasets/us-baby-name/namesbystate/WI.TXT  \n",
            "  inflating: ./datasets/us-baby-name/namesbystate/WV.TXT  \n",
            "  inflating: ./datasets/us-baby-name/namesbystate/WY.TXT  \n"
          ],
          "name": "stdout"
        }
      ]
    },
    {
      "cell_type": "code",
      "metadata": {
        "id": "BsFnNO4TzwUa",
        "outputId": "8544f9ed-cfe3-48d4-f1b8-dd800a3182f7",
        "colab": {
          "base_uri": "https://localhost:8080/",
          "height": 36
        }
      },
      "source": [
        "import sqlite3\n",
        "import matplotlib\n",
        "import matplotlib.pyplot as plt\n",
        "import os\n",
        "%matplotlib inline\n",
        "TEXT_PATH = './datasets/us-baby-name/namesbystate.txt'\n",
        "DB_PATH = './datasets/us-baby-name/namebystate.sqlite'\n",
        "\n",
        "# Connect to the DB_PATH\n",
        "conn = sqlite3.connect(DB_PATH) \n",
        "\n",
        "# Creating the cursor as Miki said\n",
        "c = conn.cursor() \n",
        "\n",
        "# First we will start by creating the Names table.\n",
        "c.execute(\n",
        "        '''CREATE TABLE IF NOT EXISTS Names\n",
        "             ([State] text,\n",
        "              [Gender] text,\n",
        "              [Year] integer,\n",
        "              [Name] text,\n",
        "              [Number] integer)\n",
        "        '''\n",
        ")\n",
        "\n",
        "# After that we will read the text file with all the names\n",
        "with open(TEXT_PATH) as f:\n",
        "    names = f.readlines()\n",
        "\n",
        "# Using list comprehension to create the list of values\n",
        "names = [tuple(name.strip().split(\",\")) for name in names]\n",
        "\n",
        "# Now insert all values from the columns that were asked\n",
        "c.executemany(\n",
        "    '''INSERT INTO Names(State, Gender, Year, Name, Number)\n",
        "       values (?,?,?,?,?)\n",
        "    ''', names\n",
        ")"
      ],
      "execution_count": 28,
      "outputs": [
        {
          "output_type": "execute_result",
          "data": {
            "text/plain": [
              "<sqlite3.Cursor at 0x7ff641547730>"
            ]
          },
          "metadata": {
            "tags": []
          },
          "execution_count": 28
        }
      ]
    },
    {
      "cell_type": "code",
      "metadata": {
        "id": "LzAZhsQWCbDI",
        "outputId": "30850e24-4f05-4390-bbf5-f79345d6b3d6",
        "colab": {
          "base_uri": "https://localhost:8080/",
          "height": 112
        }
      },
      "source": [
        "# Let's just check the first 5 rows\n",
        "c.execute(\"SELECT * FROM Names\").fetchall()[:5]"
      ],
      "execution_count": 31,
      "outputs": [
        {
          "output_type": "execute_result",
          "data": {
            "text/plain": [
              "[('AK', 'F', 1910, 'Mary', 14),\n",
              " ('AK', 'F', 1910, 'Annie', 12),\n",
              " ('AK', 'F', 1910, 'Anna', 10),\n",
              " ('AK', 'F', 1910, 'Margaret', 8),\n",
              " ('AK', 'F', 1910, 'Helen', 7)]"
            ]
          },
          "metadata": {
            "tags": []
          },
          "execution_count": 31
        }
      ]
    },
    {
      "cell_type": "markdown",
      "metadata": {
        "id": "QEbvkQhCYCyP"
      },
      "source": [
        "**Task 2 (for everyone):** Write a query that returns the statistics for the name Mary (5pt). Use the [the timeit package](https://docs.python.org/3/library/timeit.html) to measure the time it takes the query to run (5pt). **Bonus:** [Create an index](https://www.w3schools.com/sql/sql_create_index.asp)  on the _Name_ column and use the [the timeit package](https://docs.python.org/3/library/timeit.html) to measure the time it takes the query to run with the index (5pt)"
      ]
    },
    {
      "cell_type": "code",
      "metadata": {
        "id": "YBCHPAOzYCyR",
        "outputId": "84e3f51b-ac5d-4274-cf96-e01c58e433ac",
        "colab": {
          "base_uri": "https://localhost:8080/",
          "height": 55
        }
      },
      "source": [
        "import time\n",
        "import timeit\n",
        "\n",
        "def Mary():\n",
        "    return c.execute(\"SELECT COUNT(*) FROM Names WHERE Name='Mary'\").fetchone()[0]\n",
        "\n",
        "c.execute(\"DROP INDEX IF EXISTS idx_name\")\n",
        "print(f'Time without index:{timeit.timeit(\"Mary()\", globals=globals(), number=5)}')\n",
        "\n",
        "c.execute('''CREATE INDEX IF NOT EXISTS idx_name\n",
        "             ON Names (name);''')\n",
        "print(f'Time with index:{timeit.timeit(\"Mary()\", globals=globals(), number=5)}')"
      ],
      "execution_count": 39,
      "outputs": [
        {
          "output_type": "stream",
          "text": [
            "Time without index:2.499174019999373\n",
            "Time with index:0.0019533820004653535\n"
          ],
          "name": "stdout"
        }
      ]
    },
    {
      "cell_type": "code",
      "metadata": {
        "id": "wc2XeUhfFOiV",
        "outputId": "c929f4e6-ef6f-4ac9-a2a7-5ba2a75fd0bc",
        "colab": {
          "base_uri": "https://localhost:8080/",
          "height": 36
        }
      },
      "source": [
        "print(f\"Huge diff! {2.49//0.0019} times slower\")"
      ],
      "execution_count": 40,
      "outputs": [
        {
          "output_type": "stream",
          "text": [
            "Huge diff! 1310.0 times slower\n"
          ],
          "name": "stdout"
        }
      ]
    },
    {
      "cell_type": "markdown",
      "metadata": {
        "id": "6dClZxXjYCyU"
      },
      "source": [
        "### <span style=\"color:red\"> Please answer only **one** of the following questions according to your ID number (use the formula **<YOUR_ID> mod 4 +1**) </span>"
      ]
    },
    {
      "cell_type": "code",
      "metadata": {
        "id": "iDpqwgwQYCyV",
        "outputId": "162bdd82-28c8-458e-9c80-be4fea166c7a",
        "colab": {
          "base_uri": "https://localhost:8080/",
          "height": 36
        }
      },
      "source": [
        "# which question to answer - put your ID number and run the code \n",
        "your_id  = \"305284515\"\n",
        "q = int(your_id) % 4 + 1\n",
        "print(\"You need to answer question number %s\" % q)"
      ],
      "execution_count": 38,
      "outputs": [
        {
          "output_type": "stream",
          "text": [
            "You need to answer question number 4\n"
          ],
          "name": "stdout"
        }
      ]
    },
    {
      "cell_type": "markdown",
      "metadata": {
        "id": "mRyUoBvhYCyl"
      },
      "source": [
        "**Question 4:** Write a function that returns how many male babies named _Robert where born in a given state in a given year. Use it to find the state in which the highest number of babies _Robert_ where born in 2010 (10pt)"
      ]
    },
    {
      "cell_type": "code",
      "metadata": {
        "id": "lz1q1mvPYCym",
        "outputId": "b2dc2a7e-6c00-46cc-c0c3-76ddc64f9699",
        "colab": {
          "base_uri": "https://localhost:8080/",
          "height": 36
        }
      },
      "source": [
        "def find_babies(year, state=None):\n",
        "    num = c.execute(\n",
        "    f'''SELECT Number\n",
        "        FROM Names\n",
        "        WHERE State='{state}' AND\n",
        "              Gender='M' AND\n",
        "              Name='Robert' AND\n",
        "              Year={year}\n",
        "    '''\n",
        "    ).fetchone()[0]\n",
        "    return num\n",
        "\n",
        "def find_babies_max():\n",
        "  states = c.execute(\n",
        "    f'''SELECT Distinct(State)\n",
        "        FROM Names\n",
        "    '''\n",
        "    ).fetchall()\n",
        "  states = [state[0] for state in states]\n",
        "  max_num, max_state = 0, ''\n",
        "  for state in states:\n",
        "    curr_state_num = find_babies(2010, state)\n",
        "    if curr_state_num > max_num:\n",
        "      max_num = curr_state_num\n",
        "      max_state = state\n",
        "  print(f'State {max_state} has {max_num} Robert in 2010')\n",
        "\n",
        "\n",
        "find_babies_max()"
      ],
      "execution_count": 67,
      "outputs": [
        {
          "output_type": "stream",
          "text": [
            "State CA has 853 Robert in 2010\n"
          ],
          "name": "stdout"
        }
      ]
    },
    {
      "cell_type": "markdown",
      "metadata": {
        "id": "THz0vDHHYCyo"
      },
      "source": [
        "**Question (for everyone):** For the state of CA write code that calculates the second most popular female/male names in each decade (10pt). **Bonus**: Visualize it somehow using Matplotlib (5pt)"
      ]
    },
    {
      "cell_type": "code",
      "metadata": {
        "id": "dVRTQGOS_3G9",
        "outputId": "9e2d7ac9-0429-46cb-877d-ae32c7ed421a",
        "colab": {
          "base_uri": "https://localhost:8080/",
          "height": 436
        }
      },
      "source": [
        "def find_second_most(decade, gender):\n",
        "  print(decade, gender, c.execute(\n",
        "      f'''SELECT SUBSTR(Year, 1, 3), Gender, Name, Number\n",
        "          FROM Names\n",
        "          WHERE State='CA' AND\n",
        "                Gender='{gender}' AND\n",
        "                (SUBSTR(Year, 1, 3))='{int(decade / 10)}'\n",
        "          GROUP BY SUBSTR(Year, 1, 3), Name\n",
        "          ORDER BY 4 DESC LIMIT 2\n",
        "      ''').fetchall()[1])\n",
        "  \n",
        "for decs in range(1910,2020,10):\n",
        "  for gen in ['M','F']:\n",
        "    find_second_most(decs, gen)"
      ],
      "execution_count": 112,
      "outputs": [
        {
          "output_type": "stream",
          "text": [
            "1910 M ('191', 'M', 'John', 1159)\n",
            "1910 F ('191', 'F', 'Dorothy', 870)\n",
            "1920 M ('192', 'M', 'John', 1528)\n",
            "1920 F ('192', 'F', 'Barbara', 1378)\n",
            "1930 M ('193', 'M', 'Richard', 2123)\n",
            "1930 F ('193', 'F', 'Barbara', 1620)\n",
            "1940 M ('194', 'M', 'Michael', 5364)\n",
            "1940 F ('194', 'F', 'Mary', 3220)\n",
            "1950 M ('195', 'M', 'Michael', 7456)\n",
            "1950 F ('195', 'F', 'Karen', 3134)\n",
            "1960 M ('196', 'M', 'David', 6566)\n",
            "1960 F ('196', 'F', 'Michelle', 3829)\n",
            "1970 M ('197', 'M', 'David', 4875)\n",
            "1970 F ('197', 'F', 'Melissa', 3006)\n",
            "1980 M ('198', 'M', 'Christopher', 6489)\n",
            "1980 F ('198', 'F', 'Ashley', 4509)\n",
            "1990 M ('199', 'M', 'Jose', 3870)\n",
            "1990 F ('199', 'F', 'Samantha', 2787)\n",
            "2000 M ('200', 'M', 'Anthony', 3088)\n",
            "2000 F ('200', 'F', 'Sophia', 2662)\n",
            "2010 M ('201', 'M', 'Liam', 2387)\n",
            "2010 F ('201', 'F', 'Emma', 2385)\n"
          ],
          "name": "stdout"
        }
      ]
    },
    {
      "cell_type": "markdown",
      "metadata": {
        "id": "gmdQrLL9YCyp"
      },
      "source": [
        "# 2. Flavors of Cacao Dataset (15pt)"
      ]
    },
    {
      "cell_type": "markdown",
      "metadata": {
        "id": "dTpNKH7UYCyq"
      },
      "source": [
        "Using the [Flavors of Cacao](https://www.kaggle.com/rombikuboktaeder/choco-flavors) dataset, answer the following questions:"
      ]
    },
    {
      "cell_type": "markdown",
      "metadata": {
        "id": "wbg9gkVtYCyr"
      },
      "source": [
        "**Question 1:** Write a function that returns the number of bars manufactured where the bars' BroadBean Origin is a given country. Use the function to calculate the number of bars where BroadBean Origin is 'Fiji' (15pt)"
      ]
    },
    {
      "cell_type": "code",
      "metadata": {
        "id": "D5FWfEiaYCys"
      },
      "source": [
        ""
      ],
      "execution_count": null,
      "outputs": []
    },
    {
      "cell_type": "markdown",
      "metadata": {
        "id": "9GCvKxWtYCyu"
      },
      "source": [
        "**Question 2:** Write a function that returns the maximal and average cocoa percentage in a bar manufactured by a company in a specific country. Use the function to calculate the minimal and average cocoa percentage in bars manufactured by a Swiss company (15pt)."
      ]
    },
    {
      "cell_type": "code",
      "metadata": {
        "id": "KZJXxtwWYCyv"
      },
      "source": [
        ""
      ],
      "execution_count": null,
      "outputs": []
    },
    {
      "cell_type": "markdown",
      "metadata": {
        "id": "GlYqUA1xYCyx"
      },
      "source": [
        "**Question 3:** Calculate the second most common bean type(s) and the most rare bean type(s) (15\n",
        "pt)"
      ]
    },
    {
      "cell_type": "code",
      "metadata": {
        "id": "kk0qIAiwYCyx"
      },
      "source": [
        ""
      ],
      "execution_count": null,
      "outputs": []
    },
    {
      "cell_type": "markdown",
      "metadata": {
        "id": "aOg-NK_lYCyz"
      },
      "source": [
        "**Question 4:** Calculate the number of reviews and the average rating in each year. Calculate the number of reviews and the average rating of each company in each year (15pt)"
      ]
    },
    {
      "cell_type": "code",
      "metadata": {
        "id": "KPh-3dqAAMs4",
        "outputId": "0c9c3cd3-bb64-4983-c369-bc46469d8fb9",
        "colab": {
          "base_uri": "https://localhost:8080/",
          "height": 227
        }
      },
      "source": [
        "!pip install pony"
      ],
      "execution_count": 10,
      "outputs": [
        {
          "output_type": "stream",
          "text": [
            "Collecting pony\n",
            "\u001b[?25l  Downloading https://files.pythonhosted.org/packages/48/e4/45fa6185e86edfa97eef5a4fbe3f29f537de7f36c032ff7c54676310dcb1/pony-0.7.13.tar.gz (284kB)\n",
            "\r\u001b[K     |█▏                              | 10kB 26.0MB/s eta 0:00:01\r\u001b[K     |██▎                             | 20kB 5.8MB/s eta 0:00:01\r\u001b[K     |███▌                            | 30kB 6.8MB/s eta 0:00:01\r\u001b[K     |████▋                           | 40kB 8.0MB/s eta 0:00:01\r\u001b[K     |█████▊                          | 51kB 6.2MB/s eta 0:00:01\r\u001b[K     |███████                         | 61kB 7.2MB/s eta 0:00:01\r\u001b[K     |████████                        | 71kB 7.7MB/s eta 0:00:01\r\u001b[K     |█████████▏                      | 81kB 8.2MB/s eta 0:00:01\r\u001b[K     |██████████▍                     | 92kB 7.6MB/s eta 0:00:01\r\u001b[K     |███████████▌                    | 102kB 8.0MB/s eta 0:00:01\r\u001b[K     |████████████▋                   | 112kB 8.0MB/s eta 0:00:01\r\u001b[K     |█████████████▉                  | 122kB 8.0MB/s eta 0:00:01\r\u001b[K     |███████████████                 | 133kB 8.0MB/s eta 0:00:01\r\u001b[K     |████████████████▏               | 143kB 8.0MB/s eta 0:00:01\r\u001b[K     |█████████████████▎              | 153kB 8.0MB/s eta 0:00:01\r\u001b[K     |██████████████████▍             | 163kB 8.0MB/s eta 0:00:01\r\u001b[K     |███████████████████▋            | 174kB 8.0MB/s eta 0:00:01\r\u001b[K     |████████████████████▊           | 184kB 8.0MB/s eta 0:00:01\r\u001b[K     |█████████████████████▉          | 194kB 8.0MB/s eta 0:00:01\r\u001b[K     |███████████████████████         | 204kB 8.0MB/s eta 0:00:01\r\u001b[K     |████████████████████████▏       | 215kB 8.0MB/s eta 0:00:01\r\u001b[K     |█████████████████████████▎      | 225kB 8.0MB/s eta 0:00:01\r\u001b[K     |██████████████████████████▌     | 235kB 8.0MB/s eta 0:00:01\r\u001b[K     |███████████████████████████▋    | 245kB 8.0MB/s eta 0:00:01\r\u001b[K     |████████████████████████████▊   | 256kB 8.0MB/s eta 0:00:01\r\u001b[K     |██████████████████████████████  | 266kB 8.0MB/s eta 0:00:01\r\u001b[K     |███████████████████████████████ | 276kB 8.0MB/s eta 0:00:01\r\u001b[K     |████████████████████████████████| 286kB 8.0MB/s \n",
            "\u001b[?25hBuilding wheels for collected packages: pony\n",
            "  Building wheel for pony (setup.py) ... \u001b[?25l\u001b[?25hdone\n",
            "  Created wheel for pony: filename=pony-0.7.13-cp36-none-any.whl size=345365 sha256=01556c19a2340c91cd53ddd7d86d3ce96c92c241b7ba553d70c4f5d0bf9704a3\n",
            "  Stored in directory: /root/.cache/pip/wheels/ca/c7/66/a9192d0ea4bcb17a25164284ec89b4563a6afbf7333947c0ea\n",
            "Successfully built pony\n",
            "Installing collected packages: pony\n",
            "Successfully installed pony-0.7.13\n"
          ],
          "name": "stdout"
        }
      ]
    },
    {
      "cell_type": "code",
      "metadata": {
        "id": "e8qwHAldYCy0",
        "outputId": "6cfec232-26a6-4ac2-a791-a36b37520bcf",
        "colab": {
          "base_uri": "https://localhost:8080/",
          "height": 208
        }
      },
      "source": [
        "!kaggle datasets list -s choco_flavors\n",
        "!kaggle datasets download rombikuboktaeder/choco-flavors -p ./datasets/choco-flavors/\n",
        "!unzip ./datasets/choco-flavors/choco-flavors.zip -d ./datasets/choco-flavors/\n",
        "!pip install pony"
      ],
      "execution_count": 4,
      "outputs": [
        {
          "output_type": "stream",
          "text": [
            "Warning: Looks like you're using an outdated API Version, please consider updating (server 1.5.9 / client 1.5.4)\n",
            "ref                             title          size  lastUpdated          downloadCount  \n",
            "------------------------------  -------------  ----  -------------------  -------------  \n",
            "rombikuboktaeder/choco-flavors  choco_flavors  30KB  2018-04-01 04:36:29            741  \n",
            "Downloading choco-flavors.zip to ./datasets/choco-flavors\n",
            "  0% 0.00/30.3k [00:00<?, ?B/s]\n",
            "100% 30.3k/30.3k [00:00<00:00, 52.7MB/s]\n",
            "Archive:  ./datasets/choco-flavors/choco-flavors.zip\n",
            "  inflating: ./datasets/choco-flavors/flavors_of_cacao.csv  \n"
          ],
          "name": "stdout"
        }
      ]
    },
    {
      "cell_type": "code",
      "metadata": {
        "id": "CKMqdW_pO7SW"
      },
      "source": [
        "import sqlite3\n",
        "import matplotlib\n",
        "import matplotlib.pyplot as plt\n",
        "import os\n",
        "%matplotlib inline\n",
        "DB_PATH = './datasets/choco-flavors/flavors_of_cacao.csv'"
      ],
      "execution_count": null,
      "outputs": []
    },
    {
      "cell_type": "code",
      "metadata": {
        "id": "l-2MOXr1P-XA",
        "outputId": "7dd560f7-ae03-49fd-ed91-8165b5eaed44",
        "colab": {
          "base_uri": "https://localhost:8080/",
          "height": 226
        }
      },
      "source": [
        "import pandas\n",
        "import numpy as np\n",
        "\n",
        "# pandas can find csv inside the zip itself\n",
        "df = pandas.read_csv(\"./datasets/choco-flavors/choco-flavors.zip\")\n",
        "df = df.replace(np.nan, '', regex=True)\n",
        "\n",
        "for idx, row in df.iterrows():\n",
        "    ChocoFlavor(\n",
        "            Company=row['Company\\xa0\\n(Maker-if known)'],\n",
        "            BeanOrigin=row['Specific Bean Origin\\nor Bar Name'],\n",
        "            REF=row['REF'],\n",
        "            ReviewDate=row['Review\\nDate'],\n",
        "            CocoaPrecent=row['Cocoa\\nPercent'],\n",
        "            Location=row['Company\\nLocation'],\n",
        "            Rating=row['Rating'],\n",
        "            BeanType=row['Bean\\nType'],\n",
        "            BroadBeanOrigin=row['Broad Bean\\nOrigin']\n",
        "    )\n",
        "show(ChocoFlavor)\n",
        "commit()"
      ],
      "execution_count": 11,
      "outputs": [
        {
          "output_type": "stream",
          "text": [
            "class ChocoFlavor(Entity):\n",
            "    id = PrimaryKey(int, auto=True)\n",
            "    Company = Optional(str, default='')\n",
            "    BeanOrigin = Required(str)\n",
            "    REF = Required(int)\n",
            "    ReviewDate = Required(int)\n",
            "    CocoaPrecent = Required(str)\n",
            "    Location = Required(str)\n",
            "    Rating = Required(float)\n",
            "    BeanType = Optional(str, default='')\n",
            "    BroadBeanOrigin = Optional(str, default='')\n"
          ],
          "name": "stdout"
        }
      ]
    },
    {
      "cell_type": "code",
      "metadata": {
        "id": "rVUB8mRVQA9T",
        "outputId": "8538af6a-5771-492c-eac1-6c525f2eda36",
        "colab": {
          "base_uri": "https://localhost:8080/",
          "height": 245
        }
      },
      "source": [
        "# number of reviews and average rating per year\n",
        "list(select((c.ReviewDate, count(c), avg(c.Rating)) for c in ChocoFlavor))"
      ],
      "execution_count": 13,
      "outputs": [
        {
          "output_type": "execute_result",
          "data": {
            "text/plain": [
              "[(2006, 72, 3.125),\n",
              " (2007, 77, 3.1623376623376624),\n",
              " (2008, 93, 2.9946236559139785),\n",
              " (2009, 123, 3.073170731707317),\n",
              " (2010, 111, 3.1486486486486487),\n",
              " (2011, 165, 3.256060606060606),\n",
              " (2012, 195, 3.178205128205128),\n",
              " (2013, 184, 3.1970108695652173),\n",
              " (2014, 247, 3.1892712550607287),\n",
              " (2015, 285, 3.2464912280701754),\n",
              " (2016, 219, 3.2260273972602738),\n",
              " (2017, 24, 3.3125)]"
            ]
          },
          "metadata": {
            "tags": []
          },
          "execution_count": 13
        }
      ]
    },
    {
      "cell_type": "code",
      "metadata": {
        "id": "lsPkkDLwQY1C",
        "outputId": "3efbb340-7f7b-494d-f1a8-2a4d3c94eef4",
        "colab": {
          "base_uri": "https://localhost:8080/",
          "height": 1000
        }
      },
      "source": [
        "# number of reviews and average rating per company per year\n",
        "list(select((c.Company, c.ReviewDate, count(c), avg(c.Rating)) for c in ChocoFlavor))"
      ],
      "execution_count": 15,
      "outputs": [
        {
          "output_type": "execute_result",
          "data": {
            "text/plain": [
              "[('A. Morin', 2012, 2, 3.625),\n",
              " ('A. Morin', 2013, 11, 3.3181818181818183),\n",
              " ('A. Morin', 2014, 5, 3.5),\n",
              " ('A. Morin', 2015, 4, 3.1875),\n",
              " ('A. Morin', 2016, 1, 3.75),\n",
              " ('AMMA', 2010, 4, 3.5625),\n",
              " ('AMMA', 2013, 1, 3.25),\n",
              " ('Acalli', 2015, 2, 3.75),\n",
              " ('Adi', 2011, 4, 3.25),\n",
              " ('Aequare (Gianduja)', 2009, 2, 2.875),\n",
              " ('Ah Cacao', 2009, 1, 3.0),\n",
              " (\"Akesson's (Pralus)\", 2010, 2, 2.75),\n",
              " (\"Akesson's (Pralus)\", 2011, 1, 3.75),\n",
              " ('Alain Ducasse', 2013, 2, 2.5),\n",
              " ('Alain Ducasse', 2014, 3, 2.8333333333333335),\n",
              " ('Alexandre', 2017, 4, 3.5),\n",
              " ('Altus aka Cao Artisan', 2013, 5, 3.0),\n",
              " ('Altus aka Cao Artisan', 2016, 5, 2.7),\n",
              " ('Amano', 2007, 3, 3.4166666666666665),\n",
              " ('Amano', 2008, 1, 2.75),\n",
              " ('Amano', 2009, 1, 3.0),\n",
              " ('Amano', 2010, 3, 3.5833333333333335),\n",
              " ('Amano', 2011, 1, 4.0),\n",
              " ('Amatller (Simon Coll)', 2009, 4, 2.875),\n",
              " ('Amazona', 2013, 2, 3.375),\n",
              " ('Ambrosia', 2015, 6, 3.25),\n",
              " ('Amedei', 2006, 2, 4.5),\n",
              " ('Amedei', 2007, 10, 3.725),\n",
              " ('Amedei', 2012, 1, 3.75),\n",
              " ('Anahata', 2014, 1, 3.0),\n",
              " ('Animas', 2016, 1, 3.5),\n",
              " ('Ara', 2014, 4, 2.8125),\n",
              " ('Arete', 2015, 9, 3.5),\n",
              " ('Arete', 2016, 13, 3.5576923076923075),\n",
              " ('Artisan du Chocolat', 2008, 1, 3.75),\n",
              " ('Artisan du Chocolat', 2009, 6, 2.7083333333333335),\n",
              " ('Artisan du Chocolat', 2010, 5, 3.1),\n",
              " ('Artisan du Chocolat', 2011, 2, 3.375),\n",
              " ('Artisan du Chocolat', 2012, 1, 3.75),\n",
              " ('Artisan du Chocolat', 2013, 1, 3.25),\n",
              " ('Artisan du Chocolat (Casa Luker)', 2013, 1, 2.75),\n",
              " ('Askinosie', 2007, 2, 2.75),\n",
              " ('Askinosie', 2009, 1, 3.75),\n",
              " ('Askinosie', 2011, 2, 3.75),\n",
              " ('Askinosie', 2016, 1, 3.75),\n",
              " ('Bahen & Co.', 2012, 3, 2.6666666666666665),\n",
              " ('Bahen & Co.', 2015, 2, 3.375),\n",
              " ('Bakau', 2015, 2, 3.125),\n",
              " ('Bar Au Chocolat', 2012, 3, 3.5),\n",
              " ('Bar Au Chocolat', 2014, 1, 4.0),\n",
              " ('Bar Au Chocolat', 2015, 1, 3.5),\n",
              " (\"Baravelli's\", 2012, 1, 2.75),\n",
              " ('Batch', 2016, 3, 3.5),\n",
              " ('Beau Cacao', 2017, 2, 3.125),\n",
              " ('Beehive', 2016, 4, 2.75),\n",
              " ('Belcolade', 2010, 4, 2.9375),\n",
              " ('Bellflower', 2016, 3, 3.4166666666666665),\n",
              " ('Belyzium', 2016, 3, 3.0833333333333335),\n",
              " ('Benoit Nihant', 2011, 2, 3.875),\n",
              " ('Benoit Nihant', 2013, 4, 3.625),\n",
              " ('Bernachon', 2012, 1, 2.75),\n",
              " ('Beschle (Felchlin)', 2010, 4, 3.375),\n",
              " ('Beschle (Felchlin)', 2011, 4, 3.375),\n",
              " ('Bisou', 2015, 4, 2.6875),\n",
              " ('Bittersweet Origins', 2008, 4, 3.3125),\n",
              " ('Bittersweet Origins', 2009, 4, 3.3125),\n",
              " ('Bittersweet Origins', 2010, 5, 3.15),\n",
              " ('Bittersweet Origins', 2012, 1, 3.5),\n",
              " ('Black Mountain', 2008, 3, 2.8333333333333335),\n",
              " ('Black River (A. Morin)', 2014, 1, 2.75),\n",
              " ('Blanxart', 2009, 1, 2.75),\n",
              " ('Blanxart', 2013, 1, 3.5),\n",
              " ('Blue Bandana', 2012, 2, 3.625),\n",
              " ('Blue Bandana', 2016, 4, 3.1875),\n",
              " ('Bonnat', 2006, 7, 3.4642857142857144),\n",
              " ('Bonnat', 2007, 1, 2.5),\n",
              " ('Bonnat', 2008, 1, 4.0),\n",
              " ('Bonnat', 2009, 4, 2.9375),\n",
              " ('Bonnat', 2011, 8, 3.625),\n",
              " ('Bonnat', 2013, 2, 3.375),\n",
              " ('Bonnat', 2014, 3, 3.6666666666666665),\n",
              " ('Bonnat', 2016, 1, 3.5),\n",
              " ('Bouga Cacao (Tulicorp)', 2009, 2, 2.375),\n",
              " ('Bowler Man', 2014, 2, 2.75),\n",
              " (\"Brasstown aka It's Chocolate\", 2013, 4, 3.3125),\n",
              " (\"Brasstown aka It's Chocolate\", 2014, 2, 3.875),\n",
              " (\"Brasstown aka It's Chocolate\", 2015, 1, 3.75),\n",
              " (\"Brasstown aka It's Chocolate\", 2016, 2, 3.625),\n",
              " ('Brazen', 2015, 6, 3.1666666666666665),\n",
              " ('Breeze Mill', 2013, 1, 3.0),\n",
              " ('Bright', 2014, 4, 3.1875),\n",
              " ('Britarev', 2015, 1, 3.25),\n",
              " ('Bronx Grrl Chocolate', 2013, 1, 2.75),\n",
              " ('Burnt Fork Bend', 2014, 5, 3.15),\n",
              " ('C-Amaro', 2011, 2, 2.375),\n",
              " ('C-Amaro', 2012, 1, 3.0),\n",
              " ('C-Amaro', 2013, 1, 3.5),\n",
              " ('C-Amaro', 2014, 3, 3.0),\n",
              " ('Cacao Arabuco', 2015, 1, 2.5),\n",
              " ('Cacao Atlanta', 2010, 3, 2.5),\n",
              " ('Cacao Atlanta', 2014, 1, 2.5),\n",
              " ('Cacao Barry', 2007, 2, 2.5),\n",
              " ('Cacao Barry', 2008, 1, 2.0),\n",
              " ('Cacao Barry', 2010, 1, 3.0),\n",
              " ('Cacao Barry', 2016, 1, 3.5),\n",
              " ('Cacao Hunters', 2014, 4, 3.25),\n",
              " ('Cacao Hunters', 2015, 1, 3.75),\n",
              " ('Cacao Hunters', 2016, 2, 3.75),\n",
              " ('Cacao Market', 2016, 1, 3.5),\n",
              " ('Cacao Prieto', 2011, 3, 3.3333333333333335),\n",
              " ('Cacao Prieto', 2012, 1, 3.75),\n",
              " ('Cacao Sampaka', 2009, 2, 4.0),\n",
              " ('Cacao Sampaka', 2010, 6, 3.5833333333333335),\n",
              " ('Cacao Sampaka', 2016, 1, 3.5),\n",
              " ('Cacao Store', 2015, 3, 3.25),\n",
              " ('Cacao de Origen', 2014, 4, 3.25),\n",
              " ('Cacao de Origen', 2015, 2, 3.375),\n",
              " ('Cacao de Origin', 2015, 1, 3.25),\n",
              " ('Cacaosuyo (Theobroma Inversiones)', 2013, 1, 3.25),\n",
              " ('Cacaoyere (Ecuatoriana)', 2008, 4, 2.75),\n",
              " ('Callebaut', 2007, 1, 1.0),\n",
              " ('Callebaut', 2008, 1, 2.75),\n",
              " ('Cao', 2016, 5, 2.9),\n",
              " ('Caoni (Tulicorp)', 2008, 6, 2.8333333333333335),\n",
              " ('Captain Pembleton', 2014, 2, 3.625),\n",
              " ('Caribeans', 2012, 2, 2.875),\n",
              " ('Caribeans', 2015, 3, 3.4166666666666665),\n",
              " ('Carlotta Chocolat', 2016, 5, 3.3),\n",
              " ('Castronovo', 2013, 7, 3.0357142857142856),\n",
              " ('Castronovo', 2014, 3, 3.25),\n",
              " ('Castronovo', 2015, 3, 3.5833333333333335),\n",
              " ('Castronovo', 2016, 1, 4.0),\n",
              " ('Cello', 2014, 4, 2.75),\n",
              " ('Cemoi', 2009, 1, 2.75),\n",
              " ('Chaleur B', 2014, 1, 2.75),\n",
              " ('Charm School', 2016, 1, 3.25),\n",
              " ('Chchukululu (Tulicorp)', 2008, 1, 3.0),\n",
              " ('Chchukululu (Tulicorp)', 2010, 1, 2.75),\n",
              " ('Chequessett', 2014, 1, 3.5),\n",
              " ('Chloe Chocolat', 2011, 1, 3.5),\n",
              " ('Chocablog', 2015, 1, 3.25),\n",
              " ('Choco Del Sol', 2014, 2, 3.125),\n",
              " ('Choco Dong', 2015, 2, 3.125),\n",
              " ('ChocoReko', 2015, 1, 3.0),\n",
              " (\"Chocola'te\", 2011, 2, 3.75),\n",
              " ('Chocolarder', 2015, 3, 2.5833333333333335),\n",
              " ('Chocolate Alchemist-Philly', 2016, 2, 2.5),\n",
              " ('Chocolate Con Amor', 2016, 7, 2.892857142857143),\n",
              " ('Chocolate Conspiracy', 2014, 1, 2.75),\n",
              " ('Chocolate Makers', 2015, 3, 3.5),\n",
              " ('Chocolate Tree, The', 2012, 3, 2.8333333333333335),\n",
              " ('Chocolate Tree, The', 2013, 1, 3.75),\n",
              " ('Chocolate Tree, The', 2015, 2, 3.75),\n",
              " ('Chocolats Privilege', 2014, 1, 2.5),\n",
              " ('Chocosol', 2011, 1, 3.25),\n",
              " ('Chocovic', 2007, 3, 2.6666666666666665),\n",
              " ('Chocovic', 2008, 1, 3.5),\n",
              " ('Chocovic', 2009, 2, 3.25),\n",
              " ('Chocovic', 2010, 2, 3.375),\n",
              " ('Chocovivo', 2015, 2, 2.5),\n",
              " ('Choklat', 2009, 5, 2.85),\n",
              " ('Chokolat Elot (Girard)', 2013, 1, 2.75),\n",
              " ('Choocsol', 2016, 1, 3.25),\n",
              " ('Christopher Morel (Felchlin)', 2011, 1, 3.75),\n",
              " ('Chuao Chocolatier', 2009, 1, 3.0),\n",
              " ('Chuao Chocolatier (Pralus)', 2010, 1, 2.75),\n",
              " ('Claudio Corallo', 2008, 3, 2.6666666666666665),\n",
              " ('Claudio Corallo', 2010, 1, 3.75),\n",
              " ('Cloudforest', 2015, 1, 3.5),\n",
              " ('Coleman & Davis', 2015, 1, 3.0),\n",
              " ('Compania de Chocolate (Salgado)', 2008, 4, 3.125),\n",
              " ('Compania de Chocolate (Salgado)', 2010, 1, 3.25),\n",
              " ('Condor', 2015, 1, 3.5),\n",
              " ('Confluence', 2016, 1, 2.75),\n",
              " ('Coppeneur', 2007, 1, 3.0),\n",
              " ('Coppeneur', 2008, 2, 3.0),\n",
              " ('Coppeneur', 2009, 4, 3.375),\n",
              " ('Coppeneur', 2010, 6, 3.0416666666666665),\n",
              " ('Coppeneur', 2012, 4, 3.0625),\n",
              " ('Coppeneur', 2013, 1, 3.25),\n",
              " (\"Cote d' Or (Kraft)\", 2006, 1, 1.0),\n",
              " ('Cravve', 2012, 5, 3.3),\n",
              " ('Cravve', 2014, 2, 2.625),\n",
              " ('Creo', 2016, 2, 3.5),\n",
              " ('DAR', 2016, 3, 3.0),\n",
              " ('Daintree', 2011, 1, 3.25),\n",
              " ('Daintree', 2015, 1, 2.75),\n",
              " ('Dalloway', 2017, 1, 2.75),\n",
              " ('Damson', 2015, 4, 2.875),\n",
              " ('Dandelion', 2011, 3, 3.25),\n",
              " ('Dandelion', 2012, 3, 3.3333333333333335),\n",
              " ('Dandelion', 2013, 4, 3.25),\n",
              " ('Dandelion', 2014, 4, 3.375),\n",
              " ('Dandelion', 2015, 1, 3.0),\n",
              " ('Dandelion', 2016, 1, 3.75),\n",
              " ('Danta', 2009, 2, 3.125),\n",
              " ('Danta', 2011, 1, 3.5),\n",
              " ('Danta', 2012, 5, 3.55),\n",
              " ('Danta', 2014, 1, 3.25),\n",
              " ('Dark Forest', 2015, 4, 3.125),\n",
              " ('Dark Forest', 2016, 1, 3.25),\n",
              " ('Davis', 2012, 1, 3.25),\n",
              " ('Davis', 2013, 3, 2.6666666666666665),\n",
              " ('De Mendes', 2015, 2, 3.5),\n",
              " ('De Villiers', 2016, 2, 2.75),\n",
              " ('DeVries', 2007, 2, 3.5),\n",
              " ('DeVries', 2008, 1, 2.75),\n",
              " ('Dean and Deluca (Belcolade)', 2007, 6, 2.9166666666666665),\n",
              " ('Debauve & Gallais (Michel Cluizel)', 2008, 1, 3.75),\n",
              " ('Debauve & Gallais (Michel Cluizel)', 2009, 1, 3.0),\n",
              " ('Desbarres', 2016, 1, 2.5),\n",
              " ('Dick Taylor', 2011, 5, 2.95),\n",
              " ('Dick Taylor', 2012, 2, 2.75),\n",
              " ('Dick Taylor', 2013, 2, 3.375),\n",
              " ('Dick Taylor', 2014, 1, 3.5),\n",
              " ('Dick Taylor', 2015, 1, 3.75),\n",
              " ('Dick Taylor', 2016, 1, 3.5),\n",
              " ('Dick Taylor', 2017, 1, 3.75),\n",
              " ('Doble & Bignall', 2014, 3, 3.3333333333333335),\n",
              " ('Doble & Bignall', 2015, 1, 3.0),\n",
              " ('Dole (Guittard)', 2009, 1, 3.75),\n",
              " ('Dolfin (Belcolade)', 2006, 1, 1.5),\n",
              " ('Dolfin (Belcolade)', 2008, 1, 3.0),\n",
              " ('Domori', 2006, 3, 3.25),\n",
              " ('Domori', 2007, 8, 3.65625),\n",
              " ('Domori', 2008, 4, 3.3125),\n",
              " ('Domori', 2010, 1, 3.0),\n",
              " ('Domori', 2011, 1, 3.5),\n",
              " ('Domori', 2012, 2, 3.625),\n",
              " ('Domori', 2013, 1, 3.0),\n",
              " ('Domori', 2015, 2, 3.75),\n",
              " ('Dormouse', 2015, 3, 2.6666666666666665),\n",
              " ('Dormouse', 2016, 1, 2.75),\n",
              " (\"Duffy's\", 2010, 4, 3.375),\n",
              " (\"Duffy's\", 2011, 5, 3.4),\n",
              " (\"Duffy's\", 2012, 1, 3.75),\n",
              " (\"Duffy's\", 2014, 2, 3.625),\n",
              " (\"Duffy's\", 2015, 1, 4.0),\n",
              " ('Dulcinea', 2015, 1, 3.25),\n",
              " ('Durand', 2012, 1, 2.75),\n",
              " ('Durci', 2015, 5, 3.5),\n",
              " ('ENNA', 2016, 1, 3.25),\n",
              " ('East Van Roasters', 2014, 3, 3.5),\n",
              " ('Eau de Rose', 2016, 2, 3.25),\n",
              " ('Eclat (Felchlin)', 2012, 1, 2.75),\n",
              " ('Edelmond', 2016, 1, 3.0),\n",
              " ('El Ceibo', 2008, 1, 2.75),\n",
              " ('El Ceibo', 2011, 1, 3.75),\n",
              " ('El Rey', 2006, 1, 2.75),\n",
              " ('El Rey', 2008, 3, 2.6666666666666665),\n",
              " ('El Rey', 2009, 2, 2.875),\n",
              " ('El Rey', 2015, 1, 3.75),\n",
              " ('Emerald Estate', 2013, 2, 3.0),\n",
              " (\"Emily's\", 2015, 2, 3.25),\n",
              " ('Enric Rovira (Claudio Corallo)', 2010, 1, 3.25),\n",
              " ('Erithaj (A. Morin)', 2014, 3, 3.1666666666666665),\n",
              " ('Escazu', 2008, 1, 3.0),\n",
              " ('Escazu', 2009, 3, 2.75),\n",
              " ('Escazu', 2012, 1, 2.75),\n",
              " (\"Ethel's Artisan (Mars)\", 2011, 5, 2.55),\n",
              " ('Ethereal', 2014, 3, 3.4166666666666665),\n",
              " ('Fearless (AMMA)', 2010, 1, 2.75),\n",
              " ('Feitoria Cacao', 2016, 3, 2.75),\n",
              " ('Felchlin', 2006, 6, 3.0833333333333335),\n",
              " ('Felchlin', 2010, 1, 3.5),\n",
              " ('Finca', 2014, 4, 2.75),\n",
              " ('Forever Cacao', 2014, 1, 2.75),\n",
              " ('Forteza (Cortes)', 2016, 2, 2.75),\n",
              " ('Fossa', 2016, 3, 3.3333333333333335),\n",
              " ('Franceschi', 2012, 2, 3.625),\n",
              " ('Franceschi', 2014, 2, 3.625),\n",
              " ('Frederic Blondeel', 2014, 2, 3.5),\n",
              " ('Frederic Blondeel', 2015, 3, 3.3333333333333335),\n",
              " ('French Broad', 2011, 2, 3.5),\n",
              " ('French Broad', 2012, 3, 2.6666666666666665),\n",
              " ('French Broad', 2013, 1, 3.5),\n",
              " ('French Broad', 2014, 2, 3.125),\n",
              " ('French Broad', 2015, 1, 3.5),\n",
              " ('French Broad', 2017, 1, 3.5),\n",
              " ('Fresco', 2009, 4, 3.125),\n",
              " ('Fresco', 2011, 9, 3.25),\n",
              " ('Fresco', 2012, 5, 3.6),\n",
              " ('Fresco', 2013, 4, 3.6875),\n",
              " ('Fresco', 2014, 4, 3.375),\n",
              " ('Friis Holm', 2016, 1, 3.5),\n",
              " ('Friis Holm (Bonnat)', 2011, 3, 3.4166666666666665),\n",
              " ('Friis Holm (Bonnat)', 2012, 4, 3.375),\n",
              " ('Friis Holm (Bonnat)', 2013, 2, 3.375),\n",
              " ('Friis Holm (Bonnat)', 2014, 1, 3.5),\n",
              " ('Friis Holm (Bonnat)', 2015, 2, 3.125),\n",
              " ('Fruition', 2011, 2, 3.125),\n",
              " ('Fruition', 2012, 1, 2.5),\n",
              " ('Fruition', 2013, 2, 3.375),\n",
              " ('Fruition', 2014, 2, 3.375),\n",
              " ('Fruition', 2016, 2, 3.875),\n",
              " ('Garden Island', 2014, 1, 2.5),\n",
              " ('Georgia Ramon', 2015, 5, 3.55),\n",
              " ('Glennmade', 2015, 1, 3.0),\n",
              " ('Glennmade', 2016, 1, 3.5),\n",
              " ('Goodnow Farms', 2016, 3, 3.0833333333333335),\n",
              " ('Grand Place', 2011, 1, 3.0),\n",
              " (\"Green & Black's (ICAM)\", 2006, 1, 2.5),\n",
              " ('Green Bean to Bar', 2016, 1, 3.5),\n",
              " ('Grenada Chocolate Co.', 2008, 1, 2.5),\n",
              " ('Grenada Chocolate Co.', 2009, 1, 2.75),\n",
              " ('Grenada Chocolate Co.', 2010, 1, 3.25),\n",
              " ('Guido Castagna', 2009, 5, 3.05),\n",
              " ('Guittard', 2006, 6, 3.1666666666666665),\n",
              " ('Guittard', 2007, 1, 3.5),\n",
              " ('Guittard', 2008, 3, 3.1666666666666665),\n",
              " ('Guittard', 2009, 3, 3.1666666666666665),\n",
              " ('Guittard', 2010, 1, 3.0),\n",
              " ('Guittard', 2011, 3, 3.0833333333333335),\n",
              " ('Guittard', 2013, 4, 3.0625),\n",
              " ('Guittard', 2015, 1, 3.75),\n",
              " ('Habitual', 2014, 9, 2.9166666666666665),\n",
              " ('Hachez', 2007, 1, 2.5),\n",
              " ('Hacienda El Castillo', 2014, 2, 2.875),\n",
              " ('Haigh', 2011, 1, 3.0),\n",
              " ('Harper Macaw', 2015, 3, 3.3333333333333335),\n",
              " ('Harper Macaw', 2016, 1, 3.25),\n",
              " ('Heilemann', 2016, 1, 2.75),\n",
              " ('Heirloom Cacao Preservation (Brasstown)', 2016, 1, 3.25),\n",
              " ('Heirloom Cacao Preservation (Fruition)', 2016, 1, 3.5),\n",
              " ('Heirloom Cacao Preservation (Guittard)', 2014, 4, 3.5),\n",
              " ('Heirloom Cacao Preservation (Manoa)', 2016, 1, 3.5),\n",
              " ('Heirloom Cacao Preservation (Millcreek)', 2016, 1, 3.5),\n",
              " ('Heirloom Cacao Preservation (Mindo)', 2016, 1, 3.5),\n",
              " ('Heirloom Cacao Preservation (Zokoko)', 2016, 2, 3.875),\n",
              " ('Hogarth', 2016, 4, 3.0625),\n",
              " ('Hoja Verde (Tulicorp)', 2009, 5, 2.85),\n",
              " ('Holy Cacao', 2009, 4, 3.125),\n",
              " ('Holy Cacao', 2015, 4, 3.5),\n",
              " ('Holy Cacao', 2016, 1, 2.75),\n",
              " ('Honest', 2014, 1, 2.5),\n",
              " ('Hotel Chocolat', 2013, 2, 2.875),\n",
              " ('Hotel Chocolat', 2015, 1, 2.75),\n",
              " ('Hotel Chocolat (Coppeneur)', 2008, 4, 2.8125),\n",
              " ('Hotel Chocolat (Coppeneur)', 2010, 3, 2.8333333333333335),\n",
              " ('Hotel Chocolat (Coppeneur)', 2011, 3, 3.0833333333333335),\n",
              " ('Hotel Chocolat (Coppeneur)', 2012, 1, 3.5),\n",
              " ('Hotel Chocolat (Coppeneur)', 2013, 8, 3.0),\n",
              " ('Hummingbird', 2013, 2, 3.5),\n",
              " ('Hummingbird', 2014, 5, 3.25),\n",
              " ('Hummingbird', 2015, 1, 3.5),\n",
              " ('Idilio (Felchlin)', 2011, 9, 3.7777777777777777),\n",
              " ('Idilio (Felchlin)', 2013, 1, 3.75),\n",
              " ('Indah', 2016, 1, 2.5),\n",
              " ('Indaphoria', 2012, 2, 3.0),\n",
              " ('Indi', 2014, 1, 3.0),\n",
              " ('Isidro', 2014, 4, 3.0625),\n",
              " ('Izard', 2015, 2, 3.125),\n",
              " ('Jacque Torres', 2006, 1, 2.0),\n",
              " ('Jordis', 2015, 1, 2.75),\n",
              " ('Just Good Chocolate', 2014, 3, 3.6666666666666665),\n",
              " (\"K'ul\", 2016, 4, 3.375),\n",
              " ('Kah Kow', 2013, 4, 3.25),\n",
              " ('Kakao', 2009, 1, 3.75),\n",
              " ('Kakao', 2012, 1, 2.5),\n",
              " ('Kallari (Ecuatoriana)', 2008, 8, 2.875),\n",
              " ('Kaoka (Cemoi)', 2009, 2, 2.75),\n",
              " ('Kerchner', 2013, 1, 3.75),\n",
              " (\"Ki' Xocolatl\", 2009, 1, 2.0),\n",
              " ('Kiskadee', 2014, 1, 3.0),\n",
              " ('Kto', 2014, 7, 3.0357142857142856),\n",
              " ('Kyya', 2014, 4, 2.75),\n",
              " (\"L'Amourette\", 2012, 3, 3.0),\n",
              " (\"L'Amourette\", 2016, 1, 3.5),\n",
              " ('L.A. Burdick (Felchlin)', 2009, 2, 3.25),\n",
              " ('L.A. Burdick (Felchlin)', 2010, 3, 3.3333333333333335),\n",
              " ('L.A. Burdick (Felchlin)', 2011, 1, 3.75),\n",
              " ('L.A. Burdick (Felchlin)', 2012, 3, 3.6666666666666665),\n",
              " ('La Chocolaterie Nanairo', 2016, 4, 2.6875),\n",
              " ('La Maison du Chocolat (Valrhona)', 2008, 1, 3.5),\n",
              " ('La Maison du Chocolat (Valrhona)', 2009, 4, 3.375),\n",
              " ('La Maison du Chocolat (Valrhona)', 2011, 1, 3.5),\n",
              " ('La Maison du Chocolat (Valrhona)', 2012, 1, 3.5),\n",
              " ('La Maison du Chocolat (Valrhona)', 2013, 3, 3.0833333333333335),\n",
              " ('La Oroquidea', 2011, 1, 2.5),\n",
              " ('La Pepa de Oro', 2011, 1, 3.25),\n",
              " ('Laia aka Chat-Noir', 2014, 2, 2.75),\n",
              " ('Laia aka Chat-Noir', 2015, 8, 3.15625),\n",
              " ('Lajedo do Ouro', 2012, 1, 3.5),\n",
              " ('Lake Champlain (Callebaut)', 2009, 1, 2.5),\n",
              " ('Letterpress', 2014, 1, 3.5),\n",
              " ('Letterpress', 2015, 5, 3.3),\n",
              " ('Letterpress', 2016, 1, 3.25),\n",
              " ('Letterpress', 2017, 2, 3.375),\n",
              " ('Levy', 2014, 1, 3.5),\n",
              " ('Lilla', 2016, 1, 3.0),\n",
              " ('Lillie Belle', 2012, 6, 3.3333333333333335),\n",
              " ('Lindt & Sprungli', 2007, 1, 3.0),\n",
              " ('Loiza', 2013, 1, 2.5),\n",
              " ('Lonohana', 2013, 3, 3.1666666666666665),\n",
              " ('Lonohana', 2014, 3, 3.5833333333333335),\n",
              " ('Love Bar', 2015, 1, 2.0),\n",
              " ('Luker', 2010, 4, 3.0625),\n",
              " ('Machu Picchu Trading Co.', 2010, 1, 2.25),\n",
              " ('Machu Picchu Trading Co.', 2011, 1, 1.5),\n",
              " ('Madecasse (Cinagra)', 2008, 4, 3.6875),\n",
              " ('Madre', 2010, 1, 2.75),\n",
              " ('Madre', 2011, 2, 2.625),\n",
              " ('Madre', 2012, 3, 3.3333333333333335),\n",
              " ('Madre', 2013, 4, 2.9375),\n",
              " ('Madre', 2017, 1, 3.5),\n",
              " ('Maglio', 2008, 4, 3.0),\n",
              " ('Majani', 2010, 1, 2.0),\n",
              " ('Malagasy (Chocolaterie Robert)', 2007, 2, 3.125),\n",
              " ('Malagos', 2013, 1, 3.5),\n",
              " ('Malie Kai (Guittard)', 2009, 1, 2.75),\n",
              " ('Malie Kai (Guittard)', 2010, 1, 3.5),\n",
              " ('Malmo', 2016, 1, 3.0),\n",
              " ('Mana', 2012, 1, 3.75),\n",
              " ('Mana', 2014, 2, 2.625),\n",
              " ('Mana', 2015, 1, 2.5),\n",
              " ('Manifesto Cacao', 2014, 1, 2.75),\n",
              " ('Manoa', 2012, 4, 3.0625),\n",
              " ('Manoa', 2013, 1, 3.75),\n",
              " ('Manoa', 2015, 2, 3.625),\n",
              " ('Manufaktura Czekolady', 2012, 3, 3.3333333333333335),\n",
              " ('Manufaktura Czekolady', 2014, 2, 3.625),\n",
              " ('Manufaktura Czekolady', 2016, 2, 3.625),\n",
              " ('Map Chocolate', 2015, 9, 3.2777777777777777),\n",
              " ('Map Chocolate', 2016, 1, 3.25),\n",
              " ('Marana', 2016, 3, 2.9166666666666665),\n",
              " (\"Marigold's Finest\", 2016, 1, 3.25),\n",
              " ('Marou', 2012, 6, 3.4166666666666665),\n",
              " ('Marou', 2013, 1, 3.5),\n",
              " ('Marou', 2015, 3, 3.5),\n",
              " ('Mars', 2010, 4, 3.1875),\n",
              " ('Marsatta', 2013, 2, 2.375),\n",
              " ('Martin Mayer', 2016, 3, 3.0),\n",
              " ('Mast Brothers', 2010, 3, 3.0),\n",
              " ('Mast Brothers', 2011, 9, 3.1666666666666665),\n",
              " ('Mast Brothers', 2012, 3, 2.9166666666666665),\n",
              " ('Mast Brothers', 2014, 1, 3.75),\n",
              " ('Mast Brothers', 2015, 2, 3.125),\n",
              " ('Matale', 2013, 4, 3.8125),\n",
              " ('Maverick', 2014, 4, 3.3125),\n",
              " ('Mayacama', 2016, 1, 3.0),\n",
              " ('Meadowlands', 2014, 5, 2.95),\n",
              " ('Menakao (aka Cinagra)', 2012, 2, 2.5),\n",
              " ('Mesocacao', 2014, 4, 3.375),\n",
              " ('Mesocacao', 2015, 2, 2.875),\n",
              " ('Metiisto', 2014, 2, 3.25),\n",
              " ('Metropolitan', 2015, 1, 3.5),\n",
              " ('Michel Cluizel', 2006, 7, 3.0),\n",
              " ('Michel Cluizel', 2007, 2, 3.5),\n",
              " ('Michel Cluizel', 2012, 1, 3.75),\n",
              " ('Middlebury', 2012, 3, 2.0),\n",
              " ('Middlebury', 2013, 2, 2.875),\n",
              " ('Middlebury', 2015, 6, 3.5416666666666665),\n",
              " ('Millcreek Cacao Roasters', 2012, 1, 3.5),\n",
              " ('Millcreek Cacao Roasters', 2013, 1, 2.5),\n",
              " ('Mindo', 2010, 2, 2.75),\n",
              " ('Minimal', 2016, 1, 3.5),\n",
              " ('Mission', 2015, 1, 3.5),\n",
              " ('Mission', 2016, 1, 3.75),\n",
              " ('Mita', 2012, 1, 2.5),\n",
              " ('Moho', 2010, 1, 2.75),\n",
              " ('Moho', 2013, 2, 3.125),\n",
              " ('Molucca', 2015, 3, 3.0),\n",
              " ('Momotombo', 2011, 3, 2.9166666666666665),\n",
              " ('Monarque', 2016, 1, 3.5),\n",
              " ('Monsieur Truffe', 2014, 1, 3.25),\n",
              " ('Montecristi', 2015, 3, 3.4166666666666665),\n",
              " ('Muchomas (Mesocacao)', 2015, 2, 3.5),\n",
              " ('Mutari', 2016, 4, 2.8125),\n",
              " ('Nahua', 2013, 2, 2.75),\n",
              " ('Naive', 2012, 1, 2.5),\n",
              " ('Naive', 2013, 2, 3.75),\n",
              " ('Nanea', 2013, 1, 3.5),\n",
              " ('Nathan Miller', 2014, 4, 2.6875),\n",
              " ('Na�ve', 2014, 3, 3.0),\n",
              " ('Neuhaus (Callebaut)', 2006, 3, 2.5833333333333335),\n",
              " ('Neuhaus (Callebaut)', 2007, 1, 1.0),\n",
              " ('Neuhaus (Callebaut)', 2008, 1, 3.75),\n",
              " ('Neuhaus (Callebaut)', 2010, 1, 2.5),\n",
              " ('Nibble', 2015, 4, 2.75),\n",
              " ('Night Owl', 2013, 2, 3.125),\n",
              " ('Noble Bean aka Jerjobo', 2014, 3, 3.0833333333333335),\n",
              " (\"Noir d' Ebine\", 2012, 2, 3.0),\n",
              " ('Nova Monda', 2012, 3, 3.0),\n",
              " ('Nuance', 2015, 5, 3.35),\n",
              " ('Nugali', 2016, 1, 3.5),\n",
              " ('Oakland Chocolate Co.', 2010, 1, 2.5),\n",
              " ('Obolo', 2015, 2, 3.75),\n",
              " ('Ocelot', 2015, 2, 3.875),\n",
              " ('Ocho', 2014, 4, 3.125),\n",
              " ('Ocho', 2016, 2, 3.125),\n",
              " ('Ohiyo', 2015, 2, 2.875),\n",
              " ('Oialla by Bojessen (Malmo)', 2011, 1, 3.5),\n",
              " ('Olive and Sinclair', 2009, 2, 2.875),\n",
              " ('Olive and Sinclair', 2010, 2, 3.0),\n",
              " ('Olivia', 2011, 4, 2.625),\n",
              " ('Omanhene', 2011, 1, 2.75),\n",
              " ('Omnom', 2014, 2, 3.25),\n",
              " ('Omnom', 2016, 1, 3.75),\n",
              " ('Original Beans (Felchlin)', 2009, 3, 3.0833333333333335),\n",
              " ('Original Beans (Felchlin)', 2011, 1, 3.75),\n",
              " ('Original Beans (Felchlin)', 2014, 2, 3.0),\n",
              " ('Original Hawaiin Chocolate Factory', 2006, 1, 3.0),\n",
              " ('Original Hawaiin Chocolate Factory', 2009, 1, 3.0),\n",
              " ('Orquidea', 2012, 2, 3.0),\n",
              " ('Pacari', 2008, 5, 2.75),\n",
              " ('Pacari', 2011, 1, 3.5),\n",
              " ('Pacari', 2012, 2, 3.375),\n",
              " ('Pacari', 2014, 4, 3.625),\n",
              " ('Pacari', 2016, 1, 4.0),\n",
              " ('Palette de Bine', 2014, 5, 3.3),\n",
              " ('Palette de Bine', 2015, 4, 3.4375),\n",
              " ('Palette de Bine', 2016, 2, 2.875),\n",
              " ('Pangea', 2016, 1, 3.0),\n",
              " ('Park 75', 2014, 1, 3.5),\n",
              " ('Parliament', 2014, 2, 3.25),\n",
              " ('Parliament', 2015, 1, 3.5),\n",
              " ('Parliament', 2016, 1, 3.25),\n",
              " ('Pascha', 2013, 2, 2.625),\n",
              " ('Patric', 2007, 1, 4.0),\n",
              " ('Patric', 2009, 3, 3.6666666666666665),\n",
              " ('Patric', 2011, 1, 3.75),\n",
              " ('Patric', 2013, 1, 4.0),\n",
              " ('Paul Young', 2014, 2, 2.5),\n",
              " ('Peppalo', 2015, 1, 3.0),\n",
              " ('Pierre Marcolini', 2006, 3, 3.6666666666666665),\n",
              " ('Pierre Marcolini', 2007, 4, 3.8125),\n",
              " ('Pierre Marcolini', 2009, 2, 3.0),\n",
              " ('Pierre Marcolini', 2010, 4, 3.25),\n",
              " ('Pierre Marcolini', 2015, 1, 3.25),\n",
              " ('Pinellas', 2016, 1, 2.5),\n",
              " ('Pitch Dark', 2014, 4, 3.125),\n",
              " ('Pitch Dark', 2015, 5, 2.8),\n",
              " ('Pomm (aka Dead Dog)', 2012, 2, 2.625),\n",
              " ('Potomac', 2010, 1, 3.75),\n",
              " ('Potomac', 2011, 4, 3.1875),\n",
              " ('Potomac', 2014, 1, 3.75),\n",
              " ('Potomac', 2016, 1, 3.75),\n",
              " ('Pralus', 2006, 16, 3.40625),\n",
              " ('Pralus', 2007, 1, 4.0),\n",
              " ('Pralus', 2008, 4, 2.875),\n",
              " ('Pralus', 2009, 1, 2.0),\n",
              " ('Pralus', 2010, 1, 3.5),\n",
              " ('Pralus', 2011, 1, 3.25),\n",
              " ('Pralus', 2015, 1, 3.25),\n",
              " ('Pump Street Bakery', 2014, 4, 2.9375),\n",
              " ('Pump Street Bakery', 2015, 3, 3.25),\n",
              " ('Pump Street Bakery', 2016, 1, 3.5),\n",
              " ('Pura Delizia', 2012, 1, 2.75),\n",
              " ('Q Chocolate', 2012, 2, 3.125),\n",
              " ('Q Chocolate', 2013, 4, 3.1875),\n",
              " ('Quetzalli (Wolter)', 2016, 2, 2.875),\n",
              " ('Raaka', 2011, 1, 3.5),\n",
              " ('Raaka', 2012, 1, 3.25),\n",
              " ('Raaka', 2015, 1, 2.75),\n",
              " ('Raaka', 2016, 1, 3.0),\n",
              " ('Rain Republic', 2010, 1, 2.75),\n",
              " ('Rancho San Jacinto', 2010, 1, 3.0),\n",
              " ('Ranger', 2015, 3, 3.0833333333333335),\n",
              " ('Raoul Boulanger', 2016, 1, 3.25),\n",
              " ('Raw Cocoa', 2012, 1, 2.5),\n",
              " ('Republica del Cacao (aka Confecta)', 2007, 3, 3.4166666666666665),\n",
              " ('Republica del Cacao (aka Confecta)', 2009, 1, 2.5),\n",
              " ('Republica del Cacao (aka Confecta)', 2010, 1, 3.25),\n",
              " ('Ritual', 2011, 1, 3.5),\n",
              " ('Ritual', 2012, 3, 3.5833333333333335),\n",
              " ('Ritual', 2013, 2, 3.375),\n",
              " ('Ritual', 2015, 2, 3.5),\n",
              " ('Ritual', 2016, 1, 3.75),\n",
              " ('Roasting Masters', 2016, 3, 3.25),\n",
              " ('Robert (aka Chocolaterie Robert)', 2013, 2, 3.25),\n",
              " ('Rococo (Grenada Chocolate Co.)', 2012, 1, 3.5),\n",
              " ('Rogue', 2008, 4, 2.8125),\n",
              " ('Rogue', 2009, 1, 3.5),\n",
              " ('Rogue', 2010, 1, 3.75),\n",
              " ('Rogue', 2011, 1, 3.0),\n",
              " ('Rogue', 2012, 1, 3.75),\n",
              " ('Rogue', 2013, 4, 3.6875),\n",
              " ('Rogue', 2014, 1, 3.75),\n",
              " ('Rogue', 2015, 2, 3.5),\n",
              " ('Rogue', 2016, 1, 3.75),\n",
              " ('Rozsavolgyi', 2011, 4, 3.0625),\n",
              " ('Rozsavolgyi', 2012, 3, 2.4166666666666665),\n",
              " ('S.A.I.D.', 2010, 5, 3.0),\n",
              " ('SRSLY', 2013, 2, 2.625),\n",
              " ('Sacred', 2012, 2, 3.0),\n",
              " ('Salgado', 2008, 4, 3.5),\n",
              " ('Santander (Compania Nacional)', 2006, 3, 3.0),\n",
              " ('Santander (Compania Nacional)', 2009, 2, 2.875),\n",
              " ('Santome', 2011, 1, 2.75),\n",
              " ('Scharffen Berger', 2006, 5, 2.5),\n",
              " ('Scharffen Berger', 2007, 4, 3.1875),\n",
              " ('Scharffen Berger', 2008, 1, 3.0),\n",
              " ('Scharffen Berger', 2009, 3, 3.8333333333333335),\n",
              " ('Scharffen Berger', 2010, 2, 3.625),\n",
              " ('Scharffen Berger', 2011, 1, 3.75),\n",
              " ('Scharffen Berger', 2012, 1, 4.0),\n",
              " ('Seaforth', 2015, 2, 2.75),\n",
              " ('Shark Mountain', 2014, 2, 3.125),\n",
              " ('Shark Mountain', 2015, 4, 3.25),\n",
              " (\"Shark's\", 2011, 2, 2.25),\n",
              " ('Shattel', 2016, 1, 3.25),\n",
              " ('Shattell', 2011, 1, 3.5),\n",
              " ('Sibu', 2015, 2, 3.375),\n",
              " ('Sibu Sura', 2012, 1, 2.5),\n",
              " ('Silvio Bessone', 2011, 4, 3.125),\n",
              " ('Sirene', 2014, 3, 3.75),\n",
              " ('Sirene', 2015, 5, 3.1),\n",
              " ('Sirene', 2016, 3, 3.5833333333333335),\n",
              " ('Sjolinds', 2015, 2, 2.875),\n",
              " ('Smooth Chocolator, The', 2015, 9, 3.4722222222222223),\n",
              " ('Smooth Chocolator, The', 2016, 6, 3.5833333333333335),\n",
              " ('Smooth Chocolator, The', 2017, 1, 3.5),\n",
              " ('Snake & Butterfly', 2010, 2, 3.125),\n",
              " ('Snake & Butterfly', 2011, 1, 1.5),\n",
              " ('Sol Cacao', 2015, 1, 3.0),\n",
              " ('Sol Cacao', 2016, 1, 3.5),\n",
              " ('Solkiki', 2016, 2, 2.75),\n",
              " ('Solomons Gold', 2016, 2, 3.25),\n",
              " ('Solstice', 2013, 5, 3.2),\n",
              " ('Solstice', 2014, 1, 3.0),\n",
              " ('Soma', 2009, 6, 3.4166666666666665),\n",
              " ('Soma', 2010, 1, 3.75),\n",
              " ('Soma', 2011, 6, 3.5833333333333335),\n",
              " ('Soma', 2012, 8, 3.65625),\n",
              " ('Soma', 2013, 11, 3.6136363636363638),\n",
              " ('Soma', 2014, 6, 3.5),\n",
              " ('Soma', 2015, 2, 3.75),\n",
              " ('Soma', 2016, 7, 3.607142857142857),\n",
              " ('Somerville', 2014, 2, 3.375),\n",
              " ('Soul', 2017, 6, 3.375),\n",
              " ('Spagnvola', 2012, 3, 3.0833333333333335),\n",
              " ('Spencer', 2014, 1, 2.75),\n",
              " ('Spencer', 2016, 3, 3.6666666666666665),\n",
              " ('Spencer', 2017, 3, 3.3333333333333335),\n",
              " ('Sprungli (Felchlin)', 2013, 1, 3.0),\n",
              " ('StRita Supreme', 2012, 3, 2.5833333333333335),\n",
              " ('Starchild', 2015, 5, 3.0),\n",
              " ('Stella (aka Bernrain)', 2011, 1, 3.25),\n",
              " ('Stella (aka Bernrain)', 2012, 1, 2.75),\n",
              " ('Stone Grindz', 2014, 2, 3.5),\n",
              " ('Sublime Origins', 2013, 2, 3.0),\n",
              " ('Summerbird', 2016, 2, 2.75),\n",
              " ('Suruca Chocolate', 2016, 2, 2.875),\n",
              " ('Svenska Kakaobolaget', 2015, 1, 2.75),\n",
              " ('Szanto Tibor', 2011, 1, 3.0),\n",
              " ('Szanto Tibor', 2012, 3, 3.4166666666666665),\n",
              " ('Szanto Tibor', 2013, 3, 3.4166666666666665),\n",
              " ('Szanto Tibor', 2014, 2, 3.625),\n",
              " ('Szanto Tibor', 2015, 6, 3.375),\n",
              " ('TCHO', 2008, 4, 2.5625),\n",
              " ('TCHO', 2009, 2, 2.875),\n",
              " ('TCHO', 2012, 1, 3.25),\n",
              " ('TCHO', 2016, 1, 2.0),\n",
              " ('Tabal', 2013, 4, 2.75),\n",
              " ('Tablette (aka Vanillabeans)', 2015, 4, 3.0625),\n",
              " ('Tan Ban Skrati', 2016, 1, 3.25),\n",
              " ('Taza', 2007, 1, 3.0),\n",
              " ('Taza', 2009, 1, 2.75),\n",
              " ('Taza', 2011, 1, 3.25),\n",
              " ('Taza', 2014, 1, 3.0),\n",
              " ('Tejas', 2012, 14, 3.017857142857143),\n",
              " ('Terroir', 2014, 3, 3.5833333333333335),\n",
              " ('Terroir', 2015, 6, 3.4583333333333335),\n",
              " ('The Barn', 2015, 1, 3.0),\n",
              " ('Theo', 2007, 5, 2.8),\n",
              " ('Theo', 2012, 1, 3.25),\n",
              " ('Theobroma', 2015, 1, 3.25),\n",
              " ('Timo A. Meyer', 2016, 1, 3.75),\n",
              " (\"To'ak (Ecuatoriana)\", 2014, 1, 3.25),\n",
              " ('Tobago Estate (Pralus)', 2012, 1, 4.0),\n",
              " ('Tocoti', 2011, 2, 2.875),\n",
              " ('Tocoti', 2012, 1, 3.0),\n",
              " ('Treehouse', 2014, 1, 3.0),\n",
              " ('Tsara (Cinagra)', 2011, 1, 3.5),\n",
              " ('Two Ravens', 2016, 1, 3.0),\n",
              " ('Un Dimanche A Paris', 2011, 1, 3.75),\n",
              " ('Undone', 2014, 2, 2.875),\n",
              " ('Upchurch', 2016, 2, 3.125),\n",
              " ('Urzi', 2014, 1, 3.25),\n",
              " ('Valrhona', 2006, 5, 3.2),\n",
              " ('Valrhona', 2007, 7, 2.9642857142857144),\n",
              " ('Valrhona', 2009, 3, 3.6666666666666665),\n",
              " ('Valrhona', 2011, 2, 3.625),\n",
              " ('Valrhona', 2012, 1, 4.0),\n",
              " ('Valrhona', 2013, 2, 3.5),\n",
              " ('Valrhona', 2015, 1, 4.0),\n",
              " ('Vanleer (Barry Callebaut)', 2012, 2, 2.625),\n",
              " ('Vao Vao (Chocolaterie Robert)', 2009, 6, 2.9166666666666665),\n",
              " ('Vicuna', 2015, 2, 3.25),\n",
              " ('Videri', 2012, 1, 3.25),\n",
              " ('Videri', 2013, 1, 3.75),\n",
              " ('Videri', 2014, 3, 3.4166666666666665),\n",
              " ('Vietcacao (A. Morin)', 2012, 1, 3.5),\n",
              " ('Vintage Plantations', 2014, 1, 3.0),\n",
              " ('Vintage Plantations (Tulicorp)', 2007, 4, 2.5),\n",
              " ('Violet Sky', 2015, 5, 2.95),\n",
              " ('Vivra', 2016, 3, 2.6666666666666665),\n",
              " ('Wellington Chocolate Factory', 2016, 2, 3.5),\n",
              " ('Whittakers', 2011, 1, 2.5),\n",
              " (\"Wilkie's Organic\", 2013, 4, 2.8125),\n",
              " (\"Willie's Cacao\", 2009, 2, 3.125),\n",
              " (\"Willie's Cacao\", 2010, 3, 3.4166666666666665),\n",
              " (\"Willie's Cacao\", 2013, 1, 2.25),\n",
              " (\"Willie's Cacao\", 2014, 1, 3.0),\n",
              " (\"Willie's Cacao\", 2016, 1, 4.0),\n",
              " ('Wm', 2016, 3, 3.4166666666666665),\n",
              " ('Woodblock', 2011, 2, 3.75),\n",
              " ('Woodblock', 2012, 3, 2.9166666666666665),\n",
              " ('Woodblock', 2013, 2, 3.375),\n",
              " ('Woodblock', 2014, 1, 3.0),\n",
              " ('Xocolat', 2013, 1, 3.0),\n",
              " ('Xocolla', 2017, 2, 2.625),\n",
              " (\"Zak's\", 2015, 6, 3.2083333333333335),\n",
              " ('Zart Pralinen', 2016, 6, 3.1666666666666665),\n",
              " ('Zokoko', 2011, 3, 3.5833333333333335),\n",
              " ('Zokoko', 2016, 2, 3.5),\n",
              " ('Zotter', 2010, 1, 3.0),\n",
              " ('Zotter', 2011, 4, 3.375),\n",
              " ('Zotter', 2012, 11, 3.3636363636363638),\n",
              " ('Zotter', 2014, 1, 2.75),\n",
              " ('hello cocoa', 2015, 2, 3.125),\n",
              " ('hexx', 2015, 5, 3.05),\n",
              " ('iQ Chocolate', 2012, 2, 2.875),\n",
              " ('organicfair', 2013, 5, 2.85),\n",
              " ('twenty-four blackbirds', 2011, 1, 2.75),\n",
              " ('twenty-four blackbirds', 2013, 2, 2.875),\n",
              " ('twenty-four blackbirds', 2014, 1, 3.5),\n",
              " ('twenty-four blackbirds', 2015, 2, 3.125)]"
            ]
          },
          "metadata": {
            "tags": []
          },
          "execution_count": 15
        }
      ]
    },
    {
      "cell_type": "markdown",
      "metadata": {
        "id": "eKx7_9vyYCy1"
      },
      "source": [
        "# 3. Kickstarter Projects Dataset (25pt)"
      ]
    },
    {
      "cell_type": "markdown",
      "metadata": {
        "id": "5HXua9B5YCy2"
      },
      "source": [
        "Using the [Kickstarter Projects Dataset](https://www.kaggle.com/kemical/kickstarter-projects#ks-projects-201801.csv), answer the following questions:"
      ]
    },
    {
      "cell_type": "markdown",
      "metadata": {
        "id": "NGgJ1dyeZiFH"
      },
      "source": [
        "**Task 1 (for everyone):** Load the dataset to SQLite DB using [PonyORM](https://ponyorm.org) (10pt)"
      ]
    },
    {
      "cell_type": "code",
      "metadata": {
        "id": "TLhhxMDDb2nN",
        "outputId": "568f661e-48b4-411e-b8ec-66da90b84fc3",
        "colab": {
          "base_uri": "https://localhost:8080/",
          "height": 456
        }
      },
      "source": [
        "!kaggle datasets list -s kickstarter-projects\n",
        "!kaggle datasets download kemical/kickstarter-projects -p ./datasets/kickstarter-projects/\n",
        "!unzip ./datasets/kickstarter-projects/*.zip  -d ./datasets/kickstarter-projects/"
      ],
      "execution_count": 7,
      "outputs": [
        {
          "output_type": "stream",
          "text": [
            "Warning: Looks like you're using an outdated API Version, please consider updating (server 1.5.9 / client 1.5.4)\n",
            "ref                                              title                                        size  lastUpdated          downloadCount  \n",
            "-----------------------------------------------  ------------------------------------------  -----  -------------------  -------------  \n",
            "kemical/kickstarter-projects                     Kickstarter Projects                         37MB  2018-02-08 09:02:30          43485  \n",
            "codename007/funding-successful-projects          Funding Successful Projects on Kickstarter   20MB  2017-06-20 17:37:38           2702  \n",
            "socathie/kickstarter-project-statistics          Kickstarter Project Statistics                1MB  2019-11-14 06:38:31           5735  \n",
            "toshimelonhead/400000-kickstarter-projects       400,000 Kickstarter Projects                   0B  2019-07-23 01:23:31            230  \n",
            "yashkantharia/kickstarter-campaigns              Kickstarter Campaigns                        12MB  2019-03-03 13:46:08            757  \n",
            "uysalah/archived-kickstarter-projects            Archived Kickstarter Projects                 1MB  2019-05-10 04:33:22            179  \n",
            "oscarvilla/kickstarter-nlp                       kickstarter NLP                              11MB  2018-08-09 01:38:57            312  \n",
            "tonyplaysguitar/steam-spy-data-from-api-request  Kickstarter videogames released on Steam      1MB  2018-01-21 23:54:08            263  \n",
            "officerbribe/yks-six-pack                        YKS Six Pack                                171KB  2020-08-31 19:17:26             71  \n",
            "wood2174/mapkickstarter                          Kickstarter                                  18MB  2018-03-07 00:01:12            238  \n",
            "alonsopuente/kickstarter-projects-comments       Kickstarter Projects Comments                65MB  2020-09-18 04:51:08              9  \n",
            "antonionoca/kickstarter2018nlp                   kickstarter-2018-nlp                         35MB  2019-04-23 22:02:34            226  \n",
            "alonsopuente/kickstarter-projects-images         Kickstarter_projects_images                   2GB  2019-11-02 04:14:00             68  \n",
            "alonsopuente/kickstarter-projects-descriptions   kickstarter_projects_descriptions            35MB  2019-11-15 06:37:59             73  \n",
            "alonsopuente/kickstarter-projects-metadata       kickstarter_projects_metadata                 6MB  2020-09-23 20:00:17            143  \n",
            "skhadirahmed/redditdataset                       reddit-dataset                              616MB  2019-03-01 08:09:26             28  \n",
            "kickstarter-projects.zip: Skipping, found more recently modified local copy (use --force to force download)\n",
            "Archive:  ./datasets/kickstarter-projects/kickstarter-projects.zip\n",
            "replace ./datasets/kickstarter-projects/ks-projects-201612.csv? [y]es, [n]o, [A]ll, [N]one, [r]ename: "
          ],
          "name": "stdout"
        }
      ]
    },
    {
      "cell_type": "code",
      "metadata": {
        "id": "FEWNVCvP_uhR",
        "outputId": "e0e01b60-3935-4de2-c0b1-e1702f0785c6",
        "colab": {
          "base_uri": "https://localhost:8080/",
          "height": 322
        }
      },
      "source": [
        "from pony.orm import *\n",
        "# Creating a new database\n",
        "db_ks = Database()\n",
        "db_ks.bind(provider='sqlite', filename='/content/datasets/kickstarter-projects/kickstarter-project.pony.db', create_db=True)\n",
        "\n",
        "class KickstarterProject(db_ks.Entity):\n",
        "    name = Optional(str) \n",
        "    category = Required(str)\n",
        "    main_category = Required(str)\n",
        "    currency = Required(str)\n",
        "    deadline = Required(str)\n",
        "    goal = Required(float)\n",
        "    launched = Required(str)\n",
        "    pledged = Required(float)\n",
        "    launched = Required(str)\n",
        "    state = Required(str)\n",
        "    backers = Required(int)\n",
        "    country = Required(str)\n",
        "    usd_pledged = Optional(float)\n",
        "    usd_pledged_real = Required(float)\n",
        "    usd_goal_real = Required(float)\n",
        "\n",
        "show(KickstarterProject)\n",
        "#set_sql_debug(True) # helps to see what SQL commands are running\n",
        "db_ks.generate_mapping(create_tables=True) # create tables"
      ],
      "execution_count": 11,
      "outputs": [
        {
          "output_type": "stream",
          "text": [
            "class KickstarterProject(Entity):\n",
            "    id = PrimaryKey(int, auto=True)\n",
            "    name = Optional(str, default='')\n",
            "    category = Required(str)\n",
            "    main_category = Required(str)\n",
            "    currency = Required(str)\n",
            "    deadline = Required(str)\n",
            "    goal = Required(float)\n",
            "    pledged = Required(float)\n",
            "    launched = Required(str)\n",
            "    state = Required(str)\n",
            "    backers = Required(int)\n",
            "    country = Required(str)\n",
            "    usd_pledged = Optional(float)\n",
            "    usd_pledged_real = Required(float)\n",
            "    usd_goal_real = Required(float)\n"
          ],
          "name": "stdout"
        }
      ]
    },
    {
      "cell_type": "code",
      "metadata": {
        "id": "OZFTvXNAATvm"
      },
      "source": [
        "import pandas\n",
        "import numpy as np\n",
        "\n",
        "df_ks = pandas.read_csv(\"./datasets/kickstarter-projects/ks-projects-201801.csv\")\n",
        "df_ks['name'].fillna(\"\", inplace=True)\n",
        "df_ks['usd pledged'].fillna(0.0, inplace=True)\n",
        "\n",
        "for idx, row in df_ks.iterrows():\n",
        "    KickstarterProject(\n",
        "            name=(row['name'] if not type(row['name']) is float else \"\"),\n",
        "            category=row['category'],\n",
        "            main_category=row['main_category'],\n",
        "            currency=row['currency'],\n",
        "            deadline=row['deadline'],\n",
        "            goal=row['goal'],\n",
        "            launched=row['launched'],\n",
        "            pledged=row['pledged'],\n",
        "            state=row['state'],\n",
        "            backers=row['backers'],\n",
        "            country=row['country'],\n",
        "            usd_pledged=row['usd pledged'],\n",
        "            usd_pledged_real=row['usd_pledged_real'],\n",
        "            usd_goal_real=row['usd_goal_real'],\n",
        "    )\n",
        "commit()"
      ],
      "execution_count": 12,
      "outputs": []
    },
    {
      "cell_type": "markdown",
      "metadata": {
        "id": "W1K5VTLoYCy3"
      },
      "source": [
        "### <span style=\"color:red\"> Please answer only **one** of the following questions according to your ID number (use the formula **<YOUR_ID> mod 3 +1**) </span>"
      ]
    },
    {
      "cell_type": "code",
      "metadata": {
        "id": "vwlOZtVHYCy3",
        "outputId": "82d641cc-0e41-4864-ef4b-0d4dbb689416",
        "colab": {
          "base_uri": "https://localhost:8080/",
          "height": 36
        }
      },
      "source": [
        "# which question to answer - put your ID number and run the code \n",
        "your_id  = \"305284515\"\n",
        "q = int(your_id) % 3 + 1\n",
        "print(\"You need to answer question number %s\" % q)"
      ],
      "execution_count": 1,
      "outputs": [
        {
          "output_type": "stream",
          "text": [
            "You need to answer question number 1\n"
          ],
          "name": "stdout"
        }
      ]
    },
    {
      "cell_type": "markdown",
      "metadata": {
        "id": "gkVN8OnxYCy5"
      },
      "source": [
        "**Question 1:** On average which project category received the highest number of backers? (15 pt)"
      ]
    },
    {
      "cell_type": "code",
      "metadata": {
        "id": "vkhb156oYCy6",
        "outputId": "0a7014af-23a4-4239-9efa-e5725c56c381",
        "colab": {
          "base_uri": "https://localhost:8080/",
          "height": 36
        }
      },
      "source": [
        "avg_backers = select((k.category, avg(k.backers)) for k in KickstarterProject)\n",
        "desc_avg_backers = avg_backers.order_by(lambda x,y: desc(y)).limit(1)\n",
        "list(desc_avg_backers)"
      ],
      "execution_count": 26,
      "outputs": [
        {
          "output_type": "execute_result",
          "data": {
            "text/plain": [
              "[('Chiptune', 443.9428571428571)]"
            ]
          },
          "metadata": {
            "tags": []
          },
          "execution_count": 26
        }
      ]
    },
    {
      "cell_type": "markdown",
      "metadata": {
        "id": "LTk5XnNGYCy7"
      },
      "source": [
        "**Question 2:** On average which project category received the highest pledged USD? (15 pt)"
      ]
    },
    {
      "cell_type": "code",
      "metadata": {
        "id": "DfiXdIneYCy8"
      },
      "source": [
        ""
      ],
      "execution_count": null,
      "outputs": []
    },
    {
      "cell_type": "markdown",
      "metadata": {
        "id": "wM5KvHE1YCy9"
      },
      "source": [
        "**Question 3:** In which month occurred the highest number of projects? (15 pt)"
      ]
    },
    {
      "cell_type": "code",
      "metadata": {
        "id": "5DTIStGMYCy-"
      },
      "source": [
        ""
      ],
      "execution_count": null,
      "outputs": []
    },
    {
      "cell_type": "markdown",
      "metadata": {
        "id": "ResaA3kxYCy_"
      },
      "source": [
        "## 4. Oscars Datasets (10pt)"
      ]
    },
    {
      "cell_type": "markdown",
      "metadata": {
        "id": "WYQasQOKYCzA"
      },
      "source": [
        "Using the [Oscars Dataset](https://www.kaggle.com/theacademy/academy-awards), please answer only one of the following questions (you can chose):"
      ]
    },
    {
      "cell_type": "markdown",
      "metadata": {
        "id": "QGDmLdbKYCzA"
      },
      "source": [
        "**Question 1:** Who is the male actress with the most Oscar nominees? (10pt)"
      ]
    },
    {
      "cell_type": "code",
      "metadata": {
        "id": "xRyY4El_CLT9",
        "outputId": "9c61cfec-790c-4199-ffe3-6f6cfffbe8bf",
        "colab": {
          "base_uri": "https://localhost:8080/",
          "height": 494
        }
      },
      "source": [
        "# download and unzip dataset\n",
        "!kaggle datasets list -s academy-awards\n",
        "!kaggle datasets download theacademy/academy-awards -p ./datasets/academy-awards/\n",
        "!unzip ./datasets/academy-awards/academy-awards.zip -d ./datasets/academy-awards/"
      ],
      "execution_count": 27,
      "outputs": [
        {
          "output_type": "stream",
          "text": [
            "Warning: Looks like you're using an outdated API Version, please consider updating (server 1.5.9 / client 1.5.4)\n",
            "ref                                                         title                                                size  lastUpdated          downloadCount  \n",
            "----------------------------------------------------------  --------------------------------------------------  -----  -------------------  -------------  \n",
            "theacademy/academy-awards                                   The Academy Awards, 1927-2015                       185KB  2017-02-13 17:30:48           5408  \n",
            "fmejia21/demographics-of-academy-awards-oscars-winners      Demographics of Academy Awards (Oscars) Winners      20KB  2020-02-04 17:38:26           3106  \n",
            "unanimad/the-oscar-award                                    The Oscar Award, 1927 - 2020                        191KB  2020-02-19 15:45:30           1300  \n",
            "unanimad/golden-globe-awards                                Golden Globe Awards, 1944 - 2020                    117KB  2020-01-06 16:19:01           1874  \n",
            "madhurinani/oscars-2017-tweets                              2017 #Oscars Tweets                                  11MB  2017-03-17 19:50:40            372  \n",
            "unanimad/bafta-awards                                       British Academy of Film and Television Arts Awards   74KB  2020-02-04 11:35:02             70  \n",
            "unanimad/grammy-awards                                      Grammy Awards                                       261KB  2020-09-16 11:21:28            332  \n",
            "alexis333/academy-awards-cleanup                            Academy Awards Cleanup                              178KB  2019-03-25 18:19:58             46  \n",
            "unanimad/emmy-awards                                        Emmy Awards                                         904KB  2020-01-02 23:54:37            118  \n",
            "pmagda/primetime-emmy-awards                                Primetime Emmy Awards, 1949-2017                    235KB  2017-09-19 16:15:31            410  \n",
            "sagnikpatra/oscars-19272015                                 Oscar's (1927-2015)                                 185KB  2020-08-12 13:04:39             12  \n",
            "danield2255/data-on-songs-from-billboard-19992019           Data on Songs from Billboard 1999-2019               66MB  2020-03-03 08:51:03            505  \n",
            "blessondensil294/christopher-nolan-filmography-and-scripts  Christopher Nolan Filmography and Scripts           606KB  2020-10-05 15:11:14             21  \n",
            "cerosdotcom/oscars-speeches                                 Oscars speeches since 1939                          523KB  2018-03-02 16:07:32            267  \n",
            "triqng/christopher-nolan-filmography                        Christopher Nolan filmography                         5KB  2020-05-21 07:23:45             16  \n",
            "ardenthira/hollywood-black-list-20082017                    Hollywood Black List, 2008-2017                     257KB  2018-05-15 15:30:54             83  \n",
            "Downloading academy-awards.zip to ./datasets/academy-awards\n",
            "  0% 0.00/185k [00:00<?, ?B/s]\n",
            "100% 185k/185k [00:00<00:00, 67.5MB/s]\n",
            "Archive:  ./datasets/academy-awards/academy-awards.zip\n",
            "  inflating: ./datasets/academy-awards/database.csv  \n"
          ],
          "name": "stdout"
        }
      ]
    },
    {
      "cell_type": "code",
      "metadata": {
        "id": "qipeHl6AYCzB",
        "outputId": "5a81b6a4-de57-49db-b842-e9a2772f0d2f",
        "colab": {
          "base_uri": "https://localhost:8080/",
          "height": 169
        }
      },
      "source": [
        "from pony.orm import *\n",
        "import pandas\n",
        "\n",
        "# Creating a new database\n",
        "db_aa = Database()\n",
        "db_aa.bind(provider='sqlite', filename='/content/datasets/academy-awards/academy-awards.pony.db', create_db=True)\n",
        "\n",
        "class AcademyAward(db_aa.Entity):\n",
        "    Year = Required(str) \n",
        "    Ceremony = Required(int)\n",
        "    Award = Required(str)\n",
        "    Winner = Optional(float)\n",
        "    Name = Required(str)\n",
        "    Film = Optional(str)\n",
        "\n",
        "show(AcademyAward)\n",
        "#set_sql_debug(True)\n",
        "db_aa.generate_mapping(create_tables=True)"
      ],
      "execution_count": 28,
      "outputs": [
        {
          "output_type": "stream",
          "text": [
            "class AcademyAward(Entity):\n",
            "    id = PrimaryKey(int, auto=True)\n",
            "    Year = Required(str)\n",
            "    Ceremony = Required(int)\n",
            "    Award = Required(str)\n",
            "    Winner = Optional(float)\n",
            "    Name = Required(str)\n",
            "    Film = Optional(str, default='')\n"
          ],
          "name": "stdout"
        }
      ]
    },
    {
      "cell_type": "code",
      "metadata": {
        "id": "COlTiHUjEEdo"
      },
      "source": [
        "import pandas\n",
        "import numpy as np\n",
        "\n",
        "df_aa = pandas.read_csv(\"./datasets/academy-awards/database.csv\")\n",
        "df_aa['Winner'].fillna(0.0, inplace=True)\n",
        "\n",
        "for idx, row in df_aa.iterrows():\n",
        "    AcademyAward(\n",
        "            Year=row['Year'],\n",
        "            Ceremony=row['Ceremony'],\n",
        "            Award=row['Award'],\n",
        "            Winner=row['Winner'],\n",
        "            Name=row['Name'],\n",
        "            Film=(row['Film'] if not type(row['Film']) is float else \"\")\n",
        "    )\n",
        "commit()"
      ],
      "execution_count": 29,
      "outputs": []
    },
    {
      "cell_type": "code",
      "metadata": {
        "id": "pTtwQkRIEKQI",
        "outputId": "833bc97a-9bdb-4f8d-c613-f501ec18ce60",
        "colab": {
          "base_uri": "https://localhost:8080/",
          "height": 36
        }
      },
      "source": [
        "most_nom = select((a.Name, count(a)) for a in AcademyAward).where(lambda a: a.Award == 'Actor' and a.Winner == 0.0)\n",
        "most_nom_desc = most_nom.order_by(lambda x,y: desc(y)).limit(1)\n",
        "list(most_nom_desc)"
      ],
      "execution_count": 39,
      "outputs": [
        {
          "output_type": "execute_result",
          "data": {
            "text/plain": [
              "[('Spencer Tracy', 7)]"
            ]
          },
          "metadata": {
            "tags": []
          },
          "execution_count": 39
        }
      ]
    },
    {
      "cell_type": "code",
      "metadata": {
        "id": "9W75pz8sO6FX",
        "outputId": "fa7f6fa1-0061-43e8-88e7-ca64bd69143b",
        "colab": {
          "base_uri": "https://localhost:8080/",
          "height": 207
        }
      },
      "source": [
        "print(\"Bonus! see al his movies nomanies or winner!\")\n",
        "Spencer = select(a.Film for a in AcademyAward).where(lambda a: a.Name == 'Spencer Tracy')\n",
        "list(Spencer)"
      ],
      "execution_count": 84,
      "outputs": [
        {
          "output_type": "stream",
          "text": [
            "Bonus! see al his movies nomanies or winner!\n"
          ],
          "name": "stdout"
        },
        {
          "output_type": "execute_result",
          "data": {
            "text/plain": [
              "['San Francisco',\n",
              " 'Captains Courageous',\n",
              " 'Boys Town',\n",
              " 'Father of the Bride',\n",
              " 'Bad Day at Black Rock',\n",
              " 'The Old Man and the Sea',\n",
              " 'Inherit the Wind',\n",
              " 'Judgment at Nuremberg',\n",
              " \"Guess Who's Coming to Dinner\"]"
            ]
          },
          "metadata": {
            "tags": []
          },
          "execution_count": 84
        }
      ]
    },
    {
      "cell_type": "markdown",
      "metadata": {
        "id": "BR33wDkbYCzD"
      },
      "source": [
        "**Question 2:** Who is the female director with the most Oscar nominees? (10pt)"
      ]
    },
    {
      "cell_type": "code",
      "metadata": {
        "id": "2jm9HeghYCzD"
      },
      "source": [
        ""
      ],
      "execution_count": null,
      "outputs": []
    },
    {
      "cell_type": "markdown",
      "metadata": {
        "id": "Va320K09YCzE"
      },
      "source": [
        "**Question 3:** Which top-10 movies received the highest number of Oscar nominees? (10pt)"
      ]
    },
    {
      "cell_type": "code",
      "metadata": {
        "id": "k9gVwnHVYCzF"
      },
      "source": [
        ""
      ],
      "execution_count": null,
      "outputs": []
    },
    {
      "cell_type": "markdown",
      "metadata": {
        "id": "AF15wiyqYCzH"
      },
      "source": [
        "**Question 4:** Write a function that receives an actor's name and returns the actor’s number of Oscar nominees. Use the function to calculate the number of times Leonardo DiCaprio was a nominee (10pt)"
      ]
    },
    {
      "cell_type": "code",
      "metadata": {
        "id": "_ZdwQJCWYCzH"
      },
      "source": [
        ""
      ],
      "execution_count": null,
      "outputs": []
    },
    {
      "cell_type": "markdown",
      "metadata": {
        "id": "eW1N-PBiYCzJ"
      },
      "source": [
        "## 5. Select a Dataset (15pt)"
      ]
    },
    {
      "cell_type": "markdown",
      "metadata": {
        "id": "Me79ek_mYCzJ"
      },
      "source": [
        "**Open Question:** Select an interesting dataset and use SQL to discover something interesting (15pt). **Bonus:** Use BigQuery (2pt)"
      ]
    },
    {
      "cell_type": "code",
      "metadata": {
        "id": "xXIIUhgccGWw",
        "outputId": "07207081-ae0e-4e95-e01c-78bdbbc28923",
        "colab": {
          "base_uri": "https://localhost:8080/",
          "height": 475
        }
      },
      "source": [
        "! kaggle datasets list"
      ],
      "execution_count": 41,
      "outputs": [
        {
          "output_type": "stream",
          "text": [
            "Warning: Looks like you're using an outdated API Version, please consider updating (server 1.5.9 / client 1.5.4)\n",
            "ref                                                               title                                                 size  lastUpdated          downloadCount  \n",
            "----------------------------------------------------------------  --------------------------------------------------  ------  -------------------  -------------  \n",
            "nehaprabhavalkar/indian-food-101                                  Indian Food 101                                        7KB  2020-09-30 06:23:43           4521  \n",
            "christianlillelund/donald-trumps-rallies                          Donald Trump's Rallies                               720KB  2020-09-26 10:25:08           1130  \n",
            "heeraldedhia/groceries-dataset                                    Groceries dataset                                    257KB  2020-09-17 04:36:08           5072  \n",
            "andrewmvd/trip-advisor-hotel-reviews                              Trip Advisor Hotel Reviews                             5MB  2020-09-30 08:31:20           3055  \n",
            "balraj98/stanford-background-dataset                              Stanford Background Dataset                           17MB  2020-09-26 12:57:59            325  \n",
            "jilkothari/finance-accounting-courses-udemy-13k-course            Finance & Accounting Courses - Udemy (13K+ course)  1000KB  2020-09-17 12:46:12           1400  \n",
            "balraj98/massachusetts-roads-dataset                              Massachusetts Roads Dataset                            6GB  2020-09-26 03:57:49            263  \n",
            "arslanali4343/top-personality-dataset                             Top Personality Dataset                                9MB  2020-09-27 21:25:45           1757  \n",
            "oldaandozerskaya/fiction-corpus-for-agebased-text-classification  RusAge: Corpus for Age-Based Text Classification     509MB  2020-09-28 09:30:12            100  \n",
            "gpreda/chinese-mnist                                              Chinese MNIST                                         10MB  2020-08-05 12:36:00            566  \n",
            "gpreda/local-elections-romania-2020                               Local Elections Romania 2020                          28MB  2020-09-27 20:46:11            264  \n",
            "anth7310/mental-health-in-the-tech-industry                       Mental Health in the Tech Industry                     2MB  2020-09-27 11:17:23           2390  \n",
            "roshansharma/sanfranciso-crime-dataset                            Sanfranciso Crime Dataset                              6MB  2019-05-29 12:45:44           5319  \n",
            "bppuneethpai/tldr-summary-for-man-pages                           TLDR summary for man pages                             8MB  2020-09-25 09:50:10             68  \n",
            "sterby/german-recipes-dataset                                     German Recipes Dataset                                 5MB  2019-03-06 16:25:22           1018  \n",
            "arslanali4343/real-estate-dataset                                 Real Estate DataSet                                   12KB  2020-09-28 21:25:33           1947  \n",
            "thomaskonstantin/top-270-rated-computer-science-programing-books  Top 270 Computer Science / Programing Books           45KB  2020-09-28 16:47:12            887  \n",
            "leangab/poe-short-stories-corpuscsv                               E.A. Poe's corpus of short stories                   725KB  2020-09-28 11:43:08            187  \n",
            "anmolkumar/health-insurance-cross-sell-prediction                 Health Insurance Cross Sell Prediction 🏠 🏥             6MB  2020-09-11 18:39:31           5343  \n",
            "ramjidoolla/ipl-data-set                                          IPL _Data_Set                                          1MB  2020-09-14 10:57:42           5381  \n"
          ],
          "name": "stdout"
        }
      ]
    },
    {
      "cell_type": "code",
      "metadata": {
        "id": "SpIw3seuIxNJ",
        "outputId": "c90af95a-671d-44bb-9c3c-77fec3abe257",
        "colab": {
          "base_uri": "https://localhost:8080/",
          "height": 112
        }
      },
      "source": [
        "# download and unzip dataset\n",
        "!kaggle datasets download arslanali4343/real-estate-dataset -p ./datasets/real-estate-dataset\n",
        "!unzip ./datasets/real-estate-dataset/real-estate-dataset.zip -d ./datasets/real-estate-dataset/"
      ],
      "execution_count": 50,
      "outputs": [
        {
          "output_type": "stream",
          "text": [
            "Downloading real-estate-dataset.zip to ./datasets/real-estate-dataset\n",
            "\r  0% 0.00/11.7k [00:00<?, ?B/s]\n",
            "\r100% 11.7k/11.7k [00:00<00:00, 16.1MB/s]\n",
            "Archive:  ./datasets/real-estate-dataset/real-estate-dataset.zip\n",
            "  inflating: ./datasets/real-estate-dataset/data.csv  \n"
          ],
          "name": "stdout"
        }
      ]
    },
    {
      "cell_type": "code",
      "metadata": {
        "id": "0AL2QbLoLcKt",
        "outputId": "7d92ba0e-bc5b-466b-a926-937549c0786d",
        "colab": {
          "base_uri": "https://localhost:8080/",
          "height": 226
        }
      },
      "source": [
        "df.head()"
      ],
      "execution_count": 56,
      "outputs": [
        {
          "output_type": "execute_result",
          "data": {
            "text/html": [
              "<div>\n",
              "<style scoped>\n",
              "    .dataframe tbody tr th:only-of-type {\n",
              "        vertical-align: middle;\n",
              "    }\n",
              "\n",
              "    .dataframe tbody tr th {\n",
              "        vertical-align: top;\n",
              "    }\n",
              "\n",
              "    .dataframe thead th {\n",
              "        text-align: right;\n",
              "    }\n",
              "</style>\n",
              "<table border=\"1\" class=\"dataframe\">\n",
              "  <thead>\n",
              "    <tr style=\"text-align: right;\">\n",
              "      <th></th>\n",
              "      <th>CRIM</th>\n",
              "      <th>ZN</th>\n",
              "      <th>INDUS</th>\n",
              "      <th>CHAS</th>\n",
              "      <th>NOX</th>\n",
              "      <th>RM</th>\n",
              "      <th>AGE</th>\n",
              "      <th>DIS</th>\n",
              "      <th>RAD</th>\n",
              "      <th>TAX</th>\n",
              "      <th>PTRATIO</th>\n",
              "      <th>B</th>\n",
              "      <th>LSTAT</th>\n",
              "      <th>MEDV</th>\n",
              "    </tr>\n",
              "  </thead>\n",
              "  <tbody>\n",
              "    <tr>\n",
              "      <th>0</th>\n",
              "      <td>0.00632</td>\n",
              "      <td>18.0</td>\n",
              "      <td>2.31</td>\n",
              "      <td>0</td>\n",
              "      <td>0.538</td>\n",
              "      <td>6.575</td>\n",
              "      <td>65.2</td>\n",
              "      <td>4.0900</td>\n",
              "      <td>1</td>\n",
              "      <td>296</td>\n",
              "      <td>15.3</td>\n",
              "      <td>396.90</td>\n",
              "      <td>4.98</td>\n",
              "      <td>24.0</td>\n",
              "    </tr>\n",
              "    <tr>\n",
              "      <th>1</th>\n",
              "      <td>0.02731</td>\n",
              "      <td>0.0</td>\n",
              "      <td>7.07</td>\n",
              "      <td>0</td>\n",
              "      <td>0.469</td>\n",
              "      <td>6.421</td>\n",
              "      <td>78.9</td>\n",
              "      <td>4.9671</td>\n",
              "      <td>2</td>\n",
              "      <td>242</td>\n",
              "      <td>17.8</td>\n",
              "      <td>396.90</td>\n",
              "      <td>9.14</td>\n",
              "      <td>21.6</td>\n",
              "    </tr>\n",
              "    <tr>\n",
              "      <th>2</th>\n",
              "      <td>0.02729</td>\n",
              "      <td>0.0</td>\n",
              "      <td>7.07</td>\n",
              "      <td>0</td>\n",
              "      <td>0.469</td>\n",
              "      <td>7.185</td>\n",
              "      <td>61.1</td>\n",
              "      <td>4.9671</td>\n",
              "      <td>2</td>\n",
              "      <td>242</td>\n",
              "      <td>17.8</td>\n",
              "      <td>392.83</td>\n",
              "      <td>4.03</td>\n",
              "      <td>34.7</td>\n",
              "    </tr>\n",
              "    <tr>\n",
              "      <th>3</th>\n",
              "      <td>0.03237</td>\n",
              "      <td>0.0</td>\n",
              "      <td>2.18</td>\n",
              "      <td>0</td>\n",
              "      <td>0.458</td>\n",
              "      <td>6.998</td>\n",
              "      <td>45.8</td>\n",
              "      <td>6.0622</td>\n",
              "      <td>3</td>\n",
              "      <td>222</td>\n",
              "      <td>18.7</td>\n",
              "      <td>394.63</td>\n",
              "      <td>2.94</td>\n",
              "      <td>33.4</td>\n",
              "    </tr>\n",
              "    <tr>\n",
              "      <th>4</th>\n",
              "      <td>0.06905</td>\n",
              "      <td>0.0</td>\n",
              "      <td>2.18</td>\n",
              "      <td>0</td>\n",
              "      <td>0.458</td>\n",
              "      <td>7.147</td>\n",
              "      <td>54.2</td>\n",
              "      <td>6.0622</td>\n",
              "      <td>3</td>\n",
              "      <td>222</td>\n",
              "      <td>18.7</td>\n",
              "      <td>396.90</td>\n",
              "      <td>5.33</td>\n",
              "      <td>36.2</td>\n",
              "    </tr>\n",
              "  </tbody>\n",
              "</table>\n",
              "</div>"
            ],
            "text/plain": [
              "      CRIM    ZN  INDUS  CHAS    NOX  ...  TAX  PTRATIO       B  LSTAT  MEDV\n",
              "0  0.00632  18.0   2.31     0  0.538  ...  296     15.3  396.90   4.98  24.0\n",
              "1  0.02731   0.0   7.07     0  0.469  ...  242     17.8  396.90   9.14  21.6\n",
              "2  0.02729   0.0   7.07     0  0.469  ...  242     17.8  392.83   4.03  34.7\n",
              "3  0.03237   0.0   2.18     0  0.458  ...  222     18.7  394.63   2.94  33.4\n",
              "4  0.06905   0.0   2.18     0  0.458  ...  222     18.7  396.90   5.33  36.2\n",
              "\n",
              "[5 rows x 14 columns]"
            ]
          },
          "metadata": {
            "tags": []
          },
          "execution_count": 56
        }
      ]
    },
    {
      "cell_type": "code",
      "metadata": {
        "id": "DJjA4z9MNB36",
        "outputId": "8bdaa4fa-7036-4861-c87e-3148fbc2bf28",
        "colab": {
          "base_uri": "https://localhost:8080/",
          "height": 36
        }
      },
      "source": [
        "import sqlite3\n",
        "import matplotlib\n",
        "import matplotlib.pyplot as plt\n",
        "import os\n",
        "%matplotlib inline\n",
        "csv_path = './datasets/real-estate-dataset/data.csv'\n",
        "DB_PATH = './datasets/real-estate-dataset/data.sqlite'\n",
        "\n",
        "# Connect to the DB_PATH\n",
        "conn = sqlite3.connect(DB_PATH) \n",
        "\n",
        "# Creating the cursor as Miki said\n",
        "c = conn.cursor() \n",
        "\n",
        "# First we will start by creating the Names table.\n",
        "c.execute(\n",
        "        '''CREATE TABLE IF NOT EXISTS Real\n",
        "             ([CRIM] double,\n",
        "              [ZN] double,\n",
        "              [INDUS] double,\n",
        "              [CHAS] integer,\n",
        "              [NOX] double,\n",
        "              [RM] double,\n",
        "              [AGE] double,\n",
        "              [DIS] double,\n",
        "              [RAD] integer,\n",
        "              [TAX] integer,\n",
        "              [PTRATIO] double,\n",
        "              [B] double,\n",
        "              [LSTAT] double,\n",
        "              [MEDV] double)\n",
        "        '''\n",
        ")\n",
        "\n",
        "# # After that we will read the text file with all the names\n",
        "# with open(TEXT_PATH) as f:\n",
        "#     names = f.readlines()\n",
        "\n",
        "# # Using list comprehension to create the list of values\n",
        "# names = [tuple(name.strip().split(\",\")) for name in names]\n",
        "\n",
        "df = pandas.read_csv(csv_path)\n",
        "# df.head()\n",
        "# Now insert all values from the columns that were asked\n",
        "c.executemany(\n",
        "    '''INSERT INTO Real(CRIM,ZN, INDUS, CHAS, NOX, RM, AGE, DIS, RAD, TAX,PTRATIO , B,LSTAT ,MEDV )\n",
        "       values (?,?,?,?,?,?, ?,?,?,?,?, ?, ?, ?)\n",
        "    ''', df.values\n",
        ")"
      ],
      "execution_count": 64,
      "outputs": [
        {
          "output_type": "execute_result",
          "data": {
            "text/plain": [
              "<sqlite3.Cursor at 0x7fa10ddb3f80>"
            ]
          },
          "metadata": {
            "tags": []
          },
          "execution_count": 64
        }
      ]
    },
    {
      "cell_type": "code",
      "metadata": {
        "id": "H9JE5Sp0N4BF"
      },
      "source": [
        "import matplotlib.pyplot as plt\n"
      ],
      "execution_count": 72,
      "outputs": []
    },
    {
      "cell_type": "code",
      "metadata": {
        "id": "FdXSCtKYEJeS",
        "outputId": "aed616d8-30f4-4768-9b38-ddeab477d241",
        "colab": {
          "base_uri": "https://localhost:8080/",
          "height": 295
        }
      },
      "source": [
        "pup = list(c.execute(\"SELECT PTRATIO FROM Real\").fetchall())\n",
        "RM = list(c.execute(\"SELECT RM FROM Real\").fetchall())\n",
        "plt.plot(pup, RM, 'x')\n",
        "plt.title(\"PUP vs RM\")\n",
        "plt.ylabel(\"Number of rooms\")\n",
        "plt.xlabel(\" pupil-teacher ratio\")\n",
        "plt.show()"
      ],
      "execution_count": 77,
      "outputs": [
        {
          "output_type": "display_data",
          "data": {
            "image/png": "[encoded data removed]",
            "text/plain": [
              "<Figure size 432x288 with 1 Axes>"
            ]
          },
          "metadata": {
            "tags": [],
            "needs_background": "light"
          }
        }
      ]
    },
    {
      "cell_type": "code",
      "metadata": {
        "id": "H0RwS7QRORIw",
        "outputId": "143e0638-d9c3-412d-d72b-39291e9e0d01",
        "colab": {
          "base_uri": "https://localhost:8080/",
          "height": 75
        }
      },
      "source": [
        "print(\"I wanted to check if the PUP ratio is smaller, that indicates that this is a good place to live in, and rich pepole live there, so they have many rooms\")\n",
        "print(\"Not sure the resuls realy show it, but it's a good start\")"
      ],
      "execution_count": 78,
      "outputs": [
        {
          "output_type": "stream",
          "text": [
            "I wanted to check if the PUP ratio is smaller, that indicates that this is a good place to live in, and rich pepole live there, so they have many rooms\n",
            "Not sure the resuls realy show it, but it's a good start\n"
          ],
          "name": "stdout"
        }
      ]
    }
  ]
}