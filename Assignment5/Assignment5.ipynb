{
  "nbformat": 4,
  "nbformat_minor": 0,
  "metadata": {
    "kernelspec": {
      "display_name": "Python 3",
      "language": "python",
      "name": "python3"
    },
    "language_info": {
      "codemirror_mode": {
        "name": "ipython",
        "version": 3
      },
      "file_extension": ".py",
      "mimetype": "text/x-python",
      "name": "python",
      "nbconvert_exporter": "python",
      "pygments_lexer": "ipython3",
      "version": "3.6.7"
    },
    "colab": {
      "name": "5_Analyzing Massive Graphs - Part II.ipynb",
      "provenance": [],
      "collapsed_sections": [],
      "machine_shape": "hm"
    },
    "widgets": {
      "application/vnd.jupyter.widget-state+json": {
        "fd99ca87588147bc9eee9b6109df2538": {
          "model_module": "@jupyter-widgets/controls",
          "model_name": "HBoxModel",
          "state": {
            "_view_name": "HBoxView",
            "_dom_classes": [],
            "_model_name": "HBoxModel",
            "_view_module": "@jupyter-widgets/controls",
            "_model_module_version": "1.5.0",
            "_view_count": null,
            "_view_module_version": "1.5.0",
            "box_style": "",
            "layout": "IPY_MODEL_988086b74a1f401c86ce51ae32133c73",
            "_model_module": "@jupyter-widgets/controls",
            "children": [
              "IPY_MODEL_6c830b7b64b442c6b81bd1e2eada34be",
              "IPY_MODEL_71cba5a6435748e0a1dc4014f23000b0"
            ]
          }
        },
        "988086b74a1f401c86ce51ae32133c73": {
          "model_module": "@jupyter-widgets/base",
          "model_name": "LayoutModel",
          "state": {
            "_view_name": "LayoutView",
            "grid_template_rows": null,
            "right": null,
            "justify_content": null,
            "_view_module": "@jupyter-widgets/base",
            "overflow": null,
            "_model_module_version": "1.2.0",
            "_view_count": null,
            "flex_flow": null,
            "width": null,
            "min_width": null,
            "border": null,
            "align_items": null,
            "bottom": null,
            "_model_module": "@jupyter-widgets/base",
            "top": null,
            "grid_column": null,
            "overflow_y": null,
            "overflow_x": null,
            "grid_auto_flow": null,
            "grid_area": null,
            "grid_template_columns": null,
            "flex": null,
            "_model_name": "LayoutModel",
            "justify_items": null,
            "grid_row": null,
            "max_height": null,
            "align_content": null,
            "visibility": null,
            "align_self": null,
            "height": null,
            "min_height": null,
            "padding": null,
            "grid_auto_rows": null,
            "grid_gap": null,
            "max_width": null,
            "order": null,
            "_view_module_version": "1.2.0",
            "grid_template_areas": null,
            "object_position": null,
            "object_fit": null,
            "grid_auto_columns": null,
            "margin": null,
            "display": null,
            "left": null
          }
        },
        "6c830b7b64b442c6b81bd1e2eada34be": {
          "model_module": "@jupyter-widgets/controls",
          "model_name": "FloatProgressModel",
          "state": {
            "_view_name": "ProgressView",
            "style": "IPY_MODEL_6bc635e2bd134cc2b95320b04017f1fa",
            "_dom_classes": [],
            "description": "100%",
            "_model_name": "FloatProgressModel",
            "bar_style": "success",
            "max": 10000,
            "_view_module": "@jupyter-widgets/controls",
            "_model_module_version": "1.5.0",
            "value": 10000,
            "_view_count": null,
            "_view_module_version": "1.5.0",
            "orientation": "horizontal",
            "min": 0,
            "description_tooltip": null,
            "_model_module": "@jupyter-widgets/controls",
            "layout": "IPY_MODEL_b4ad5efd69ce4149b72deffc9267bb06"
          }
        },
        "71cba5a6435748e0a1dc4014f23000b0": {
          "model_module": "@jupyter-widgets/controls",
          "model_name": "HTMLModel",
          "state": {
            "_view_name": "HTMLView",
            "style": "IPY_MODEL_951edf29e5fb4c89b1e942b1734aa274",
            "_dom_classes": [],
            "description": "",
            "_model_name": "HTMLModel",
            "placeholder": "​",
            "_view_module": "@jupyter-widgets/controls",
            "_model_module_version": "1.5.0",
            "value": " 10000/10000 [00:00&lt;00:00, 54277.42it/s]",
            "_view_count": null,
            "_view_module_version": "1.5.0",
            "description_tooltip": null,
            "_model_module": "@jupyter-widgets/controls",
            "layout": "IPY_MODEL_494f20eb53544898ad2b86ebe3e900e5"
          }
        },
        "6bc635e2bd134cc2b95320b04017f1fa": {
          "model_module": "@jupyter-widgets/controls",
          "model_name": "ProgressStyleModel",
          "state": {
            "_view_name": "StyleView",
            "_model_name": "ProgressStyleModel",
            "description_width": "initial",
            "_view_module": "@jupyter-widgets/base",
            "_model_module_version": "1.5.0",
            "_view_count": null,
            "_view_module_version": "1.2.0",
            "bar_color": null,
            "_model_module": "@jupyter-widgets/controls"
          }
        },
        "b4ad5efd69ce4149b72deffc9267bb06": {
          "model_module": "@jupyter-widgets/base",
          "model_name": "LayoutModel",
          "state": {
            "_view_name": "LayoutView",
            "grid_template_rows": null,
            "right": null,
            "justify_content": null,
            "_view_module": "@jupyter-widgets/base",
            "overflow": null,
            "_model_module_version": "1.2.0",
            "_view_count": null,
            "flex_flow": null,
            "width": null,
            "min_width": null,
            "border": null,
            "align_items": null,
            "bottom": null,
            "_model_module": "@jupyter-widgets/base",
            "top": null,
            "grid_column": null,
            "overflow_y": null,
            "overflow_x": null,
            "grid_auto_flow": null,
            "grid_area": null,
            "grid_template_columns": null,
            "flex": null,
            "_model_name": "LayoutModel",
            "justify_items": null,
            "grid_row": null,
            "max_height": null,
            "align_content": null,
            "visibility": null,
            "align_self": null,
            "height": null,
            "min_height": null,
            "padding": null,
            "grid_auto_rows": null,
            "grid_gap": null,
            "max_width": null,
            "order": null,
            "_view_module_version": "1.2.0",
            "grid_template_areas": null,
            "object_position": null,
            "object_fit": null,
            "grid_auto_columns": null,
            "margin": null,
            "display": null,
            "left": null
          }
        },
        "951edf29e5fb4c89b1e942b1734aa274": {
          "model_module": "@jupyter-widgets/controls",
          "model_name": "DescriptionStyleModel",
          "state": {
            "_view_name": "StyleView",
            "_model_name": "DescriptionStyleModel",
            "description_width": "",
            "_view_module": "@jupyter-widgets/base",
            "_model_module_version": "1.5.0",
            "_view_count": null,
            "_view_module_version": "1.2.0",
            "_model_module": "@jupyter-widgets/controls"
          }
        },
        "494f20eb53544898ad2b86ebe3e900e5": {
          "model_module": "@jupyter-widgets/base",
          "model_name": "LayoutModel",
          "state": {
            "_view_name": "LayoutView",
            "grid_template_rows": null,
            "right": null,
            "justify_content": null,
            "_view_module": "@jupyter-widgets/base",
            "overflow": null,
            "_model_module_version": "1.2.0",
            "_view_count": null,
            "flex_flow": null,
            "width": null,
            "min_width": null,
            "border": null,
            "align_items": null,
            "bottom": null,
            "_model_module": "@jupyter-widgets/base",
            "top": null,
            "grid_column": null,
            "overflow_y": null,
            "overflow_x": null,
            "grid_auto_flow": null,
            "grid_area": null,
            "grid_template_columns": null,
            "flex": null,
            "_model_name": "LayoutModel",
            "justify_items": null,
            "grid_row": null,
            "max_height": null,
            "align_content": null,
            "visibility": null,
            "align_self": null,
            "height": null,
            "min_height": null,
            "padding": null,
            "grid_auto_rows": null,
            "grid_gap": null,
            "max_width": null,
            "order": null,
            "_view_module_version": "1.2.0",
            "grid_template_areas": null,
            "object_position": null,
            "object_fit": null,
            "grid_auto_columns": null,
            "margin": null,
            "display": null,
            "left": null
          }
        },
        "5f5a7e51041a4022852e525900c0ac27": {
          "model_module": "@jupyter-widgets/controls",
          "model_name": "HBoxModel",
          "state": {
            "_view_name": "HBoxView",
            "_dom_classes": [],
            "_model_name": "HBoxModel",
            "_view_module": "@jupyter-widgets/controls",
            "_model_module_version": "1.5.0",
            "_view_count": null,
            "_view_module_version": "1.5.0",
            "box_style": "",
            "layout": "IPY_MODEL_d504cb6150e5452d8e4436a3c32db9c7",
            "_model_module": "@jupyter-widgets/controls",
            "children": [
              "IPY_MODEL_797fec48c2a44824b63bc4d7f9ae5c90",
              "IPY_MODEL_2ca9aaac0c9147b6a32d671692932394"
            ]
          }
        },
        "d504cb6150e5452d8e4436a3c32db9c7": {
          "model_module": "@jupyter-widgets/base",
          "model_name": "LayoutModel",
          "state": {
            "_view_name": "LayoutView",
            "grid_template_rows": null,
            "right": null,
            "justify_content": null,
            "_view_module": "@jupyter-widgets/base",
            "overflow": null,
            "_model_module_version": "1.2.0",
            "_view_count": null,
            "flex_flow": null,
            "width": null,
            "min_width": null,
            "border": null,
            "align_items": null,
            "bottom": null,
            "_model_module": "@jupyter-widgets/base",
            "top": null,
            "grid_column": null,
            "overflow_y": null,
            "overflow_x": null,
            "grid_auto_flow": null,
            "grid_area": null,
            "grid_template_columns": null,
            "flex": null,
            "_model_name": "LayoutModel",
            "justify_items": null,
            "grid_row": null,
            "max_height": null,
            "align_content": null,
            "visibility": null,
            "align_self": null,
            "height": null,
            "min_height": null,
            "padding": null,
            "grid_auto_rows": null,
            "grid_gap": null,
            "max_width": null,
            "order": null,
            "_view_module_version": "1.2.0",
            "grid_template_areas": null,
            "object_position": null,
            "object_fit": null,
            "grid_auto_columns": null,
            "margin": null,
            "display": null,
            "left": null
          }
        },
        "797fec48c2a44824b63bc4d7f9ae5c90": {
          "model_module": "@jupyter-widgets/controls",
          "model_name": "FloatProgressModel",
          "state": {
            "_view_name": "ProgressView",
            "style": "IPY_MODEL_4cc0f8d5a11942b7a4bb1fca69c00d9b",
            "_dom_classes": [],
            "description": "100%",
            "_model_name": "FloatProgressModel",
            "bar_style": "success",
            "max": 10000,
            "_view_module": "@jupyter-widgets/controls",
            "_model_module_version": "1.5.0",
            "value": 10000,
            "_view_count": null,
            "_view_module_version": "1.5.0",
            "orientation": "horizontal",
            "min": 0,
            "description_tooltip": null,
            "_model_module": "@jupyter-widgets/controls",
            "layout": "IPY_MODEL_b654cc218fdf42fb9599ccfec0330f2e"
          }
        },
        "2ca9aaac0c9147b6a32d671692932394": {
          "model_module": "@jupyter-widgets/controls",
          "model_name": "HTMLModel",
          "state": {
            "_view_name": "HTMLView",
            "style": "IPY_MODEL_570366dd29994f97907eeeff9307a2bf",
            "_dom_classes": [],
            "description": "",
            "_model_name": "HTMLModel",
            "placeholder": "​",
            "_view_module": "@jupyter-widgets/controls",
            "_model_module_version": "1.5.0",
            "value": " 10000/10000 [00:00&lt;00:00, 76075.55it/s]",
            "_view_count": null,
            "_view_module_version": "1.5.0",
            "description_tooltip": null,
            "_model_module": "@jupyter-widgets/controls",
            "layout": "IPY_MODEL_3034791cf5a942a0b60c223cd38f0533"
          }
        },
        "4cc0f8d5a11942b7a4bb1fca69c00d9b": {
          "model_module": "@jupyter-widgets/controls",
          "model_name": "ProgressStyleModel",
          "state": {
            "_view_name": "StyleView",
            "_model_name": "ProgressStyleModel",
            "description_width": "initial",
            "_view_module": "@jupyter-widgets/base",
            "_model_module_version": "1.5.0",
            "_view_count": null,
            "_view_module_version": "1.2.0",
            "bar_color": null,
            "_model_module": "@jupyter-widgets/controls"
          }
        },
        "b654cc218fdf42fb9599ccfec0330f2e": {
          "model_module": "@jupyter-widgets/base",
          "model_name": "LayoutModel",
          "state": {
            "_view_name": "LayoutView",
            "grid_template_rows": null,
            "right": null,
            "justify_content": null,
            "_view_module": "@jupyter-widgets/base",
            "overflow": null,
            "_model_module_version": "1.2.0",
            "_view_count": null,
            "flex_flow": null,
            "width": null,
            "min_width": null,
            "border": null,
            "align_items": null,
            "bottom": null,
            "_model_module": "@jupyter-widgets/base",
            "top": null,
            "grid_column": null,
            "overflow_y": null,
            "overflow_x": null,
            "grid_auto_flow": null,
            "grid_area": null,
            "grid_template_columns": null,
            "flex": null,
            "_model_name": "LayoutModel",
            "justify_items": null,
            "grid_row": null,
            "max_height": null,
            "align_content": null,
            "visibility": null,
            "align_self": null,
            "height": null,
            "min_height": null,
            "padding": null,
            "grid_auto_rows": null,
            "grid_gap": null,
            "max_width": null,
            "order": null,
            "_view_module_version": "1.2.0",
            "grid_template_areas": null,
            "object_position": null,
            "object_fit": null,
            "grid_auto_columns": null,
            "margin": null,
            "display": null,
            "left": null
          }
        },
        "570366dd29994f97907eeeff9307a2bf": {
          "model_module": "@jupyter-widgets/controls",
          "model_name": "DescriptionStyleModel",
          "state": {
            "_view_name": "StyleView",
            "_model_name": "DescriptionStyleModel",
            "description_width": "",
            "_view_module": "@jupyter-widgets/base",
            "_model_module_version": "1.5.0",
            "_view_count": null,
            "_view_module_version": "1.2.0",
            "_model_module": "@jupyter-widgets/controls"
          }
        },
        "3034791cf5a942a0b60c223cd38f0533": {
          "model_module": "@jupyter-widgets/base",
          "model_name": "LayoutModel",
          "state": {
            "_view_name": "LayoutView",
            "grid_template_rows": null,
            "right": null,
            "justify_content": null,
            "_view_module": "@jupyter-widgets/base",
            "overflow": null,
            "_model_module_version": "1.2.0",
            "_view_count": null,
            "flex_flow": null,
            "width": null,
            "min_width": null,
            "border": null,
            "align_items": null,
            "bottom": null,
            "_model_module": "@jupyter-widgets/base",
            "top": null,
            "grid_column": null,
            "overflow_y": null,
            "overflow_x": null,
            "grid_auto_flow": null,
            "grid_area": null,
            "grid_template_columns": null,
            "flex": null,
            "_model_name": "LayoutModel",
            "justify_items": null,
            "grid_row": null,
            "max_height": null,
            "align_content": null,
            "visibility": null,
            "align_self": null,
            "height": null,
            "min_height": null,
            "padding": null,
            "grid_auto_rows": null,
            "grid_gap": null,
            "max_width": null,
            "order": null,
            "_view_module_version": "1.2.0",
            "grid_template_areas": null,
            "object_position": null,
            "object_fit": null,
            "grid_auto_columns": null,
            "margin": null,
            "display": null,
            "left": null
          }
        },
        "2b24f8efe8ea492c9e21b184fa33c626": {
          "model_module": "@jupyter-widgets/controls",
          "model_name": "HBoxModel",
          "state": {
            "_view_name": "HBoxView",
            "_dom_classes": [],
            "_model_name": "HBoxModel",
            "_view_module": "@jupyter-widgets/controls",
            "_model_module_version": "1.5.0",
            "_view_count": null,
            "_view_module_version": "1.5.0",
            "box_style": "",
            "layout": "IPY_MODEL_3a65e4dead5141b98917e6ff657f795c",
            "_model_module": "@jupyter-widgets/controls",
            "children": [
              "IPY_MODEL_ff0e134a8d174e5fac6f38d914ae01d0",
              "IPY_MODEL_a3cfe8d5abf04fdcb131e4ac8307a9a7"
            ]
          }
        },
        "3a65e4dead5141b98917e6ff657f795c": {
          "model_module": "@jupyter-widgets/base",
          "model_name": "LayoutModel",
          "state": {
            "_view_name": "LayoutView",
            "grid_template_rows": null,
            "right": null,
            "justify_content": null,
            "_view_module": "@jupyter-widgets/base",
            "overflow": null,
            "_model_module_version": "1.2.0",
            "_view_count": null,
            "flex_flow": null,
            "width": null,
            "min_width": null,
            "border": null,
            "align_items": null,
            "bottom": null,
            "_model_module": "@jupyter-widgets/base",
            "top": null,
            "grid_column": null,
            "overflow_y": null,
            "overflow_x": null,
            "grid_auto_flow": null,
            "grid_area": null,
            "grid_template_columns": null,
            "flex": null,
            "_model_name": "LayoutModel",
            "justify_items": null,
            "grid_row": null,
            "max_height": null,
            "align_content": null,
            "visibility": null,
            "align_self": null,
            "height": null,
            "min_height": null,
            "padding": null,
            "grid_auto_rows": null,
            "grid_gap": null,
            "max_width": null,
            "order": null,
            "_view_module_version": "1.2.0",
            "grid_template_areas": null,
            "object_position": null,
            "object_fit": null,
            "grid_auto_columns": null,
            "margin": null,
            "display": null,
            "left": null
          }
        },
        "ff0e134a8d174e5fac6f38d914ae01d0": {
          "model_module": "@jupyter-widgets/controls",
          "model_name": "FloatProgressModel",
          "state": {
            "_view_name": "ProgressView",
            "style": "IPY_MODEL_1214d80bca914bfc9e483b6ff9d8b56c",
            "_dom_classes": [],
            "description": "100%",
            "_model_name": "FloatProgressModel",
            "bar_style": "success",
            "max": 686,
            "_view_module": "@jupyter-widgets/controls",
            "_model_module_version": "1.5.0",
            "value": 686,
            "_view_count": null,
            "_view_module_version": "1.5.0",
            "orientation": "horizontal",
            "min": 0,
            "description_tooltip": null,
            "_model_module": "@jupyter-widgets/controls",
            "layout": "IPY_MODEL_4e236db2eb594fa9bc0da85bae2995d9"
          }
        },
        "a3cfe8d5abf04fdcb131e4ac8307a9a7": {
          "model_module": "@jupyter-widgets/controls",
          "model_name": "HTMLModel",
          "state": {
            "_view_name": "HTMLView",
            "style": "IPY_MODEL_9a7e6b050bdb42989777e9693c3f7333",
            "_dom_classes": [],
            "description": "",
            "_model_name": "HTMLModel",
            "placeholder": "​",
            "_view_module": "@jupyter-widgets/controls",
            "_model_module_version": "1.5.0",
            "value": " 686/686 [00:01&lt;00:00, 422.92it/s]",
            "_view_count": null,
            "_view_module_version": "1.5.0",
            "description_tooltip": null,
            "_model_module": "@jupyter-widgets/controls",
            "layout": "IPY_MODEL_a3d40cfb32834cbd8bec7c5246dddbf8"
          }
        },
        "1214d80bca914bfc9e483b6ff9d8b56c": {
          "model_module": "@jupyter-widgets/controls",
          "model_name": "ProgressStyleModel",
          "state": {
            "_view_name": "StyleView",
            "_model_name": "ProgressStyleModel",
            "description_width": "initial",
            "_view_module": "@jupyter-widgets/base",
            "_model_module_version": "1.5.0",
            "_view_count": null,
            "_view_module_version": "1.2.0",
            "bar_color": null,
            "_model_module": "@jupyter-widgets/controls"
          }
        },
        "4e236db2eb594fa9bc0da85bae2995d9": {
          "model_module": "@jupyter-widgets/base",
          "model_name": "LayoutModel",
          "state": {
            "_view_name": "LayoutView",
            "grid_template_rows": null,
            "right": null,
            "justify_content": null,
            "_view_module": "@jupyter-widgets/base",
            "overflow": null,
            "_model_module_version": "1.2.0",
            "_view_count": null,
            "flex_flow": null,
            "width": null,
            "min_width": null,
            "border": null,
            "align_items": null,
            "bottom": null,
            "_model_module": "@jupyter-widgets/base",
            "top": null,
            "grid_column": null,
            "overflow_y": null,
            "overflow_x": null,
            "grid_auto_flow": null,
            "grid_area": null,
            "grid_template_columns": null,
            "flex": null,
            "_model_name": "LayoutModel",
            "justify_items": null,
            "grid_row": null,
            "max_height": null,
            "align_content": null,
            "visibility": null,
            "align_self": null,
            "height": null,
            "min_height": null,
            "padding": null,
            "grid_auto_rows": null,
            "grid_gap": null,
            "max_width": null,
            "order": null,
            "_view_module_version": "1.2.0",
            "grid_template_areas": null,
            "object_position": null,
            "object_fit": null,
            "grid_auto_columns": null,
            "margin": null,
            "display": null,
            "left": null
          }
        },
        "9a7e6b050bdb42989777e9693c3f7333": {
          "model_module": "@jupyter-widgets/controls",
          "model_name": "DescriptionStyleModel",
          "state": {
            "_view_name": "StyleView",
            "_model_name": "DescriptionStyleModel",
            "description_width": "",
            "_view_module": "@jupyter-widgets/base",
            "_model_module_version": "1.5.0",
            "_view_count": null,
            "_view_module_version": "1.2.0",
            "_model_module": "@jupyter-widgets/controls"
          }
        },
        "a3d40cfb32834cbd8bec7c5246dddbf8": {
          "model_module": "@jupyter-widgets/base",
          "model_name": "LayoutModel",
          "state": {
            "_view_name": "LayoutView",
            "grid_template_rows": null,
            "right": null,
            "justify_content": null,
            "_view_module": "@jupyter-widgets/base",
            "overflow": null,
            "_model_module_version": "1.2.0",
            "_view_count": null,
            "flex_flow": null,
            "width": null,
            "min_width": null,
            "border": null,
            "align_items": null,
            "bottom": null,
            "_model_module": "@jupyter-widgets/base",
            "top": null,
            "grid_column": null,
            "overflow_y": null,
            "overflow_x": null,
            "grid_auto_flow": null,
            "grid_area": null,
            "grid_template_columns": null,
            "flex": null,
            "_model_name": "LayoutModel",
            "justify_items": null,
            "grid_row": null,
            "max_height": null,
            "align_content": null,
            "visibility": null,
            "align_self": null,
            "height": null,
            "min_height": null,
            "padding": null,
            "grid_auto_rows": null,
            "grid_gap": null,
            "max_width": null,
            "order": null,
            "_view_module_version": "1.2.0",
            "grid_template_areas": null,
            "object_position": null,
            "object_fit": null,
            "grid_auto_columns": null,
            "margin": null,
            "display": null,
            "left": null
          }
        },
        "6670c75b8c254643ac54b91ee44d8d39": {
          "model_module": "@jupyter-widgets/controls",
          "model_name": "HBoxModel",
          "state": {
            "_view_name": "HBoxView",
            "_dom_classes": [],
            "_model_name": "HBoxModel",
            "_view_module": "@jupyter-widgets/controls",
            "_model_module_version": "1.5.0",
            "_view_count": null,
            "_view_module_version": "1.5.0",
            "box_style": "",
            "layout": "IPY_MODEL_87e809fe17fb4b4f99ebd02e96ea7e6b",
            "_model_module": "@jupyter-widgets/controls",
            "children": [
              "IPY_MODEL_930431b7b8bd45ae863510cdb5a32345",
              "IPY_MODEL_0bff405f9d2e43e4a30c0c3068effd6b"
            ]
          }
        },
        "87e809fe17fb4b4f99ebd02e96ea7e6b": {
          "model_module": "@jupyter-widgets/base",
          "model_name": "LayoutModel",
          "state": {
            "_view_name": "LayoutView",
            "grid_template_rows": null,
            "right": null,
            "justify_content": null,
            "_view_module": "@jupyter-widgets/base",
            "overflow": null,
            "_model_module_version": "1.2.0",
            "_view_count": null,
            "flex_flow": null,
            "width": null,
            "min_width": null,
            "border": null,
            "align_items": null,
            "bottom": null,
            "_model_module": "@jupyter-widgets/base",
            "top": null,
            "grid_column": null,
            "overflow_y": null,
            "overflow_x": null,
            "grid_auto_flow": null,
            "grid_area": null,
            "grid_template_columns": null,
            "flex": null,
            "_model_name": "LayoutModel",
            "justify_items": null,
            "grid_row": null,
            "max_height": null,
            "align_content": null,
            "visibility": null,
            "align_self": null,
            "height": null,
            "min_height": null,
            "padding": null,
            "grid_auto_rows": null,
            "grid_gap": null,
            "max_width": null,
            "order": null,
            "_view_module_version": "1.2.0",
            "grid_template_areas": null,
            "object_position": null,
            "object_fit": null,
            "grid_auto_columns": null,
            "margin": null,
            "display": null,
            "left": null
          }
        },
        "930431b7b8bd45ae863510cdb5a32345": {
          "model_module": "@jupyter-widgets/controls",
          "model_name": "FloatProgressModel",
          "state": {
            "_view_name": "ProgressView",
            "style": "IPY_MODEL_ce767f0bedba4219b421305b7aa2a84a",
            "_dom_classes": [],
            "description": "100%",
            "_model_name": "FloatProgressModel",
            "bar_style": "success",
            "max": 10000,
            "_view_module": "@jupyter-widgets/controls",
            "_model_module_version": "1.5.0",
            "value": 10000,
            "_view_count": null,
            "_view_module_version": "1.5.0",
            "orientation": "horizontal",
            "min": 0,
            "description_tooltip": null,
            "_model_module": "@jupyter-widgets/controls",
            "layout": "IPY_MODEL_29992d4df0fe4f42a1ee5a545760c799"
          }
        },
        "0bff405f9d2e43e4a30c0c3068effd6b": {
          "model_module": "@jupyter-widgets/controls",
          "model_name": "HTMLModel",
          "state": {
            "_view_name": "HTMLView",
            "style": "IPY_MODEL_646c1982b8194d9aada5730f0058e93d",
            "_dom_classes": [],
            "description": "",
            "_model_name": "HTMLModel",
            "placeholder": "​",
            "_view_module": "@jupyter-widgets/controls",
            "_model_module_version": "1.5.0",
            "value": " 10000/10000 [00:02&lt;00:00, 4636.84it/s]",
            "_view_count": null,
            "_view_module_version": "1.5.0",
            "description_tooltip": null,
            "_model_module": "@jupyter-widgets/controls",
            "layout": "IPY_MODEL_8c73d93169a84debacc76f5af42bb144"
          }
        },
        "ce767f0bedba4219b421305b7aa2a84a": {
          "model_module": "@jupyter-widgets/controls",
          "model_name": "ProgressStyleModel",
          "state": {
            "_view_name": "StyleView",
            "_model_name": "ProgressStyleModel",
            "description_width": "initial",
            "_view_module": "@jupyter-widgets/base",
            "_model_module_version": "1.5.0",
            "_view_count": null,
            "_view_module_version": "1.2.0",
            "bar_color": null,
            "_model_module": "@jupyter-widgets/controls"
          }
        },
        "29992d4df0fe4f42a1ee5a545760c799": {
          "model_module": "@jupyter-widgets/base",
          "model_name": "LayoutModel",
          "state": {
            "_view_name": "LayoutView",
            "grid_template_rows": null,
            "right": null,
            "justify_content": null,
            "_view_module": "@jupyter-widgets/base",
            "overflow": null,
            "_model_module_version": "1.2.0",
            "_view_count": null,
            "flex_flow": null,
            "width": null,
            "min_width": null,
            "border": null,
            "align_items": null,
            "bottom": null,
            "_model_module": "@jupyter-widgets/base",
            "top": null,
            "grid_column": null,
            "overflow_y": null,
            "overflow_x": null,
            "grid_auto_flow": null,
            "grid_area": null,
            "grid_template_columns": null,
            "flex": null,
            "_model_name": "LayoutModel",
            "justify_items": null,
            "grid_row": null,
            "max_height": null,
            "align_content": null,
            "visibility": null,
            "align_self": null,
            "height": null,
            "min_height": null,
            "padding": null,
            "grid_auto_rows": null,
            "grid_gap": null,
            "max_width": null,
            "order": null,
            "_view_module_version": "1.2.0",
            "grid_template_areas": null,
            "object_position": null,
            "object_fit": null,
            "grid_auto_columns": null,
            "margin": null,
            "display": null,
            "left": null
          }
        },
        "646c1982b8194d9aada5730f0058e93d": {
          "model_module": "@jupyter-widgets/controls",
          "model_name": "DescriptionStyleModel",
          "state": {
            "_view_name": "StyleView",
            "_model_name": "DescriptionStyleModel",
            "description_width": "",
            "_view_module": "@jupyter-widgets/base",
            "_model_module_version": "1.5.0",
            "_view_count": null,
            "_view_module_version": "1.2.0",
            "_model_module": "@jupyter-widgets/controls"
          }
        },
        "8c73d93169a84debacc76f5af42bb144": {
          "model_module": "@jupyter-widgets/base",
          "model_name": "LayoutModel",
          "state": {
            "_view_name": "LayoutView",
            "grid_template_rows": null,
            "right": null,
            "justify_content": null,
            "_view_module": "@jupyter-widgets/base",
            "overflow": null,
            "_model_module_version": "1.2.0",
            "_view_count": null,
            "flex_flow": null,
            "width": null,
            "min_width": null,
            "border": null,
            "align_items": null,
            "bottom": null,
            "_model_module": "@jupyter-widgets/base",
            "top": null,
            "grid_column": null,
            "overflow_y": null,
            "overflow_x": null,
            "grid_auto_flow": null,
            "grid_area": null,
            "grid_template_columns": null,
            "flex": null,
            "_model_name": "LayoutModel",
            "justify_items": null,
            "grid_row": null,
            "max_height": null,
            "align_content": null,
            "visibility": null,
            "align_self": null,
            "height": null,
            "min_height": null,
            "padding": null,
            "grid_auto_rows": null,
            "grid_gap": null,
            "max_width": null,
            "order": null,
            "_view_module_version": "1.2.0",
            "grid_template_areas": null,
            "object_position": null,
            "object_fit": null,
            "grid_auto_columns": null,
            "margin": null,
            "display": null,
            "left": null
          }
        },
        "4e0a262c972f4214bdd37a14cd385336": {
          "model_module": "@jupyter-widgets/controls",
          "model_name": "HBoxModel",
          "state": {
            "_view_name": "HBoxView",
            "_dom_classes": [],
            "_model_name": "HBoxModel",
            "_view_module": "@jupyter-widgets/controls",
            "_model_module_version": "1.5.0",
            "_view_count": null,
            "_view_module_version": "1.5.0",
            "box_style": "",
            "layout": "IPY_MODEL_93404cc715504c5d9098dc0aad1db42b",
            "_model_module": "@jupyter-widgets/controls",
            "children": [
              "IPY_MODEL_2542a9c6111849c6943cef3d9de5779a",
              "IPY_MODEL_58cac6bf74654fff87a30522ee7903bd"
            ]
          }
        },
        "93404cc715504c5d9098dc0aad1db42b": {
          "model_module": "@jupyter-widgets/base",
          "model_name": "LayoutModel",
          "state": {
            "_view_name": "LayoutView",
            "grid_template_rows": null,
            "right": null,
            "justify_content": null,
            "_view_module": "@jupyter-widgets/base",
            "overflow": null,
            "_model_module_version": "1.2.0",
            "_view_count": null,
            "flex_flow": null,
            "width": null,
            "min_width": null,
            "border": null,
            "align_items": null,
            "bottom": null,
            "_model_module": "@jupyter-widgets/base",
            "top": null,
            "grid_column": null,
            "overflow_y": null,
            "overflow_x": null,
            "grid_auto_flow": null,
            "grid_area": null,
            "grid_template_columns": null,
            "flex": null,
            "_model_name": "LayoutModel",
            "justify_items": null,
            "grid_row": null,
            "max_height": null,
            "align_content": null,
            "visibility": null,
            "align_self": null,
            "height": null,
            "min_height": null,
            "padding": null,
            "grid_auto_rows": null,
            "grid_gap": null,
            "max_width": null,
            "order": null,
            "_view_module_version": "1.2.0",
            "grid_template_areas": null,
            "object_position": null,
            "object_fit": null,
            "grid_auto_columns": null,
            "margin": null,
            "display": null,
            "left": null
          }
        },
        "2542a9c6111849c6943cef3d9de5779a": {
          "model_module": "@jupyter-widgets/controls",
          "model_name": "FloatProgressModel",
          "state": {
            "_view_name": "ProgressView",
            "style": "IPY_MODEL_dfc9591a823044d19cc5de096eb0e206",
            "_dom_classes": [],
            "description": "100%",
            "_model_name": "FloatProgressModel",
            "bar_style": "success",
            "max": 99279,
            "_view_module": "@jupyter-widgets/controls",
            "_model_module_version": "1.5.0",
            "value": 99279,
            "_view_count": null,
            "_view_module_version": "1.5.0",
            "orientation": "horizontal",
            "min": 0,
            "description_tooltip": null,
            "_model_module": "@jupyter-widgets/controls",
            "layout": "IPY_MODEL_dd3bba1563cd446fa441a3d6598fd28a"
          }
        },
        "58cac6bf74654fff87a30522ee7903bd": {
          "model_module": "@jupyter-widgets/controls",
          "model_name": "HTMLModel",
          "state": {
            "_view_name": "HTMLView",
            "style": "IPY_MODEL_ad68319d36364434b1bd618ba0359954",
            "_dom_classes": [],
            "description": "",
            "_model_name": "HTMLModel",
            "placeholder": "​",
            "_view_module": "@jupyter-widgets/controls",
            "_model_module_version": "1.5.0",
            "value": " 99279/99279 [00:10&lt;00:00, 9151.20it/s]",
            "_view_count": null,
            "_view_module_version": "1.5.0",
            "description_tooltip": null,
            "_model_module": "@jupyter-widgets/controls",
            "layout": "IPY_MODEL_08b34a529e6041d3b961e70d8a5d8e26"
          }
        },
        "dfc9591a823044d19cc5de096eb0e206": {
          "model_module": "@jupyter-widgets/controls",
          "model_name": "ProgressStyleModel",
          "state": {
            "_view_name": "StyleView",
            "_model_name": "ProgressStyleModel",
            "description_width": "initial",
            "_view_module": "@jupyter-widgets/base",
            "_model_module_version": "1.5.0",
            "_view_count": null,
            "_view_module_version": "1.2.0",
            "bar_color": null,
            "_model_module": "@jupyter-widgets/controls"
          }
        },
        "dd3bba1563cd446fa441a3d6598fd28a": {
          "model_module": "@jupyter-widgets/base",
          "model_name": "LayoutModel",
          "state": {
            "_view_name": "LayoutView",
            "grid_template_rows": null,
            "right": null,
            "justify_content": null,
            "_view_module": "@jupyter-widgets/base",
            "overflow": null,
            "_model_module_version": "1.2.0",
            "_view_count": null,
            "flex_flow": null,
            "width": null,
            "min_width": null,
            "border": null,
            "align_items": null,
            "bottom": null,
            "_model_module": "@jupyter-widgets/base",
            "top": null,
            "grid_column": null,
            "overflow_y": null,
            "overflow_x": null,
            "grid_auto_flow": null,
            "grid_area": null,
            "grid_template_columns": null,
            "flex": null,
            "_model_name": "LayoutModel",
            "justify_items": null,
            "grid_row": null,
            "max_height": null,
            "align_content": null,
            "visibility": null,
            "align_self": null,
            "height": null,
            "min_height": null,
            "padding": null,
            "grid_auto_rows": null,
            "grid_gap": null,
            "max_width": null,
            "order": null,
            "_view_module_version": "1.2.0",
            "grid_template_areas": null,
            "object_position": null,
            "object_fit": null,
            "grid_auto_columns": null,
            "margin": null,
            "display": null,
            "left": null
          }
        },
        "ad68319d36364434b1bd618ba0359954": {
          "model_module": "@jupyter-widgets/controls",
          "model_name": "DescriptionStyleModel",
          "state": {
            "_view_name": "StyleView",
            "_model_name": "DescriptionStyleModel",
            "description_width": "",
            "_view_module": "@jupyter-widgets/base",
            "_model_module_version": "1.5.0",
            "_view_count": null,
            "_view_module_version": "1.2.0",
            "_model_module": "@jupyter-widgets/controls"
          }
        },
        "08b34a529e6041d3b961e70d8a5d8e26": {
          "model_module": "@jupyter-widgets/base",
          "model_name": "LayoutModel",
          "state": {
            "_view_name": "LayoutView",
            "grid_template_rows": null,
            "right": null,
            "justify_content": null,
            "_view_module": "@jupyter-widgets/base",
            "overflow": null,
            "_model_module_version": "1.2.0",
            "_view_count": null,
            "flex_flow": null,
            "width": null,
            "min_width": null,
            "border": null,
            "align_items": null,
            "bottom": null,
            "_model_module": "@jupyter-widgets/base",
            "top": null,
            "grid_column": null,
            "overflow_y": null,
            "overflow_x": null,
            "grid_auto_flow": null,
            "grid_area": null,
            "grid_template_columns": null,
            "flex": null,
            "_model_name": "LayoutModel",
            "justify_items": null,
            "grid_row": null,
            "max_height": null,
            "align_content": null,
            "visibility": null,
            "align_self": null,
            "height": null,
            "min_height": null,
            "padding": null,
            "grid_auto_rows": null,
            "grid_gap": null,
            "max_width": null,
            "order": null,
            "_view_module_version": "1.2.0",
            "grid_template_areas": null,
            "object_position": null,
            "object_fit": null,
            "grid_auto_columns": null,
            "margin": null,
            "display": null,
            "left": null
          }
        }
      }
    }
  },
  "cells": [
    {
      "cell_type": "markdown",
      "metadata": {
        "id": "g4X6zuhyulUc"
      },
      "source": [
        "# Homework Assignment  5"
      ]
    },
    {
      "cell_type": "code",
      "metadata": {
        "id": "tCRUmesGRiP8",
        "colab": {
          "base_uri": "https://localhost:8080/"
        },
        "outputId": "1664e63b-83fc-4889-a76d-5975129ed17d"
      },
      "source": [
        "!pip install turicreate\n",
        "!pip install tqdm\n",
        "!pip install karateclub"
      ],
      "execution_count": 1,
      "outputs": [
        {
          "output_type": "stream",
          "text": [
            "Requirement already satisfied: turicreate in /usr/local/lib/python3.6/dist-packages (6.4.1)\n",
            "Requirement already satisfied: numba<0.51.0 in /usr/local/lib/python3.6/dist-packages (from turicreate) (0.48.0)\n",
            "Requirement already satisfied: tensorflow<2.1.0,>=2.0.0 in /usr/local/lib/python3.6/dist-packages (from turicreate) (2.0.3)\n",
            "Requirement already satisfied: prettytable==0.7.2 in /usr/local/lib/python3.6/dist-packages (from turicreate) (0.7.2)\n",
            "Requirement already satisfied: resampy==0.2.1 in /usr/local/lib/python3.6/dist-packages (from turicreate) (0.2.1)\n",
            "Requirement already satisfied: pillow>=5.2.0 in /usr/local/lib/python3.6/dist-packages (from turicreate) (7.0.0)\n",
            "Requirement already satisfied: decorator>=4.0.9 in /usr/local/lib/python3.6/dist-packages (from turicreate) (4.4.2)\n",
            "Requirement already satisfied: six>=1.10.0 in /usr/local/lib/python3.6/dist-packages (from turicreate) (1.15.0)\n",
            "Requirement already satisfied: coremltools==3.3 in /usr/local/lib/python3.6/dist-packages (from turicreate) (3.3)\n",
            "Requirement already satisfied: pandas>=0.23.2 in /usr/local/lib/python3.6/dist-packages (from turicreate) (1.1.4)\n",
            "Requirement already satisfied: numpy in /usr/local/lib/python3.6/dist-packages (from turicreate) (1.18.5)\n",
            "Requirement already satisfied: scipy>=1.1.0 in /usr/local/lib/python3.6/dist-packages (from turicreate) (1.4.1)\n",
            "Requirement already satisfied: requests>=2.9.1 in /usr/local/lib/python3.6/dist-packages (from turicreate) (2.23.0)\n",
            "Requirement already satisfied: llvmlite<0.32.0,>=0.31.0dev0 in /usr/local/lib/python3.6/dist-packages (from numba<0.51.0->turicreate) (0.31.0)\n",
            "Requirement already satisfied: setuptools in /usr/local/lib/python3.6/dist-packages (from numba<0.51.0->turicreate) (50.3.2)\n",
            "Requirement already satisfied: gast==0.2.2 in /usr/local/lib/python3.6/dist-packages (from tensorflow<2.1.0,>=2.0.0->turicreate) (0.2.2)\n",
            "Requirement already satisfied: tensorflow-estimator<2.1.0,>=2.0.0 in /usr/local/lib/python3.6/dist-packages (from tensorflow<2.1.0,>=2.0.0->turicreate) (2.0.1)\n",
            "Requirement already satisfied: tensorboard<2.1.0,>=2.0.0 in /usr/local/lib/python3.6/dist-packages (from tensorflow<2.1.0,>=2.0.0->turicreate) (2.0.2)\n",
            "Requirement already satisfied: opt-einsum>=2.3.2 in /usr/local/lib/python3.6/dist-packages (from tensorflow<2.1.0,>=2.0.0->turicreate) (3.3.0)\n",
            "Requirement already satisfied: keras-preprocessing>=1.0.5 in /usr/local/lib/python3.6/dist-packages (from tensorflow<2.1.0,>=2.0.0->turicreate) (1.1.2)\n",
            "Requirement already satisfied: protobuf>=3.6.1 in /usr/local/lib/python3.6/dist-packages (from tensorflow<2.1.0,>=2.0.0->turicreate) (3.12.4)\n",
            "Requirement already satisfied: termcolor>=1.1.0 in /usr/local/lib/python3.6/dist-packages (from tensorflow<2.1.0,>=2.0.0->turicreate) (1.1.0)\n",
            "Requirement already satisfied: astor>=0.6.0 in /usr/local/lib/python3.6/dist-packages (from tensorflow<2.1.0,>=2.0.0->turicreate) (0.8.1)\n",
            "Requirement already satisfied: wheel>=0.26; python_version >= \"3\" in /usr/local/lib/python3.6/dist-packages (from tensorflow<2.1.0,>=2.0.0->turicreate) (0.35.1)\n",
            "Requirement already satisfied: google-pasta>=0.1.6 in /usr/local/lib/python3.6/dist-packages (from tensorflow<2.1.0,>=2.0.0->turicreate) (0.2.0)\n",
            "Requirement already satisfied: absl-py>=0.7.0 in /usr/local/lib/python3.6/dist-packages (from tensorflow<2.1.0,>=2.0.0->turicreate) (0.10.0)\n",
            "Requirement already satisfied: grpcio>=1.8.6 in /usr/local/lib/python3.6/dist-packages (from tensorflow<2.1.0,>=2.0.0->turicreate) (1.33.2)\n",
            "Requirement already satisfied: wrapt>=1.11.1 in /usr/local/lib/python3.6/dist-packages (from tensorflow<2.1.0,>=2.0.0->turicreate) (1.12.1)\n",
            "Requirement already satisfied: keras-applications>=1.0.8 in /usr/local/lib/python3.6/dist-packages (from tensorflow<2.1.0,>=2.0.0->turicreate) (1.0.8)\n",
            "Requirement already satisfied: pytz>=2017.2 in /usr/local/lib/python3.6/dist-packages (from pandas>=0.23.2->turicreate) (2018.9)\n",
            "Requirement already satisfied: python-dateutil>=2.7.3 in /usr/local/lib/python3.6/dist-packages (from pandas>=0.23.2->turicreate) (2.8.1)\n",
            "Requirement already satisfied: certifi>=2017.4.17 in /usr/local/lib/python3.6/dist-packages (from requests>=2.9.1->turicreate) (2020.6.20)\n",
            "Requirement already satisfied: urllib3!=1.25.0,!=1.25.1,<1.26,>=1.21.1 in /usr/local/lib/python3.6/dist-packages (from requests>=2.9.1->turicreate) (1.24.3)\n",
            "Requirement already satisfied: chardet<4,>=3.0.2 in /usr/local/lib/python3.6/dist-packages (from requests>=2.9.1->turicreate) (3.0.4)\n",
            "Requirement already satisfied: idna<3,>=2.5 in /usr/local/lib/python3.6/dist-packages (from requests>=2.9.1->turicreate) (2.10)\n",
            "Requirement already satisfied: google-auth<2,>=1.6.3 in /usr/local/lib/python3.6/dist-packages (from tensorboard<2.1.0,>=2.0.0->tensorflow<2.1.0,>=2.0.0->turicreate) (1.17.2)\n",
            "Requirement already satisfied: werkzeug>=0.11.15 in /usr/local/lib/python3.6/dist-packages (from tensorboard<2.1.0,>=2.0.0->tensorflow<2.1.0,>=2.0.0->turicreate) (1.0.1)\n",
            "Requirement already satisfied: google-auth-oauthlib<0.5,>=0.4.1 in /usr/local/lib/python3.6/dist-packages (from tensorboard<2.1.0,>=2.0.0->tensorflow<2.1.0,>=2.0.0->turicreate) (0.4.2)\n",
            "Requirement already satisfied: markdown>=2.6.8 in /usr/local/lib/python3.6/dist-packages (from tensorboard<2.1.0,>=2.0.0->tensorflow<2.1.0,>=2.0.0->turicreate) (3.3.3)\n",
            "Requirement already satisfied: h5py in /usr/local/lib/python3.6/dist-packages (from keras-applications>=1.0.8->tensorflow<2.1.0,>=2.0.0->turicreate) (2.10.0)\n",
            "Requirement already satisfied: rsa<5,>=3.1.4; python_version >= \"3\" in /usr/local/lib/python3.6/dist-packages (from google-auth<2,>=1.6.3->tensorboard<2.1.0,>=2.0.0->tensorflow<2.1.0,>=2.0.0->turicreate) (4.6)\n",
            "Requirement already satisfied: cachetools<5.0,>=2.0.0 in /usr/local/lib/python3.6/dist-packages (from google-auth<2,>=1.6.3->tensorboard<2.1.0,>=2.0.0->tensorflow<2.1.0,>=2.0.0->turicreate) (4.1.1)\n",
            "Requirement already satisfied: pyasn1-modules>=0.2.1 in /usr/local/lib/python3.6/dist-packages (from google-auth<2,>=1.6.3->tensorboard<2.1.0,>=2.0.0->tensorflow<2.1.0,>=2.0.0->turicreate) (0.2.8)\n",
            "Requirement already satisfied: requests-oauthlib>=0.7.0 in /usr/local/lib/python3.6/dist-packages (from google-auth-oauthlib<0.5,>=0.4.1->tensorboard<2.1.0,>=2.0.0->tensorflow<2.1.0,>=2.0.0->turicreate) (1.3.0)\n",
            "Requirement already satisfied: importlib-metadata; python_version < \"3.8\" in /usr/local/lib/python3.6/dist-packages (from markdown>=2.6.8->tensorboard<2.1.0,>=2.0.0->tensorflow<2.1.0,>=2.0.0->turicreate) (2.0.0)\n",
            "Requirement already satisfied: pyasn1>=0.1.3 in /usr/local/lib/python3.6/dist-packages (from rsa<5,>=3.1.4; python_version >= \"3\"->google-auth<2,>=1.6.3->tensorboard<2.1.0,>=2.0.0->tensorflow<2.1.0,>=2.0.0->turicreate) (0.4.8)\n",
            "Requirement already satisfied: oauthlib>=3.0.0 in /usr/local/lib/python3.6/dist-packages (from requests-oauthlib>=0.7.0->google-auth-oauthlib<0.5,>=0.4.1->tensorboard<2.1.0,>=2.0.0->tensorflow<2.1.0,>=2.0.0->turicreate) (3.1.0)\n",
            "Requirement already satisfied: zipp>=0.5 in /usr/local/lib/python3.6/dist-packages (from importlib-metadata; python_version < \"3.8\"->markdown>=2.6.8->tensorboard<2.1.0,>=2.0.0->tensorflow<2.1.0,>=2.0.0->turicreate) (3.4.0)\n",
            "Requirement already satisfied: tqdm in /usr/local/lib/python3.6/dist-packages (4.41.1)\n",
            "Requirement already satisfied: karateclub in /usr/local/lib/python3.6/dist-packages (1.0.21)\n",
            "Requirement already satisfied: pygsp in /usr/local/lib/python3.6/dist-packages (from karateclub) (0.5.1)\n",
            "Requirement already satisfied: pandas in /usr/local/lib/python3.6/dist-packages (from karateclub) (1.1.4)\n",
            "Requirement already satisfied: numpy in /usr/local/lib/python3.6/dist-packages (from karateclub) (1.18.5)\n",
            "Requirement already satisfied: scikit-learn in /usr/local/lib/python3.6/dist-packages (from karateclub) (0.22.2.post1)\n",
            "Requirement already satisfied: tqdm in /usr/local/lib/python3.6/dist-packages (from karateclub) (4.41.1)\n",
            "Requirement already satisfied: six in /usr/local/lib/python3.6/dist-packages (from karateclub) (1.15.0)\n",
            "Requirement already satisfied: scipy in /usr/local/lib/python3.6/dist-packages (from karateclub) (1.4.1)\n",
            "Requirement already satisfied: networkx in /usr/local/lib/python3.6/dist-packages (from karateclub) (2.5)\n",
            "Requirement already satisfied: gensim==3.8.3 in /usr/local/lib/python3.6/dist-packages (from karateclub) (3.8.3)\n",
            "Requirement already satisfied: python-louvain in /usr/local/lib/python3.6/dist-packages (from karateclub) (0.14)\n",
            "Requirement already satisfied: pytz>=2017.2 in /usr/local/lib/python3.6/dist-packages (from pandas->karateclub) (2018.9)\n",
            "Requirement already satisfied: python-dateutil>=2.7.3 in /usr/local/lib/python3.6/dist-packages (from pandas->karateclub) (2.8.1)\n",
            "Requirement already satisfied: joblib>=0.11 in /usr/local/lib/python3.6/dist-packages (from scikit-learn->karateclub) (0.17.0)\n",
            "Requirement already satisfied: decorator>=4.3.0 in /usr/local/lib/python3.6/dist-packages (from networkx->karateclub) (4.4.2)\n",
            "Requirement already satisfied: smart-open>=1.8.1 in /usr/local/lib/python3.6/dist-packages (from gensim==3.8.3->karateclub) (3.0.0)\n",
            "Requirement already satisfied: requests in /usr/local/lib/python3.6/dist-packages (from smart-open>=1.8.1->gensim==3.8.3->karateclub) (2.23.0)\n",
            "Requirement already satisfied: idna<3,>=2.5 in /usr/local/lib/python3.6/dist-packages (from requests->smart-open>=1.8.1->gensim==3.8.3->karateclub) (2.10)\n",
            "Requirement already satisfied: chardet<4,>=3.0.2 in /usr/local/lib/python3.6/dist-packages (from requests->smart-open>=1.8.1->gensim==3.8.3->karateclub) (3.0.4)\n",
            "Requirement already satisfied: urllib3!=1.25.0,!=1.25.1,<1.26,>=1.21.1 in /usr/local/lib/python3.6/dist-packages (from requests->smart-open>=1.8.1->gensim==3.8.3->karateclub) (1.24.3)\n",
            "Requirement already satisfied: certifi>=2017.4.17 in /usr/local/lib/python3.6/dist-packages (from requests->smart-open>=1.8.1->gensim==3.8.3->karateclub) (2020.6.20)\n"
          ],
          "name": "stdout"
        }
      ]
    },
    {
      "cell_type": "code",
      "metadata": {
        "id": "U75N9TrHZmLi"
      },
      "source": [
        "import turicreate as tc\n",
        "import networkx as nx\n",
        "import random \n",
        "from tqdm import tqdm_notebook as tqdm \n",
        "import karateclub\n",
        "import pandas as pd\n",
        "import os, re\n",
        "from glob import glob\n",
        "import matplotlib.pyplot as plt\n",
        "%matplotlib inline"
      ],
      "execution_count": 2,
      "outputs": []
    },
    {
      "cell_type": "markdown",
      "metadata": {
        "id": "euP-mSdtulUg"
      },
      "source": [
        "**Question 1:** Select a directed network, and develop a simple\n",
        "    link prediction classifier based on the network's directed topology (40pt). \n",
        "    Use node or link embedding features and try to improve the classification (20pt)\n",
        "    \n",
        "**Bonus:** Evaluate the classifier's ability to predict future links (10pt)\n",
        "    \n",
        "** Note:** You can use [Reddit community networks](http://dynamics.cs.washington.edu/data.html), or search\n",
        "for networks using [The Colorado Index of Complex Networks](https://icon.colorado.edu/)."
      ]
    },
    {
      "cell_type": "code",
      "metadata": {
        "id": "HULZU-TTzuh2",
        "colab": {
          "base_uri": "https://localhost:8080/"
        },
        "outputId": "dd5486b9-3c7a-4b4a-9a69-491b877684d4"
      },
      "source": [
        "DATASET = 'bitcoin'\n",
        "FILENAME = 'bitcoin.tar.gz'\n",
        "DOWNLOAD = f'http://dynamics.cs.washington.edu/nobackup/{DATASET}/{FILENAME}'\n",
        "!rm -r *\n",
        "!ls\n",
        "\n",
        "!mkdir -p ./datasets/$DATASET/zip\n",
        "!mkdir -p ./datasets/$DATASET/data\n",
        "!ls ./datasets/$DATASET\n",
        "\n",
        "!wget $DOWNLOAD -O ./datasets/$DATASET/zip/$FILENAME\n",
        "!ls ./datasets/$DATASET/zip\n",
        "\n",
        "!tar -xf ./datasets/$DATASET/zip/$FILENAME -C ./datasets/$DATASET/data\n",
        "!rm -r ./datasets/$DATASET/zip/\n"
      ],
      "execution_count": 3,
      "outputs": [
        {
          "output_type": "stream",
          "text": [
            "data  zip\n",
            "--2020-11-21 15:37:04--  http://dynamics.cs.washington.edu/nobackup/bitcoin/bitcoin.tar.gz\n",
            "Resolving dynamics.cs.washington.edu (dynamics.cs.washington.edu)... 128.208.3.120, 2607:4000:200:12::78\n",
            "Connecting to dynamics.cs.washington.edu (dynamics.cs.washington.edu)|128.208.3.120|:80... connected.\n",
            "HTTP request sent, awaiting response... 200 OK\n",
            "Length: 678858686 (647M) [application/x-gzip]\n",
            "Saving to: ‘./datasets/bitcoin/zip/bitcoin.tar.gz’\n",
            "\n",
            "./datasets/bitcoin/ 100%[===================>] 647.41M  14.6MB/s    in 37s     \n",
            "\n",
            "2020-11-21 15:37:42 (17.5 MB/s) - ‘./datasets/bitcoin/zip/bitcoin.tar.gz’ saved [678858686/678858686]\n",
            "\n",
            "bitcoin.tar.gz\n"
          ],
          "name": "stdout"
        }
      ]
    },
    {
      "cell_type": "code",
      "metadata": {
        "colab": {
          "base_uri": "https://localhost:8080/"
        },
        "id": "F9vmeE19Z_Y2",
        "outputId": "e431ad83-07f8-4989-d3c7-cb57135c8b0f"
      },
      "source": [
        "print(\"Iv'e chose bitcoin because it's the smallest\")"
      ],
      "execution_count": 4,
      "outputs": [
        {
          "output_type": "stream",
          "text": [
            "Iv'e chose bitcoin because it's the smallest\n"
          ],
          "name": "stdout"
        }
      ]
    },
    {
      "cell_type": "code",
      "metadata": {
        "id": "gJsl-jVzR6U0",
        "colab": {
          "base_uri": "https://localhost:8080/",
          "height": 1000,
          "referenced_widgets": [
            "fd99ca87588147bc9eee9b6109df2538",
            "988086b74a1f401c86ce51ae32133c73",
            "6c830b7b64b442c6b81bd1e2eada34be",
            "71cba5a6435748e0a1dc4014f23000b0",
            "6bc635e2bd134cc2b95320b04017f1fa",
            "b4ad5efd69ce4149b72deffc9267bb06",
            "951edf29e5fb4c89b1e942b1734aa274",
            "494f20eb53544898ad2b86ebe3e900e5",
            "5f5a7e51041a4022852e525900c0ac27",
            "d504cb6150e5452d8e4436a3c32db9c7",
            "797fec48c2a44824b63bc4d7f9ae5c90",
            "2ca9aaac0c9147b6a32d671692932394",
            "4cc0f8d5a11942b7a4bb1fca69c00d9b",
            "b654cc218fdf42fb9599ccfec0330f2e",
            "570366dd29994f97907eeeff9307a2bf",
            "3034791cf5a942a0b60c223cd38f0533"
          ]
        },
        "outputId": "0d50b0e4-f1ca-4a17-baf4-32b6ac2d381a"
      },
      "source": [
        "FOLDER = 'bitcoin'\n",
        "FILE_PATH = f'./datasets/{DATASET}/data/{FOLDER}'\n",
        "\n",
        "bc_sf = tc.SGraph(vertices=tc.load_sframe(f'{FILE_PATH}/bitcoin.vertices.sframe'),\n",
        "                     edges=tc.load_sframe(f'{FILE_PATH}/bitcoin.links.sframe')[:10000],\n",
        "                     vid_field=\"vid\",\n",
        "                     src_field=\"src_id\",\n",
        "                     dst_field=\"dst_id\")\n",
        "\n",
        "def sgraph2nxgraph(sgraph, is_directed=True, add_vertices_attributes=True, add_edges_attributes=True):\n",
        "    if is_directed:\n",
        "        nx_g = nx.DiGraph()\n",
        "    else:\n",
        "        nx_g = nx.Graph()\n",
        "    if add_vertices_attributes:\n",
        "        vertices = [(r['__id'] , r) for r in sgraph.vertices]\n",
        "    else:\n",
        "        vertices = list(sgraph.get_vertices()['__id'])\n",
        "\n",
        "    if add_edges_attributes:\n",
        "        edges = [(r['__src_id'], r['__dst_id'], r) for r in sgraph.edges]\n",
        "    else:\n",
        "        edges = [(e['__src_id'], e['__dst_id']) for e in sgraph.get_edges()]\n",
        "    nx_g.add_nodes_from(vertices)\n",
        "    nx_g.add_edges_from(edges)\n",
        "    return nx_g\n",
        "\n",
        "g = sgraph2nxgraph(bc_sf,\n",
        "                      is_directed=True,\n",
        "                      add_vertices_attributes=True,\n",
        "                      add_edges_attributes=True)\n",
        "\n",
        "\n",
        "def select_random_existing_links(g, n):\n",
        "    l =list(g.edges())\n",
        "    random.shuffle(l)\n",
        "    return l[:n]\n",
        "\n",
        "def select_random_non_existing_links(g, n):\n",
        "    select_links = set()\n",
        "    v_list = list(g.nodes())\n",
        "    while len(select_links) < n:\n",
        "        u = random.choice(v_list)\n",
        "        v = random.choice(v_list)\n",
        "        if g.has_edge(u,v) or (u,v) in select_links and u == v:\n",
        "            continue\n",
        "        else:\n",
        "            select_links.add((u,v))\n",
        "    return list(select_links)\n",
        "            \n",
        "    \n",
        "postive_links = select_random_existing_links(g,10000)\n",
        "negative_links = select_random_non_existing_links(g,10000)\n",
        "\n",
        "def common_friends(g,u,v):\n",
        "    if not g.has_node(u) or not g.has_node(v):\n",
        "        return None\n",
        "    return set(g.neighbors(u)) & set(g.neighbors(v))\n",
        "\n",
        "def friends_measure(g, u,v):\n",
        "    s = 0\n",
        "    for x in find_friends_of_friends(g,u):\n",
        "        for y in find_friends_of_friends(g,v):\n",
        "            if g.has_edge(x,y) or x == y:\n",
        "                s += 1\n",
        "    return s\n",
        "\n",
        "def total_friends(g, u, v):   \n",
        "    return len(set(g.neighbors(v)) | set(g.neighbors(u)))\n",
        "\n",
        "def get_features_dict(g,u, v):\n",
        "    removed_edge = False\n",
        "    if g.has_edge(u,v):\n",
        "        g.remove_edge(u,v) #  remove edge before feature calculation\n",
        "        removed_edge = True\n",
        "    try:\n",
        "        d = {\n",
        "            'degree_v': len(list(g.neighbors(v))),\n",
        "            'degree_u': len(list(g.neighbors(u))),\n",
        "            'total_friends': total_friends(g,u,v),\n",
        "            'common_friends': len(common_friends(g,u,v))\n",
        "        }\n",
        "    except:\n",
        "        if removed_edge:\n",
        "            g.add_edge(u,v) # return the edge back to the graph\n",
        "        return None\n",
        "\n",
        "    if removed_edge:\n",
        "        g.add_edge(u,v) # return the edge back to the graph\n",
        "    return d\n",
        "\n",
        "links_features = []\n",
        "\n",
        "for i in tqdm(range(len(postive_links))):    \n",
        "    u,v = postive_links[i]\n",
        "    d = get_features_dict(g, u,v)\n",
        "    if d is None:\n",
        "        continue\n",
        "    d['class'] = True\n",
        "    links_features.append(d)\n",
        "\n",
        "for i in tqdm(range(len(negative_links))):    \n",
        "    u,v = negative_links[i]\n",
        "    d = get_features_dict(g, u,v )\n",
        "    if d is None:\n",
        "        continue\n",
        "    d['class'] = False\n",
        "    links_features.append(d)\n",
        "features_list = [\n",
        "                 'degree_v',\n",
        "                 'degree_u',\n",
        "                 'total_friends',\n",
        "                 'common_friends',\n",
        "                 'class'\n",
        "                 ]\n",
        "data_dict = {f:[] for f in features_list}\n",
        " \n",
        "\n",
        "for d in links_features:\n",
        "    for feature in features_list:\n",
        "        data_dict[feature].append(d[feature])\n",
        "sf = tc.SFrame(data_dict)\n",
        "test, train  = sf.random_split(0.2)\n",
        "print(f\"Train size {len(train)}\\nTest size: {len(test)}\" )\n",
        "features_list = [\n",
        "                 'degree_v',\n",
        "                 'degree_u',\n",
        "                 'total_friends',\n",
        "                 'common_friends'\n",
        "                 ]\n",
        "cls = tc.classifier.create(train,features=features_list, target=\"class\")\n",
        "print(cls)\n",
        "results = cls.evaluate(test)\n",
        "print(results)\n",
        "\n",
        "\n",
        "plt.style.use('ggplot')\n",
        "plt.plot(results['roc_curve']['fpr'],\n",
        "         results['roc_curve']['tpr'],\n",
        "         label='ROC Curve (AUC = %0.5f)' %results['auc'])\n",
        "\n",
        "plt.xlim([-0.02, 1.0])\n",
        "plt.ylim([0., 1.02])\n",
        "plt.xlabel('FPR')\n",
        "plt.ylabel('TPR')\n",
        "plt.title('ROC curve')\n",
        "plt.legend()\n",
        "plt.show()\n",
        "print(cls.classify(test))"
      ],
      "execution_count": 5,
      "outputs": [
        {
          "output_type": "stream",
          "text": [
            "/usr/local/lib/python3.6/dist-packages/ipykernel_launcher.py:94: TqdmDeprecationWarning: This function will be removed in tqdm==5.0.0\n",
            "Please use `tqdm.notebook.tqdm` instead of `tqdm.tqdm_notebook`\n"
          ],
          "name": "stderr"
        },
        {
          "output_type": "display_data",
          "data": {
            "application/vnd.jupyter.widget-view+json": {
              "model_id": "fd99ca87588147bc9eee9b6109df2538",
              "version_minor": 0,
              "version_major": 2
            },
            "text/plain": [
              "HBox(children=(FloatProgress(value=0.0, max=10000.0), HTML(value='')))"
            ]
          },
          "metadata": {
            "tags": []
          }
        },
        {
          "output_type": "stream",
          "text": [
            "\n"
          ],
          "name": "stdout"
        },
        {
          "output_type": "stream",
          "text": [
            "/usr/local/lib/python3.6/dist-packages/ipykernel_launcher.py:102: TqdmDeprecationWarning: This function will be removed in tqdm==5.0.0\n",
            "Please use `tqdm.notebook.tqdm` instead of `tqdm.tqdm_notebook`\n"
          ],
          "name": "stderr"
        },
        {
          "output_type": "display_data",
          "data": {
            "application/vnd.jupyter.widget-view+json": {
              "model_id": "5f5a7e51041a4022852e525900c0ac27",
              "version_minor": 0,
              "version_major": 2
            },
            "text/plain": [
              "HBox(children=(FloatProgress(value=0.0, max=10000.0), HTML(value='')))"
            ]
          },
          "metadata": {
            "tags": []
          }
        },
        {
          "output_type": "stream",
          "text": [
            "\n",
            "Train size 16045\n",
            "Test size: 3955\n",
            "PROGRESS: Creating a validation set from 5 percent of training data. This may take a while.\n",
            "          You can set ``validation_set=None`` to disable validation tracking.\n",
            "\n",
            "PROGRESS: The following methods are available for this type of problem.\n",
            "PROGRESS: BoostedTreesClassifier, RandomForestClassifier, DecisionTreeClassifier, SVMClassifier, LogisticClassifier\n",
            "PROGRESS: The returned model will be chosen according to validation accuracy.\n"
          ],
          "name": "stdout"
        },
        {
          "output_type": "display_data",
          "data": {
            "text/html": [
              "<pre>Boosted trees classifier:</pre>"
            ],
            "text/plain": [
              "Boosted trees classifier:"
            ]
          },
          "metadata": {
            "tags": []
          }
        },
        {
          "output_type": "display_data",
          "data": {
            "text/html": [
              "<pre>--------------------------------------------------------</pre>"
            ],
            "text/plain": [
              "--------------------------------------------------------"
            ]
          },
          "metadata": {
            "tags": []
          }
        },
        {
          "output_type": "display_data",
          "data": {
            "text/html": [
              "<pre>Number of examples          : 15242</pre>"
            ],
            "text/plain": [
              "Number of examples          : 15242"
            ]
          },
          "metadata": {
            "tags": []
          }
        },
        {
          "output_type": "display_data",
          "data": {
            "text/html": [
              "<pre>Number of classes           : 2</pre>"
            ],
            "text/plain": [
              "Number of classes           : 2"
            ]
          },
          "metadata": {
            "tags": []
          }
        },
        {
          "output_type": "display_data",
          "data": {
            "text/html": [
              "<pre>Number of feature columns   : 4</pre>"
            ],
            "text/plain": [
              "Number of feature columns   : 4"
            ]
          },
          "metadata": {
            "tags": []
          }
        },
        {
          "output_type": "display_data",
          "data": {
            "text/html": [
              "<pre>Number of unpacked features : 4</pre>"
            ],
            "text/plain": [
              "Number of unpacked features : 4"
            ]
          },
          "metadata": {
            "tags": []
          }
        },
        {
          "output_type": "display_data",
          "data": {
            "text/html": [
              "<pre>+-----------+--------------+-------------------+---------------------+-------------------+---------------------+</pre>"
            ],
            "text/plain": [
              "+-----------+--------------+-------------------+---------------------+-------------------+---------------------+"
            ]
          },
          "metadata": {
            "tags": []
          }
        },
        {
          "output_type": "display_data",
          "data": {
            "text/html": [
              "<pre>| Iteration | Elapsed Time | Training Accuracy | Validation Accuracy | Training Log Loss | Validation Log Loss |</pre>"
            ],
            "text/plain": [
              "| Iteration | Elapsed Time | Training Accuracy | Validation Accuracy | Training Log Loss | Validation Log Loss |"
            ]
          },
          "metadata": {
            "tags": []
          }
        },
        {
          "output_type": "display_data",
          "data": {
            "text/html": [
              "<pre>+-----------+--------------+-------------------+---------------------+-------------------+---------------------+</pre>"
            ],
            "text/plain": [
              "+-----------+--------------+-------------------+---------------------+-------------------+---------------------+"
            ]
          },
          "metadata": {
            "tags": []
          }
        },
        {
          "output_type": "display_data",
          "data": {
            "text/html": [
              "<pre>| 1         | 0.012647     | 0.606548          | 0.587796            | 0.663742          | 0.663705            |</pre>"
            ],
            "text/plain": [
              "| 1         | 0.012647     | 0.606548          | 0.587796            | 0.663742          | 0.663705            |"
            ]
          },
          "metadata": {
            "tags": []
          }
        },
        {
          "output_type": "display_data",
          "data": {
            "text/html": [
              "<pre>| 2         | 0.022701     | 0.606548          | 0.587796            | 0.647720          | 0.648002            |</pre>"
            ],
            "text/plain": [
              "| 2         | 0.022701     | 0.606548          | 0.587796            | 0.647720          | 0.648002            |"
            ]
          },
          "metadata": {
            "tags": []
          }
        },
        {
          "output_type": "display_data",
          "data": {
            "text/html": [
              "<pre>| 3         | 0.032471     | 0.606548          | 0.587796            | 0.637912          | 0.638591            |</pre>"
            ],
            "text/plain": [
              "| 3         | 0.032471     | 0.606548          | 0.587796            | 0.637912          | 0.638591            |"
            ]
          },
          "metadata": {
            "tags": []
          }
        },
        {
          "output_type": "display_data",
          "data": {
            "text/html": [
              "<pre>| 4         | 0.042441     | 0.606548          | 0.587796            | 0.631551          | 0.632625            |</pre>"
            ],
            "text/plain": [
              "| 4         | 0.042441     | 0.606548          | 0.587796            | 0.631551          | 0.632625            |"
            ]
          },
          "metadata": {
            "tags": []
          }
        },
        {
          "output_type": "display_data",
          "data": {
            "text/html": [
              "<pre>| 5         | 0.050649     | 0.606548          | 0.587796            | 0.627277          | 0.628714            |</pre>"
            ],
            "text/plain": [
              "| 5         | 0.050649     | 0.606548          | 0.587796            | 0.627277          | 0.628714            |"
            ]
          },
          "metadata": {
            "tags": []
          }
        },
        {
          "output_type": "display_data",
          "data": {
            "text/html": [
              "<pre>| 10        | 0.091151     | 0.606548          | 0.587796            | 0.619045          | 0.621680            |</pre>"
            ],
            "text/plain": [
              "| 10        | 0.091151     | 0.606548          | 0.587796            | 0.619045          | 0.621680            |"
            ]
          },
          "metadata": {
            "tags": []
          }
        },
        {
          "output_type": "display_data",
          "data": {
            "text/html": [
              "<pre>+-----------+--------------+-------------------+---------------------+-------------------+---------------------+</pre>"
            ],
            "text/plain": [
              "+-----------+--------------+-------------------+---------------------+-------------------+---------------------+"
            ]
          },
          "metadata": {
            "tags": []
          }
        },
        {
          "output_type": "display_data",
          "data": {
            "text/html": [
              "<pre>Random forest classifier:</pre>"
            ],
            "text/plain": [
              "Random forest classifier:"
            ]
          },
          "metadata": {
            "tags": []
          }
        },
        {
          "output_type": "display_data",
          "data": {
            "text/html": [
              "<pre>--------------------------------------------------------</pre>"
            ],
            "text/plain": [
              "--------------------------------------------------------"
            ]
          },
          "metadata": {
            "tags": []
          }
        },
        {
          "output_type": "display_data",
          "data": {
            "text/html": [
              "<pre>Number of examples          : 15242</pre>"
            ],
            "text/plain": [
              "Number of examples          : 15242"
            ]
          },
          "metadata": {
            "tags": []
          }
        },
        {
          "output_type": "display_data",
          "data": {
            "text/html": [
              "<pre>Number of classes           : 2</pre>"
            ],
            "text/plain": [
              "Number of classes           : 2"
            ]
          },
          "metadata": {
            "tags": []
          }
        },
        {
          "output_type": "display_data",
          "data": {
            "text/html": [
              "<pre>Number of feature columns   : 4</pre>"
            ],
            "text/plain": [
              "Number of feature columns   : 4"
            ]
          },
          "metadata": {
            "tags": []
          }
        },
        {
          "output_type": "display_data",
          "data": {
            "text/html": [
              "<pre>Number of unpacked features : 4</pre>"
            ],
            "text/plain": [
              "Number of unpacked features : 4"
            ]
          },
          "metadata": {
            "tags": []
          }
        },
        {
          "output_type": "display_data",
          "data": {
            "text/html": [
              "<pre>+-----------+--------------+-------------------+---------------------+-------------------+---------------------+</pre>"
            ],
            "text/plain": [
              "+-----------+--------------+-------------------+---------------------+-------------------+---------------------+"
            ]
          },
          "metadata": {
            "tags": []
          }
        },
        {
          "output_type": "display_data",
          "data": {
            "text/html": [
              "<pre>| Iteration | Elapsed Time | Training Accuracy | Validation Accuracy | Training Log Loss | Validation Log Loss |</pre>"
            ],
            "text/plain": [
              "| Iteration | Elapsed Time | Training Accuracy | Validation Accuracy | Training Log Loss | Validation Log Loss |"
            ]
          },
          "metadata": {
            "tags": []
          }
        },
        {
          "output_type": "display_data",
          "data": {
            "text/html": [
              "<pre>+-----------+--------------+-------------------+---------------------+-------------------+---------------------+</pre>"
            ],
            "text/plain": [
              "+-----------+--------------+-------------------+---------------------+-------------------+---------------------+"
            ]
          },
          "metadata": {
            "tags": []
          }
        },
        {
          "output_type": "display_data",
          "data": {
            "text/html": [
              "<pre>| 1         | 0.012017     | 0.606548          | 0.587796            | 0.628930          | 0.631302            |</pre>"
            ],
            "text/plain": [
              "| 1         | 0.012017     | 0.606548          | 0.587796            | 0.628930          | 0.631302            |"
            ]
          },
          "metadata": {
            "tags": []
          }
        },
        {
          "output_type": "display_data",
          "data": {
            "text/html": [
              "<pre>| 2         | 0.021223     | 0.606548          | 0.587796            | 0.628897          | 0.631219            |</pre>"
            ],
            "text/plain": [
              "| 2         | 0.021223     | 0.606548          | 0.587796            | 0.628897          | 0.631219            |"
            ]
          },
          "metadata": {
            "tags": []
          }
        },
        {
          "output_type": "display_data",
          "data": {
            "text/html": [
              "<pre>| 3         | 0.032661     | 0.606548          | 0.587796            | 0.628922          | 0.631237            |</pre>"
            ],
            "text/plain": [
              "| 3         | 0.032661     | 0.606548          | 0.587796            | 0.628922          | 0.631237            |"
            ]
          },
          "metadata": {
            "tags": []
          }
        },
        {
          "output_type": "display_data",
          "data": {
            "text/html": [
              "<pre>| 4         | 0.041690     | 0.606548          | 0.587796            | 0.628937          | 0.631293            |</pre>"
            ],
            "text/plain": [
              "| 4         | 0.041690     | 0.606548          | 0.587796            | 0.628937          | 0.631293            |"
            ]
          },
          "metadata": {
            "tags": []
          }
        },
        {
          "output_type": "display_data",
          "data": {
            "text/html": [
              "<pre>| 5         | 0.052093     | 0.606548          | 0.587796            | 0.628942          | 0.631260            |</pre>"
            ],
            "text/plain": [
              "| 5         | 0.052093     | 0.606548          | 0.587796            | 0.628942          | 0.631260            |"
            ]
          },
          "metadata": {
            "tags": []
          }
        },
        {
          "output_type": "display_data",
          "data": {
            "text/html": [
              "<pre>| 10        | 0.092531     | 0.606548          | 0.587796            | 0.628947          | 0.631211            |</pre>"
            ],
            "text/plain": [
              "| 10        | 0.092531     | 0.606548          | 0.587796            | 0.628947          | 0.631211            |"
            ]
          },
          "metadata": {
            "tags": []
          }
        },
        {
          "output_type": "display_data",
          "data": {
            "text/html": [
              "<pre>+-----------+--------------+-------------------+---------------------+-------------------+---------------------+</pre>"
            ],
            "text/plain": [
              "+-----------+--------------+-------------------+---------------------+-------------------+---------------------+"
            ]
          },
          "metadata": {
            "tags": []
          }
        },
        {
          "output_type": "display_data",
          "data": {
            "text/html": [
              "<pre>Decision tree classifier:</pre>"
            ],
            "text/plain": [
              "Decision tree classifier:"
            ]
          },
          "metadata": {
            "tags": []
          }
        },
        {
          "output_type": "display_data",
          "data": {
            "text/html": [
              "<pre>--------------------------------------------------------</pre>"
            ],
            "text/plain": [
              "--------------------------------------------------------"
            ]
          },
          "metadata": {
            "tags": []
          }
        },
        {
          "output_type": "display_data",
          "data": {
            "text/html": [
              "<pre>Number of examples          : 15242</pre>"
            ],
            "text/plain": [
              "Number of examples          : 15242"
            ]
          },
          "metadata": {
            "tags": []
          }
        },
        {
          "output_type": "display_data",
          "data": {
            "text/html": [
              "<pre>Number of classes           : 2</pre>"
            ],
            "text/plain": [
              "Number of classes           : 2"
            ]
          },
          "metadata": {
            "tags": []
          }
        },
        {
          "output_type": "display_data",
          "data": {
            "text/html": [
              "<pre>Number of feature columns   : 4</pre>"
            ],
            "text/plain": [
              "Number of feature columns   : 4"
            ]
          },
          "metadata": {
            "tags": []
          }
        },
        {
          "output_type": "display_data",
          "data": {
            "text/html": [
              "<pre>Number of unpacked features : 4</pre>"
            ],
            "text/plain": [
              "Number of unpacked features : 4"
            ]
          },
          "metadata": {
            "tags": []
          }
        },
        {
          "output_type": "display_data",
          "data": {
            "text/html": [
              "<pre>+-----------+--------------+-------------------+---------------------+-------------------+---------------------+</pre>"
            ],
            "text/plain": [
              "+-----------+--------------+-------------------+---------------------+-------------------+---------------------+"
            ]
          },
          "metadata": {
            "tags": []
          }
        },
        {
          "output_type": "display_data",
          "data": {
            "text/html": [
              "<pre>| Iteration | Elapsed Time | Training Accuracy | Validation Accuracy | Training Log Loss | Validation Log Loss |</pre>"
            ],
            "text/plain": [
              "| Iteration | Elapsed Time | Training Accuracy | Validation Accuracy | Training Log Loss | Validation Log Loss |"
            ]
          },
          "metadata": {
            "tags": []
          }
        },
        {
          "output_type": "display_data",
          "data": {
            "text/html": [
              "<pre>+-----------+--------------+-------------------+---------------------+-------------------+---------------------+</pre>"
            ],
            "text/plain": [
              "+-----------+--------------+-------------------+---------------------+-------------------+---------------------+"
            ]
          },
          "metadata": {
            "tags": []
          }
        },
        {
          "output_type": "display_data",
          "data": {
            "text/html": [
              "<pre>| 1         | 0.011801     | 0.606548          | 0.587796            | 0.628903          | 0.631102            |</pre>"
            ],
            "text/plain": [
              "| 1         | 0.011801     | 0.606548          | 0.587796            | 0.628903          | 0.631102            |"
            ]
          },
          "metadata": {
            "tags": []
          }
        },
        {
          "output_type": "display_data",
          "data": {
            "text/html": [
              "<pre>+-----------+--------------+-------------------+---------------------+-------------------+---------------------+</pre>"
            ],
            "text/plain": [
              "+-----------+--------------+-------------------+---------------------+-------------------+---------------------+"
            ]
          },
          "metadata": {
            "tags": []
          }
        },
        {
          "output_type": "display_data",
          "data": {
            "text/html": [
              "<pre>SVM:</pre>"
            ],
            "text/plain": [
              "SVM:"
            ]
          },
          "metadata": {
            "tags": []
          }
        },
        {
          "output_type": "display_data",
          "data": {
            "text/html": [
              "<pre>--------------------------------------------------------</pre>"
            ],
            "text/plain": [
              "--------------------------------------------------------"
            ]
          },
          "metadata": {
            "tags": []
          }
        },
        {
          "output_type": "display_data",
          "data": {
            "text/html": [
              "<pre>Number of examples          : 15242</pre>"
            ],
            "text/plain": [
              "Number of examples          : 15242"
            ]
          },
          "metadata": {
            "tags": []
          }
        },
        {
          "output_type": "display_data",
          "data": {
            "text/html": [
              "<pre>Number of classes           : 2</pre>"
            ],
            "text/plain": [
              "Number of classes           : 2"
            ]
          },
          "metadata": {
            "tags": []
          }
        },
        {
          "output_type": "display_data",
          "data": {
            "text/html": [
              "<pre>Number of feature columns   : 4</pre>"
            ],
            "text/plain": [
              "Number of feature columns   : 4"
            ]
          },
          "metadata": {
            "tags": []
          }
        },
        {
          "output_type": "display_data",
          "data": {
            "text/html": [
              "<pre>Number of unpacked features : 4</pre>"
            ],
            "text/plain": [
              "Number of unpacked features : 4"
            ]
          },
          "metadata": {
            "tags": []
          }
        },
        {
          "output_type": "display_data",
          "data": {
            "text/html": [
              "<pre>Number of coefficients    : 5</pre>"
            ],
            "text/plain": [
              "Number of coefficients    : 5"
            ]
          },
          "metadata": {
            "tags": []
          }
        },
        {
          "output_type": "display_data",
          "data": {
            "text/html": [
              "<pre>Starting L-BFGS</pre>"
            ],
            "text/plain": [
              "Starting L-BFGS"
            ]
          },
          "metadata": {
            "tags": []
          }
        },
        {
          "output_type": "display_data",
          "data": {
            "text/html": [
              "<pre>--------------------------------------------------------</pre>"
            ],
            "text/plain": [
              "--------------------------------------------------------"
            ]
          },
          "metadata": {
            "tags": []
          }
        },
        {
          "output_type": "display_data",
          "data": {
            "text/html": [
              "<pre>+-----------+----------+-----------+--------------+-------------------+---------------------+</pre>"
            ],
            "text/plain": [
              "+-----------+----------+-----------+--------------+-------------------+---------------------+"
            ]
          },
          "metadata": {
            "tags": []
          }
        },
        {
          "output_type": "display_data",
          "data": {
            "text/html": [
              "<pre>| Iteration | Passes   | Step size | Elapsed Time | Training Accuracy | Validation Accuracy |</pre>"
            ],
            "text/plain": [
              "| Iteration | Passes   | Step size | Elapsed Time | Training Accuracy | Validation Accuracy |"
            ]
          },
          "metadata": {
            "tags": []
          }
        },
        {
          "output_type": "display_data",
          "data": {
            "text/html": [
              "<pre>+-----------+----------+-----------+--------------+-------------------+---------------------+</pre>"
            ],
            "text/plain": [
              "+-----------+----------+-----------+--------------+-------------------+---------------------+"
            ]
          },
          "metadata": {
            "tags": []
          }
        },
        {
          "output_type": "display_data",
          "data": {
            "text/html": [
              "<pre>| 0         | 2        | 1.000000  | 0.010304     | 0.606548          | 0.587796            |</pre>"
            ],
            "text/plain": [
              "| 0         | 2        | 1.000000  | 0.010304     | 0.606548          | 0.587796            |"
            ]
          },
          "metadata": {
            "tags": []
          }
        },
        {
          "output_type": "display_data",
          "data": {
            "text/html": [
              "<pre>| 1         | 9        | 19.248136 | 0.044015     | 0.558654          | 0.533001            |</pre>"
            ],
            "text/plain": [
              "| 1         | 9        | 19.248136 | 0.044015     | 0.558654          | 0.533001            |"
            ]
          },
          "metadata": {
            "tags": []
          }
        },
        {
          "output_type": "display_data",
          "data": {
            "text/html": [
              "<pre>| 2         | 10       | 19.248136 | 0.053419     | 0.559638          | 0.534247            |</pre>"
            ],
            "text/plain": [
              "| 2         | 10       | 19.248136 | 0.053419     | 0.559638          | 0.534247            |"
            ]
          },
          "metadata": {
            "tags": []
          }
        },
        {
          "output_type": "display_data",
          "data": {
            "text/html": [
              "<pre>| 3         | 13       | 0.342017  | 0.067582     | 0.558654          | 0.533001            |</pre>"
            ],
            "text/plain": [
              "| 3         | 13       | 0.342017  | 0.067582     | 0.558654          | 0.533001            |"
            ]
          },
          "metadata": {
            "tags": []
          }
        },
        {
          "output_type": "display_data",
          "data": {
            "text/html": [
              "<pre>| 4         | 16       | 1.710087  | 0.081534     | 0.563049          | 0.534247            |</pre>"
            ],
            "text/plain": [
              "| 4         | 16       | 1.710087  | 0.081534     | 0.563049          | 0.534247            |"
            ]
          },
          "metadata": {
            "tags": []
          }
        },
        {
          "output_type": "display_data",
          "data": {
            "text/html": [
              "<pre>| 9         | 30       | 0.591276  | 0.143404     | 0.586931          | 0.557908            |</pre>"
            ],
            "text/plain": [
              "| 9         | 30       | 0.591276  | 0.143404     | 0.586931          | 0.557908            |"
            ]
          },
          "metadata": {
            "tags": []
          }
        },
        {
          "output_type": "display_data",
          "data": {
            "text/html": [
              "<pre>+-----------+----------+-----------+--------------+-------------------+---------------------+</pre>"
            ],
            "text/plain": [
              "+-----------+----------+-----------+--------------+-------------------+---------------------+"
            ]
          },
          "metadata": {
            "tags": []
          }
        },
        {
          "output_type": "display_data",
          "data": {
            "text/html": [
              "<pre>Logistic regression:</pre>"
            ],
            "text/plain": [
              "Logistic regression:"
            ]
          },
          "metadata": {
            "tags": []
          }
        },
        {
          "output_type": "display_data",
          "data": {
            "text/html": [
              "<pre>--------------------------------------------------------</pre>"
            ],
            "text/plain": [
              "--------------------------------------------------------"
            ]
          },
          "metadata": {
            "tags": []
          }
        },
        {
          "output_type": "display_data",
          "data": {
            "text/html": [
              "<pre>Number of examples          : 15242</pre>"
            ],
            "text/plain": [
              "Number of examples          : 15242"
            ]
          },
          "metadata": {
            "tags": []
          }
        },
        {
          "output_type": "display_data",
          "data": {
            "text/html": [
              "<pre>Number of classes           : 2</pre>"
            ],
            "text/plain": [
              "Number of classes           : 2"
            ]
          },
          "metadata": {
            "tags": []
          }
        },
        {
          "output_type": "display_data",
          "data": {
            "text/html": [
              "<pre>Number of feature columns   : 4</pre>"
            ],
            "text/plain": [
              "Number of feature columns   : 4"
            ]
          },
          "metadata": {
            "tags": []
          }
        },
        {
          "output_type": "display_data",
          "data": {
            "text/html": [
              "<pre>Number of unpacked features : 4</pre>"
            ],
            "text/plain": [
              "Number of unpacked features : 4"
            ]
          },
          "metadata": {
            "tags": []
          }
        },
        {
          "output_type": "display_data",
          "data": {
            "text/html": [
              "<pre>Number of coefficients      : 5</pre>"
            ],
            "text/plain": [
              "Number of coefficients      : 5"
            ]
          },
          "metadata": {
            "tags": []
          }
        },
        {
          "output_type": "display_data",
          "data": {
            "text/html": [
              "<pre>Starting Newton Method</pre>"
            ],
            "text/plain": [
              "Starting Newton Method"
            ]
          },
          "metadata": {
            "tags": []
          }
        },
        {
          "output_type": "display_data",
          "data": {
            "text/html": [
              "<pre>--------------------------------------------------------</pre>"
            ],
            "text/plain": [
              "--------------------------------------------------------"
            ]
          },
          "metadata": {
            "tags": []
          }
        },
        {
          "output_type": "display_data",
          "data": {
            "text/html": [
              "<pre>+-----------+----------+--------------+-------------------+---------------------+</pre>"
            ],
            "text/plain": [
              "+-----------+----------+--------------+-------------------+---------------------+"
            ]
          },
          "metadata": {
            "tags": []
          }
        },
        {
          "output_type": "display_data",
          "data": {
            "text/html": [
              "<pre>| Iteration | Passes   | Elapsed Time | Training Accuracy | Validation Accuracy |</pre>"
            ],
            "text/plain": [
              "| Iteration | Passes   | Elapsed Time | Training Accuracy | Validation Accuracy |"
            ]
          },
          "metadata": {
            "tags": []
          }
        },
        {
          "output_type": "display_data",
          "data": {
            "text/html": [
              "<pre>+-----------+----------+--------------+-------------------+---------------------+</pre>"
            ],
            "text/plain": [
              "+-----------+----------+--------------+-------------------+---------------------+"
            ]
          },
          "metadata": {
            "tags": []
          }
        },
        {
          "output_type": "display_data",
          "data": {
            "text/html": [
              "<pre>| 1         | 2        | 0.025070     | 0.567052          | 0.536737            |</pre>"
            ],
            "text/plain": [
              "| 1         | 2        | 0.025070     | 0.567052          | 0.536737            |"
            ]
          },
          "metadata": {
            "tags": []
          }
        },
        {
          "output_type": "display_data",
          "data": {
            "text/html": [
              "<pre>| 2         | 3        | 0.039152     | 0.570266          | 0.539228            |</pre>"
            ],
            "text/plain": [
              "| 2         | 3        | 0.039152     | 0.570266          | 0.539228            |"
            ]
          },
          "metadata": {
            "tags": []
          }
        },
        {
          "output_type": "display_data",
          "data": {
            "text/html": [
              "<pre>| 3         | 4        | 0.054282     | 0.574137          | 0.541719            |</pre>"
            ],
            "text/plain": [
              "| 3         | 4        | 0.054282     | 0.574137          | 0.541719            |"
            ]
          },
          "metadata": {
            "tags": []
          }
        },
        {
          "output_type": "display_data",
          "data": {
            "text/html": [
              "<pre>| 4         | 5        | 0.065014     | 0.579976          | 0.549191            |</pre>"
            ],
            "text/plain": [
              "| 4         | 5        | 0.065014     | 0.579976          | 0.549191            |"
            ]
          },
          "metadata": {
            "tags": []
          }
        },
        {
          "output_type": "display_data",
          "data": {
            "text/html": [
              "<pre>| 5         | 6        | 0.079439     | 0.588046          | 0.559153            |</pre>"
            ],
            "text/plain": [
              "| 5         | 6        | 0.079439     | 0.588046          | 0.559153            |"
            ]
          },
          "metadata": {
            "tags": []
          }
        },
        {
          "output_type": "display_data",
          "data": {
            "text/html": [
              "<pre>| 10        | 11       | 0.141306     | 0.606548          | 0.587796            |</pre>"
            ],
            "text/plain": [
              "| 10        | 11       | 0.141306     | 0.606548          | 0.587796            |"
            ]
          },
          "metadata": {
            "tags": []
          }
        },
        {
          "output_type": "display_data",
          "data": {
            "text/html": [
              "<pre>+-----------+----------+--------------+-------------------+---------------------+</pre>"
            ],
            "text/plain": [
              "+-----------+----------+--------------+-------------------+---------------------+"
            ]
          },
          "metadata": {
            "tags": []
          }
        },
        {
          "output_type": "display_data",
          "data": {
            "text/html": [
              "<pre>Completed (Iteration limit reached).</pre>"
            ],
            "text/plain": [
              "Completed (Iteration limit reached)."
            ]
          },
          "metadata": {
            "tags": []
          }
        },
        {
          "output_type": "display_data",
          "data": {
            "text/html": [
              "<pre>This model may not be optimal. To improve it, consider increasing `max_iterations`.</pre>"
            ],
            "text/plain": [
              "This model may not be optimal. To improve it, consider increasing `max_iterations`."
            ]
          },
          "metadata": {
            "tags": []
          }
        },
        {
          "output_type": "stream",
          "text": [
            "PROGRESS: Model selection based on validation accuracy:\n",
            "PROGRESS: ---------------------------------------------\n",
            "PROGRESS: BoostedTreesClassifier          : 0.5877957658779577\n",
            "PROGRESS: RandomForestClassifier          : 0.5877957658779577\n",
            "PROGRESS: DecisionTreeClassifier          : 0.5877957658779577\n",
            "PROGRESS: SVMClassifier                   : 0.5579078455790785\n",
            "PROGRESS: LogisticClassifier              : 0.5877957658779577\n",
            "PROGRESS: ---------------------------------------------\n",
            "PROGRESS: Selecting BoostedTreesClassifier based on validation set performance.\n",
            "Class                          : BoostedTreesClassifier\n",
            "\n",
            "Schema\n",
            "------\n",
            "Number of examples             : 15242\n",
            "Number of feature columns      : 4\n",
            "Number of unpacked features    : 4\n",
            "Number of classes              : 2\n",
            "\n",
            "Settings\n",
            "--------\n",
            "Number of trees                : 10\n",
            "Max tree depth                 : 6\n",
            "Training time (sec)            : 0.0916\n",
            "Training accuracy              : 0.6065\n",
            "Validation accuracy            : 0.5878\n",
            "Training log_loss              : 0.619\n",
            "Validation log_loss            : 0.6217\n",
            "Training auc                   : 0.6055\n",
            "Validation auc                 : 0.6099\n",
            "\n",
            "{'accuracy': 0.6002528445006321, 'auc': 0.6013586774458675, 'confusion_matrix': Columns:\n",
            "\ttarget_label\tint\n",
            "\tpredicted_label\tint\n",
            "\tcount\tint\n",
            "\n",
            "Rows: 4\n",
            "\n",
            "Data:\n",
            "+--------------+-----------------+-------+\n",
            "| target_label | predicted_label | count |\n",
            "+--------------+-----------------+-------+\n",
            "|      1       |        1        |  410  |\n",
            "|      1       |        0        |  1571 |\n",
            "|      0       |        1        |   10  |\n",
            "|      0       |        0        |  1964 |\n",
            "+--------------+-----------------+-------+\n",
            "[4 rows x 3 columns]\n",
            ", 'f1_score': 0.34152436484798, 'log_loss': 0.6236028878752257, 'precision': 0.9761904761904762, 'recall': 0.20696617869762746, 'roc_curve': Columns:\n",
            "\tthreshold\tfloat\n",
            "\tfpr\tfloat\n",
            "\ttpr\tfloat\n",
            "\tp\tint\n",
            "\tn\tint\n",
            "\n",
            "Rows: 1001\n",
            "\n",
            "Data:\n",
            "+-----------+-----+-----+------+------+\n",
            "| threshold | fpr | tpr |  p   |  n   |\n",
            "+-----------+-----+-----+------+------+\n",
            "|    0.0    | 1.0 | 1.0 | 1981 | 1974 |\n",
            "|   0.001   | 1.0 | 1.0 | 1981 | 1974 |\n",
            "|   0.002   | 1.0 | 1.0 | 1981 | 1974 |\n",
            "|   0.003   | 1.0 | 1.0 | 1981 | 1974 |\n",
            "|   0.004   | 1.0 | 1.0 | 1981 | 1974 |\n",
            "|   0.005   | 1.0 | 1.0 | 1981 | 1974 |\n",
            "|   0.006   | 1.0 | 1.0 | 1981 | 1974 |\n",
            "|   0.007   | 1.0 | 1.0 | 1981 | 1974 |\n",
            "|   0.008   | 1.0 | 1.0 | 1981 | 1974 |\n",
            "|   0.009   | 1.0 | 1.0 | 1981 | 1974 |\n",
            "+-----------+-----+-----+------+------+\n",
            "[1001 rows x 5 columns]\n",
            "Note: Only the head of the SFrame is printed.\n",
            "You can use print_rows(num_rows=m, num_columns=n) to print more rows and columns.}\n"
          ],
          "name": "stdout"
        },
        {
          "output_type": "display_data",
          "data": {
            "image/png": "[encoded data removed]",
            "text/plain": [
              "<Figure size 432x288 with 1 Axes>"
            ]
          },
          "metadata": {
            "tags": []
          }
        },
        {
          "output_type": "stream",
          "text": [
            "+-------+--------------------+\n",
            "| class |    probability     |\n",
            "+-------+--------------------+\n",
            "|   0   | 0.5589672029018402 |\n",
            "|   0   | 0.5589672029018402 |\n",
            "|   1   | 0.7772928476333618 |\n",
            "|   0   | 0.5589672029018402 |\n",
            "|   0   | 0.5589672029018402 |\n",
            "|   1   | 0.9770554304122925 |\n",
            "|   0   | 0.5589672029018402 |\n",
            "|   0   | 0.5589672029018402 |\n",
            "|   0   | 0.5589672029018402 |\n",
            "|   0   | 0.5589672029018402 |\n",
            "+-------+--------------------+\n",
            "[3955 rows x 2 columns]\n",
            "Note: Only the head of the SFrame is printed.\n",
            "You can use print_rows(num_rows=m, num_columns=n) to print more rows and columns.\n"
          ],
          "name": "stdout"
        }
      ]
    },
    {
      "cell_type": "markdown",
      "metadata": {
        "id": "tW_GWelOa6RX"
      },
      "source": [
        "**Part 2 of Q1**"
      ]
    },
    {
      "cell_type": "code",
      "metadata": {
        "id": "Ee0Y7BaUQ5fw",
        "colab": {
          "base_uri": "https://localhost:8080/",
          "height": 195,
          "referenced_widgets": [
            "2b24f8efe8ea492c9e21b184fa33c626",
            "3a65e4dead5141b98917e6ff657f795c",
            "ff0e134a8d174e5fac6f38d914ae01d0",
            "a3cfe8d5abf04fdcb131e4ac8307a9a7",
            "1214d80bca914bfc9e483b6ff9d8b56c",
            "4e236db2eb594fa9bc0da85bae2995d9",
            "9a7e6b050bdb42989777e9693c3f7333",
            "a3d40cfb32834cbd8bec7c5246dddbf8",
            "6670c75b8c254643ac54b91ee44d8d39",
            "87e809fe17fb4b4f99ebd02e96ea7e6b",
            "930431b7b8bd45ae863510cdb5a32345",
            "0bff405f9d2e43e4a30c0c3068effd6b",
            "ce767f0bedba4219b421305b7aa2a84a",
            "29992d4df0fe4f42a1ee5a545760c799",
            "646c1982b8194d9aada5730f0058e93d",
            "8c73d93169a84debacc76f5af42bb144"
          ]
        },
        "outputId": "57656be1-7692-495c-9aa8-f937006df33a"
      },
      "source": [
        "ug = g.to_undirected() # Creating Undirected Graph\n",
        "l =  zip(ug.nodes(), range(len(ug.nodes())))\n",
        "l = list(l)\n",
        "nodes_dict = dict(l)\n",
        "r_node_dict = {v:k for k,v in nodes_dict.items()}\n",
        "h = nx.Graph()\n",
        "for e1,e2 in ug.edges():\n",
        "  h.add_edge(nodes_dict[e1], nodes_dict[e2])\n",
        "largest_cc = max(nx.connected_components(h), key=len)\n",
        "h_lcc = nx.Graph()\n",
        "l_cc =  zip(list(largest_cc), range(len(largest_cc)))\n",
        "l_cc = list(l_cc)\n",
        "nodes_dict_cc = dict(l_cc)\n",
        "r_node_dict_cc = {v:k for k,v in nodes_dict_cc.items()}\n",
        "for e1,e2 in h.edges():\n",
        "  if e1 in largest_cc and e2 in largest_cc:\n",
        "    h_lcc.add_edge(nodes_dict_cc[e1], nodes_dict_cc[e2])\n",
        "\n",
        "model = karateclub.DeepWalk()\n",
        "model.fit(h_lcc)\n",
        "embedding = model.get_embedding()\n",
        "postive_links_cc = select_random_existing_links(h_lcc,10000)\n",
        "negative_links_cc = select_random_non_existing_links(h_lcc,10000)\n",
        "links_features = []\n",
        "\n",
        "for i in tqdm(range(len(postive_links_cc))):    \n",
        "    u,v = postive_links_cc[i]\n",
        "    d = get_features_dict(h_lcc, u, v)\n",
        "    if d is None:\n",
        "        continue\n",
        "    d['class'] = True\n",
        "    for j in range(len(embedding[0])):\n",
        "        d[f'e_{j}'] = embedding[u][j] + embedding[v][j]\n",
        "    links_features.append(d)\n",
        "\n",
        "for i in tqdm(range(len(negative_links_cc))):    \n",
        "    u,v = negative_links_cc[i]\n",
        "    d = get_features_dict(h_lcc, u,v )\n",
        "    if d is None:\n",
        "        continue\n",
        "    d['class'] = False\n",
        "    for j in range(len(embedding[0])):\n",
        "        d[f'e_{j}'] = embedding[u][j] + embedding[v][j]\n",
        "    links_features.append(d)"
      ],
      "execution_count": 6,
      "outputs": [
        {
          "output_type": "stream",
          "text": [
            "/usr/local/lib/python3.6/dist-packages/ipykernel_launcher.py:26: TqdmDeprecationWarning: This function will be removed in tqdm==5.0.0\n",
            "Please use `tqdm.notebook.tqdm` instead of `tqdm.tqdm_notebook`\n"
          ],
          "name": "stderr"
        },
        {
          "output_type": "display_data",
          "data": {
            "application/vnd.jupyter.widget-view+json": {
              "model_id": "2b24f8efe8ea492c9e21b184fa33c626",
              "version_minor": 0,
              "version_major": 2
            },
            "text/plain": [
              "HBox(children=(FloatProgress(value=0.0, max=686.0), HTML(value='')))"
            ]
          },
          "metadata": {
            "tags": []
          }
        },
        {
          "output_type": "stream",
          "text": [
            "\n"
          ],
          "name": "stdout"
        },
        {
          "output_type": "stream",
          "text": [
            "/usr/local/lib/python3.6/dist-packages/ipykernel_launcher.py:36: TqdmDeprecationWarning: This function will be removed in tqdm==5.0.0\n",
            "Please use `tqdm.notebook.tqdm` instead of `tqdm.tqdm_notebook`\n"
          ],
          "name": "stderr"
        },
        {
          "output_type": "display_data",
          "data": {
            "application/vnd.jupyter.widget-view+json": {
              "model_id": "6670c75b8c254643ac54b91ee44d8d39",
              "version_minor": 0,
              "version_major": 2
            },
            "text/plain": [
              "HBox(children=(FloatProgress(value=0.0, max=10000.0), HTML(value='')))"
            ]
          },
          "metadata": {
            "tags": []
          }
        },
        {
          "output_type": "stream",
          "text": [
            "\n"
          ],
          "name": "stdout"
        }
      ]
    },
    {
      "cell_type": "code",
      "metadata": {
        "id": "yPseoZXx7_Nj",
        "colab": {
          "base_uri": "https://localhost:8080/",
          "height": 1000
        },
        "outputId": "7c7c67e5-c052-4a38-9bc3-39a8c4c0c3be"
      },
      "source": [
        "features_list = [\n",
        "                 'degree_v',\n",
        "                 'degree_u',\n",
        "                 'total_friends',\n",
        "                 'common_friends',\n",
        "                 'class'\n",
        "                 ]\n",
        "                 \n",
        "e_features_list = []\n",
        "for i in range(len(embedding[0])):\n",
        "  e_features_list.append(f'e_{i}')\n",
        "features_list += e_features_list\n",
        "\n",
        "data_dict = {f:[] for f in features_list} \n",
        "\n",
        "for d in links_features:\n",
        "    for feature in features_list:\n",
        "        data_dict[feature].append(d[feature])\n",
        "sf = tc.SFrame(data_dict)\n",
        "test, train  = sf.random_split(0.2)\n",
        "features_list = [\n",
        "                 'degree_v',\n",
        "                 'degree_u',\n",
        "                 'total_friends',\n",
        "                 'common_friends'\n",
        "                 ]\n",
        "features_list += e_features_list                \n",
        "cls = tc.classifier.create(train,features=features_list, target=\"class\")\n",
        "results = cls.evaluate(test)\n",
        "print(results)\n",
        "\n",
        "plt.style.use('ggplot')\n",
        "plt.plot(results['roc_curve']['fpr'],\n",
        "         results['roc_curve']['tpr'],\n",
        "         label='ROC Curve (AUC = %0.5f)' %results['auc'])\n",
        "\n",
        "plt.xlim([-0.02, 1.0])\n",
        "plt.ylim([0., 1.02])\n",
        "plt.xlabel('FPR')\n",
        "plt.ylabel('TPR')\n",
        "plt.title('ROC curve')\n",
        "plt.legend()\n",
        "plt.show()"
      ],
      "execution_count": 7,
      "outputs": [
        {
          "output_type": "stream",
          "text": [
            "PROGRESS: Creating a validation set from 5 percent of training data. This may take a while.\n",
            "          You can set ``validation_set=None`` to disable validation tracking.\n",
            "\n",
            "PROGRESS: The following methods are available for this type of problem.\n",
            "PROGRESS: BoostedTreesClassifier, RandomForestClassifier, DecisionTreeClassifier, SVMClassifier, LogisticClassifier\n",
            "PROGRESS: The returned model will be chosen according to validation accuracy.\n"
          ],
          "name": "stdout"
        },
        {
          "output_type": "display_data",
          "data": {
            "text/html": [
              "<pre>Boosted trees classifier:</pre>"
            ],
            "text/plain": [
              "Boosted trees classifier:"
            ]
          },
          "metadata": {
            "tags": []
          }
        },
        {
          "output_type": "display_data",
          "data": {
            "text/html": [
              "<pre>--------------------------------------------------------</pre>"
            ],
            "text/plain": [
              "--------------------------------------------------------"
            ]
          },
          "metadata": {
            "tags": []
          }
        },
        {
          "output_type": "display_data",
          "data": {
            "text/html": [
              "<pre>Number of examples          : 8078</pre>"
            ],
            "text/plain": [
              "Number of examples          : 8078"
            ]
          },
          "metadata": {
            "tags": []
          }
        },
        {
          "output_type": "display_data",
          "data": {
            "text/html": [
              "<pre>Number of classes           : 2</pre>"
            ],
            "text/plain": [
              "Number of classes           : 2"
            ]
          },
          "metadata": {
            "tags": []
          }
        },
        {
          "output_type": "display_data",
          "data": {
            "text/html": [
              "<pre>Number of feature columns   : 132</pre>"
            ],
            "text/plain": [
              "Number of feature columns   : 132"
            ]
          },
          "metadata": {
            "tags": []
          }
        },
        {
          "output_type": "display_data",
          "data": {
            "text/html": [
              "<pre>Number of unpacked features : 132</pre>"
            ],
            "text/plain": [
              "Number of unpacked features : 132"
            ]
          },
          "metadata": {
            "tags": []
          }
        },
        {
          "output_type": "display_data",
          "data": {
            "text/html": [
              "<pre>+-----------+--------------+-------------------+---------------------+-------------------+---------------------+</pre>"
            ],
            "text/plain": [
              "+-----------+--------------+-------------------+---------------------+-------------------+---------------------+"
            ]
          },
          "metadata": {
            "tags": []
          }
        },
        {
          "output_type": "display_data",
          "data": {
            "text/html": [
              "<pre>| Iteration | Elapsed Time | Training Accuracy | Validation Accuracy | Training Log Loss | Validation Log Loss |</pre>"
            ],
            "text/plain": [
              "| Iteration | Elapsed Time | Training Accuracy | Validation Accuracy | Training Log Loss | Validation Log Loss |"
            ]
          },
          "metadata": {
            "tags": []
          }
        },
        {
          "output_type": "display_data",
          "data": {
            "text/html": [
              "<pre>+-----------+--------------+-------------------+---------------------+-------------------+---------------------+</pre>"
            ],
            "text/plain": [
              "+-----------+--------------+-------------------+---------------------+-------------------+---------------------+"
            ]
          },
          "metadata": {
            "tags": []
          }
        },
        {
          "output_type": "display_data",
          "data": {
            "text/html": [
              "<pre>| 1         | 0.064896     | 1.000000          | 0.997653            | 0.438007          | 0.439040            |</pre>"
            ],
            "text/plain": [
              "| 1         | 0.064896     | 1.000000          | 0.997653            | 0.438007          | 0.439040            |"
            ]
          },
          "metadata": {
            "tags": []
          }
        },
        {
          "output_type": "display_data",
          "data": {
            "text/html": [
              "<pre>| 2         | 0.124852     | 1.000000          | 0.997653            | 0.296950          | 0.297821            |</pre>"
            ],
            "text/plain": [
              "| 2         | 0.124852     | 1.000000          | 0.997653            | 0.296950          | 0.297821            |"
            ]
          },
          "metadata": {
            "tags": []
          }
        },
        {
          "output_type": "display_data",
          "data": {
            "text/html": [
              "<pre>| 3         | 0.170473     | 1.000000          | 0.997653            | 0.208006          | 0.210012            |</pre>"
            ],
            "text/plain": [
              "| 3         | 0.170473     | 1.000000          | 0.997653            | 0.208006          | 0.210012            |"
            ]
          },
          "metadata": {
            "tags": []
          }
        },
        {
          "output_type": "display_data",
          "data": {
            "text/html": [
              "<pre>| 4         | 0.217123     | 1.000000          | 0.997653            | 0.148481          | 0.151498            |</pre>"
            ],
            "text/plain": [
              "| 4         | 0.217123     | 1.000000          | 0.997653            | 0.148481          | 0.151498            |"
            ]
          },
          "metadata": {
            "tags": []
          }
        },
        {
          "output_type": "display_data",
          "data": {
            "text/html": [
              "<pre>| 5         | 0.261755     | 1.000000          | 0.997653            | 0.107274          | 0.111225            |</pre>"
            ],
            "text/plain": [
              "| 5         | 0.261755     | 1.000000          | 0.997653            | 0.107274          | 0.111225            |"
            ]
          },
          "metadata": {
            "tags": []
          }
        },
        {
          "output_type": "display_data",
          "data": {
            "text/html": [
              "<pre>| 10        | 0.477770     | 1.000000          | 0.995305            | 0.023046          | 0.029616            |</pre>"
            ],
            "text/plain": [
              "| 10        | 0.477770     | 1.000000          | 0.995305            | 0.023046          | 0.029616            |"
            ]
          },
          "metadata": {
            "tags": []
          }
        },
        {
          "output_type": "display_data",
          "data": {
            "text/html": [
              "<pre>+-----------+--------------+-------------------+---------------------+-------------------+---------------------+</pre>"
            ],
            "text/plain": [
              "+-----------+--------------+-------------------+---------------------+-------------------+---------------------+"
            ]
          },
          "metadata": {
            "tags": []
          }
        },
        {
          "output_type": "display_data",
          "data": {
            "text/html": [
              "<pre>Random forest classifier:</pre>"
            ],
            "text/plain": [
              "Random forest classifier:"
            ]
          },
          "metadata": {
            "tags": []
          }
        },
        {
          "output_type": "display_data",
          "data": {
            "text/html": [
              "<pre>--------------------------------------------------------</pre>"
            ],
            "text/plain": [
              "--------------------------------------------------------"
            ]
          },
          "metadata": {
            "tags": []
          }
        },
        {
          "output_type": "display_data",
          "data": {
            "text/html": [
              "<pre>Number of examples          : 8078</pre>"
            ],
            "text/plain": [
              "Number of examples          : 8078"
            ]
          },
          "metadata": {
            "tags": []
          }
        },
        {
          "output_type": "display_data",
          "data": {
            "text/html": [
              "<pre>Number of classes           : 2</pre>"
            ],
            "text/plain": [
              "Number of classes           : 2"
            ]
          },
          "metadata": {
            "tags": []
          }
        },
        {
          "output_type": "display_data",
          "data": {
            "text/html": [
              "<pre>Number of feature columns   : 132</pre>"
            ],
            "text/plain": [
              "Number of feature columns   : 132"
            ]
          },
          "metadata": {
            "tags": []
          }
        },
        {
          "output_type": "display_data",
          "data": {
            "text/html": [
              "<pre>Number of unpacked features : 132</pre>"
            ],
            "text/plain": [
              "Number of unpacked features : 132"
            ]
          },
          "metadata": {
            "tags": []
          }
        },
        {
          "output_type": "display_data",
          "data": {
            "text/html": [
              "<pre>+-----------+--------------+-------------------+---------------------+-------------------+---------------------+</pre>"
            ],
            "text/plain": [
              "+-----------+--------------+-------------------+---------------------+-------------------+---------------------+"
            ]
          },
          "metadata": {
            "tags": []
          }
        },
        {
          "output_type": "display_data",
          "data": {
            "text/html": [
              "<pre>| Iteration | Elapsed Time | Training Accuracy | Validation Accuracy | Training Log Loss | Validation Log Loss |</pre>"
            ],
            "text/plain": [
              "| Iteration | Elapsed Time | Training Accuracy | Validation Accuracy | Training Log Loss | Validation Log Loss |"
            ]
          },
          "metadata": {
            "tags": []
          }
        },
        {
          "output_type": "display_data",
          "data": {
            "text/html": [
              "<pre>+-----------+--------------+-------------------+---------------------+-------------------+---------------------+</pre>"
            ],
            "text/plain": [
              "+-----------+--------------+-------------------+---------------------+-------------------+---------------------+"
            ]
          },
          "metadata": {
            "tags": []
          }
        },
        {
          "output_type": "display_data",
          "data": {
            "text/html": [
              "<pre>| 1         | 0.052425     | 0.999752          | 0.997653            | 0.128066          | 0.131030            |</pre>"
            ],
            "text/plain": [
              "| 1         | 0.052425     | 0.999752          | 0.997653            | 0.128066          | 0.131030            |"
            ]
          },
          "metadata": {
            "tags": []
          }
        },
        {
          "output_type": "display_data",
          "data": {
            "text/html": [
              "<pre>| 2         | 0.087262     | 0.999257          | 0.997653            | 0.128125          | 0.132233            |</pre>"
            ],
            "text/plain": [
              "| 2         | 0.087262     | 0.999257          | 0.997653            | 0.128125          | 0.132233            |"
            ]
          },
          "metadata": {
            "tags": []
          }
        },
        {
          "output_type": "display_data",
          "data": {
            "text/html": [
              "<pre>| 3         | 0.134033     | 0.999257          | 0.997653            | 0.128482          | 0.132460            |</pre>"
            ],
            "text/plain": [
              "| 3         | 0.134033     | 0.999257          | 0.997653            | 0.128482          | 0.132460            |"
            ]
          },
          "metadata": {
            "tags": []
          }
        },
        {
          "output_type": "display_data",
          "data": {
            "text/html": [
              "<pre>| 4         | 0.183112     | 0.999010          | 0.997653            | 0.128709          | 0.132716            |</pre>"
            ],
            "text/plain": [
              "| 4         | 0.183112     | 0.999010          | 0.997653            | 0.128709          | 0.132716            |"
            ]
          },
          "metadata": {
            "tags": []
          }
        },
        {
          "output_type": "display_data",
          "data": {
            "text/html": [
              "<pre>| 5         | 0.216444     | 0.999133          | 0.997653            | 0.128654          | 0.131714            |</pre>"
            ],
            "text/plain": [
              "| 5         | 0.216444     | 0.999133          | 0.997653            | 0.128654          | 0.131714            |"
            ]
          },
          "metadata": {
            "tags": []
          }
        },
        {
          "output_type": "display_data",
          "data": {
            "text/html": [
              "<pre>| 10        | 0.424327     | 0.999629          | 0.997653            | 0.128420          | 0.131290            |</pre>"
            ],
            "text/plain": [
              "| 10        | 0.424327     | 0.999629          | 0.997653            | 0.128420          | 0.131290            |"
            ]
          },
          "metadata": {
            "tags": []
          }
        },
        {
          "output_type": "display_data",
          "data": {
            "text/html": [
              "<pre>+-----------+--------------+-------------------+---------------------+-------------------+---------------------+</pre>"
            ],
            "text/plain": [
              "+-----------+--------------+-------------------+---------------------+-------------------+---------------------+"
            ]
          },
          "metadata": {
            "tags": []
          }
        },
        {
          "output_type": "display_data",
          "data": {
            "text/html": [
              "<pre>Decision tree classifier:</pre>"
            ],
            "text/plain": [
              "Decision tree classifier:"
            ]
          },
          "metadata": {
            "tags": []
          }
        },
        {
          "output_type": "display_data",
          "data": {
            "text/html": [
              "<pre>--------------------------------------------------------</pre>"
            ],
            "text/plain": [
              "--------------------------------------------------------"
            ]
          },
          "metadata": {
            "tags": []
          }
        },
        {
          "output_type": "display_data",
          "data": {
            "text/html": [
              "<pre>Number of examples          : 8078</pre>"
            ],
            "text/plain": [
              "Number of examples          : 8078"
            ]
          },
          "metadata": {
            "tags": []
          }
        },
        {
          "output_type": "display_data",
          "data": {
            "text/html": [
              "<pre>Number of classes           : 2</pre>"
            ],
            "text/plain": [
              "Number of classes           : 2"
            ]
          },
          "metadata": {
            "tags": []
          }
        },
        {
          "output_type": "display_data",
          "data": {
            "text/html": [
              "<pre>Number of feature columns   : 132</pre>"
            ],
            "text/plain": [
              "Number of feature columns   : 132"
            ]
          },
          "metadata": {
            "tags": []
          }
        },
        {
          "output_type": "display_data",
          "data": {
            "text/html": [
              "<pre>Number of unpacked features : 132</pre>"
            ],
            "text/plain": [
              "Number of unpacked features : 132"
            ]
          },
          "metadata": {
            "tags": []
          }
        },
        {
          "output_type": "display_data",
          "data": {
            "text/html": [
              "<pre>+-----------+--------------+-------------------+---------------------+-------------------+---------------------+</pre>"
            ],
            "text/plain": [
              "+-----------+--------------+-------------------+---------------------+-------------------+---------------------+"
            ]
          },
          "metadata": {
            "tags": []
          }
        },
        {
          "output_type": "display_data",
          "data": {
            "text/html": [
              "<pre>| Iteration | Elapsed Time | Training Accuracy | Validation Accuracy | Training Log Loss | Validation Log Loss |</pre>"
            ],
            "text/plain": [
              "| Iteration | Elapsed Time | Training Accuracy | Validation Accuracy | Training Log Loss | Validation Log Loss |"
            ]
          },
          "metadata": {
            "tags": []
          }
        },
        {
          "output_type": "display_data",
          "data": {
            "text/html": [
              "<pre>+-----------+--------------+-------------------+---------------------+-------------------+---------------------+</pre>"
            ],
            "text/plain": [
              "+-----------+--------------+-------------------+---------------------+-------------------+---------------------+"
            ]
          },
          "metadata": {
            "tags": []
          }
        },
        {
          "output_type": "display_data",
          "data": {
            "text/html": [
              "<pre>| 1         | 0.060978     | 1.000000          | 0.997653            | 0.127653          | 0.131062            |</pre>"
            ],
            "text/plain": [
              "| 1         | 0.060978     | 1.000000          | 0.997653            | 0.127653          | 0.131062            |"
            ]
          },
          "metadata": {
            "tags": []
          }
        },
        {
          "output_type": "display_data",
          "data": {
            "text/html": [
              "<pre>+-----------+--------------+-------------------+---------------------+-------------------+---------------------+</pre>"
            ],
            "text/plain": [
              "+-----------+--------------+-------------------+---------------------+-------------------+---------------------+"
            ]
          },
          "metadata": {
            "tags": []
          }
        },
        {
          "output_type": "display_data",
          "data": {
            "text/html": [
              "<pre>SVM:</pre>"
            ],
            "text/plain": [
              "SVM:"
            ]
          },
          "metadata": {
            "tags": []
          }
        },
        {
          "output_type": "display_data",
          "data": {
            "text/html": [
              "<pre>--------------------------------------------------------</pre>"
            ],
            "text/plain": [
              "--------------------------------------------------------"
            ]
          },
          "metadata": {
            "tags": []
          }
        },
        {
          "output_type": "display_data",
          "data": {
            "text/html": [
              "<pre>Number of examples          : 8078</pre>"
            ],
            "text/plain": [
              "Number of examples          : 8078"
            ]
          },
          "metadata": {
            "tags": []
          }
        },
        {
          "output_type": "display_data",
          "data": {
            "text/html": [
              "<pre>Number of classes           : 2</pre>"
            ],
            "text/plain": [
              "Number of classes           : 2"
            ]
          },
          "metadata": {
            "tags": []
          }
        },
        {
          "output_type": "display_data",
          "data": {
            "text/html": [
              "<pre>Number of feature columns   : 132</pre>"
            ],
            "text/plain": [
              "Number of feature columns   : 132"
            ]
          },
          "metadata": {
            "tags": []
          }
        },
        {
          "output_type": "display_data",
          "data": {
            "text/html": [
              "<pre>Number of unpacked features : 132</pre>"
            ],
            "text/plain": [
              "Number of unpacked features : 132"
            ]
          },
          "metadata": {
            "tags": []
          }
        },
        {
          "output_type": "display_data",
          "data": {
            "text/html": [
              "<pre>Number of coefficients    : 133</pre>"
            ],
            "text/plain": [
              "Number of coefficients    : 133"
            ]
          },
          "metadata": {
            "tags": []
          }
        },
        {
          "output_type": "display_data",
          "data": {
            "text/html": [
              "<pre>Starting L-BFGS</pre>"
            ],
            "text/plain": [
              "Starting L-BFGS"
            ]
          },
          "metadata": {
            "tags": []
          }
        },
        {
          "output_type": "display_data",
          "data": {
            "text/html": [
              "<pre>--------------------------------------------------------</pre>"
            ],
            "text/plain": [
              "--------------------------------------------------------"
            ]
          },
          "metadata": {
            "tags": []
          }
        },
        {
          "output_type": "display_data",
          "data": {
            "text/html": [
              "<pre>+-----------+----------+-----------+--------------+-------------------+---------------------+</pre>"
            ],
            "text/plain": [
              "+-----------+----------+-----------+--------------+-------------------+---------------------+"
            ]
          },
          "metadata": {
            "tags": []
          }
        },
        {
          "output_type": "display_data",
          "data": {
            "text/html": [
              "<pre>| Iteration | Passes   | Step size | Elapsed Time | Training Accuracy | Validation Accuracy |</pre>"
            ],
            "text/plain": [
              "| Iteration | Passes   | Step size | Elapsed Time | Training Accuracy | Validation Accuracy |"
            ]
          },
          "metadata": {
            "tags": []
          }
        },
        {
          "output_type": "display_data",
          "data": {
            "text/html": [
              "<pre>+-----------+----------+-----------+--------------+-------------------+---------------------+</pre>"
            ],
            "text/plain": [
              "+-----------+----------+-----------+--------------+-------------------+---------------------+"
            ]
          },
          "metadata": {
            "tags": []
          }
        },
        {
          "output_type": "display_data",
          "data": {
            "text/html": [
              "<pre>| 0         | 3        | 0.500000  | 0.090889     | 0.936123          | 0.920188            |</pre>"
            ],
            "text/plain": [
              "| 0         | 3        | 0.500000  | 0.090889     | 0.936123          | 0.920188            |"
            ]
          },
          "metadata": {
            "tags": []
          }
        },
        {
          "output_type": "display_data",
          "data": {
            "text/html": [
              "<pre>| 1         | 8        | 6.500000  | 0.233251     | 0.960262          | 0.946009            |</pre>"
            ],
            "text/plain": [
              "| 1         | 8        | 6.500000  | 0.233251     | 0.960262          | 0.946009            |"
            ]
          },
          "metadata": {
            "tags": []
          }
        },
        {
          "output_type": "display_data",
          "data": {
            "text/html": [
              "<pre>| 2         | 9        | 6.500000  | 0.286150     | 0.109309          | 0.107981            |</pre>"
            ],
            "text/plain": [
              "| 2         | 9        | 6.500000  | 0.286150     | 0.109309          | 0.107981            |"
            ]
          },
          "metadata": {
            "tags": []
          }
        },
        {
          "output_type": "display_data",
          "data": {
            "text/html": [
              "<pre>| 3         | 12       | 0.176023  | 0.377093     | 0.910498          | 0.884977            |</pre>"
            ],
            "text/plain": [
              "| 3         | 12       | 0.176023  | 0.377093     | 0.910498          | 0.884977            |"
            ]
          },
          "metadata": {
            "tags": []
          }
        },
        {
          "output_type": "display_data",
          "data": {
            "text/html": [
              "<pre>| 4         | 15       | 0.880117  | 0.472577     | 0.989725          | 0.983568            |</pre>"
            ],
            "text/plain": [
              "| 4         | 15       | 0.880117  | 0.472577     | 0.989725          | 0.983568            |"
            ]
          },
          "metadata": {
            "tags": []
          }
        },
        {
          "output_type": "display_data",
          "data": {
            "text/html": [
              "<pre>| 9         | 22       | 0.394517  | 0.774833     | 0.995048          | 0.995305            |</pre>"
            ],
            "text/plain": [
              "| 9         | 22       | 0.394517  | 0.774833     | 0.995048          | 0.995305            |"
            ]
          },
          "metadata": {
            "tags": []
          }
        },
        {
          "output_type": "display_data",
          "data": {
            "text/html": [
              "<pre>+-----------+----------+-----------+--------------+-------------------+---------------------+</pre>"
            ],
            "text/plain": [
              "+-----------+----------+-----------+--------------+-------------------+---------------------+"
            ]
          },
          "metadata": {
            "tags": []
          }
        },
        {
          "output_type": "display_data",
          "data": {
            "text/html": [
              "<pre>Logistic regression:</pre>"
            ],
            "text/plain": [
              "Logistic regression:"
            ]
          },
          "metadata": {
            "tags": []
          }
        },
        {
          "output_type": "display_data",
          "data": {
            "text/html": [
              "<pre>--------------------------------------------------------</pre>"
            ],
            "text/plain": [
              "--------------------------------------------------------"
            ]
          },
          "metadata": {
            "tags": []
          }
        },
        {
          "output_type": "display_data",
          "data": {
            "text/html": [
              "<pre>Number of examples          : 8078</pre>"
            ],
            "text/plain": [
              "Number of examples          : 8078"
            ]
          },
          "metadata": {
            "tags": []
          }
        },
        {
          "output_type": "display_data",
          "data": {
            "text/html": [
              "<pre>Number of classes           : 2</pre>"
            ],
            "text/plain": [
              "Number of classes           : 2"
            ]
          },
          "metadata": {
            "tags": []
          }
        },
        {
          "output_type": "display_data",
          "data": {
            "text/html": [
              "<pre>Number of feature columns   : 132</pre>"
            ],
            "text/plain": [
              "Number of feature columns   : 132"
            ]
          },
          "metadata": {
            "tags": []
          }
        },
        {
          "output_type": "display_data",
          "data": {
            "text/html": [
              "<pre>Number of unpacked features : 132</pre>"
            ],
            "text/plain": [
              "Number of unpacked features : 132"
            ]
          },
          "metadata": {
            "tags": []
          }
        },
        {
          "output_type": "display_data",
          "data": {
            "text/html": [
              "<pre>Number of coefficients      : 133</pre>"
            ],
            "text/plain": [
              "Number of coefficients      : 133"
            ]
          },
          "metadata": {
            "tags": []
          }
        },
        {
          "output_type": "display_data",
          "data": {
            "text/html": [
              "<pre>Starting Newton Method</pre>"
            ],
            "text/plain": [
              "Starting Newton Method"
            ]
          },
          "metadata": {
            "tags": []
          }
        },
        {
          "output_type": "display_data",
          "data": {
            "text/html": [
              "<pre>--------------------------------------------------------</pre>"
            ],
            "text/plain": [
              "--------------------------------------------------------"
            ]
          },
          "metadata": {
            "tags": []
          }
        },
        {
          "output_type": "display_data",
          "data": {
            "text/html": [
              "<pre>+-----------+----------+--------------+-------------------+---------------------+</pre>"
            ],
            "text/plain": [
              "+-----------+----------+--------------+-------------------+---------------------+"
            ]
          },
          "metadata": {
            "tags": []
          }
        },
        {
          "output_type": "display_data",
          "data": {
            "text/html": [
              "<pre>| Iteration | Passes   | Elapsed Time | Training Accuracy | Validation Accuracy |</pre>"
            ],
            "text/plain": [
              "| Iteration | Passes   | Elapsed Time | Training Accuracy | Validation Accuracy |"
            ]
          },
          "metadata": {
            "tags": []
          }
        },
        {
          "output_type": "display_data",
          "data": {
            "text/html": [
              "<pre>+-----------+----------+--------------+-------------------+---------------------+</pre>"
            ],
            "text/plain": [
              "+-----------+----------+--------------+-------------------+---------------------+"
            ]
          },
          "metadata": {
            "tags": []
          }
        },
        {
          "output_type": "display_data",
          "data": {
            "text/html": [
              "<pre>| 1         | 2        | 0.278897     | 0.995296          | 0.997653            |</pre>"
            ],
            "text/plain": [
              "| 1         | 2        | 0.278897     | 0.995296          | 0.997653            |"
            ]
          },
          "metadata": {
            "tags": []
          }
        },
        {
          "output_type": "display_data",
          "data": {
            "text/html": [
              "<pre>| 2         | 3        | 0.440959     | 0.995296          | 0.997653            |</pre>"
            ],
            "text/plain": [
              "| 2         | 3        | 0.440959     | 0.995296          | 0.997653            |"
            ]
          },
          "metadata": {
            "tags": []
          }
        },
        {
          "output_type": "display_data",
          "data": {
            "text/html": [
              "<pre>| 3         | 4        | 0.601882     | 0.995296          | 0.997653            |</pre>"
            ],
            "text/plain": [
              "| 3         | 4        | 0.601882     | 0.995296          | 0.997653            |"
            ]
          },
          "metadata": {
            "tags": []
          }
        },
        {
          "output_type": "display_data",
          "data": {
            "text/html": [
              "<pre>| 4         | 5        | 0.760157     | 0.995420          | 0.995305            |</pre>"
            ],
            "text/plain": [
              "| 4         | 5        | 0.760157     | 0.995420          | 0.995305            |"
            ]
          },
          "metadata": {
            "tags": []
          }
        },
        {
          "output_type": "display_data",
          "data": {
            "text/html": [
              "<pre>| 5         | 6        | 0.921533     | 0.995791          | 0.995305            |</pre>"
            ],
            "text/plain": [
              "| 5         | 6        | 0.921533     | 0.995791          | 0.995305            |"
            ]
          },
          "metadata": {
            "tags": []
          }
        },
        {
          "output_type": "display_data",
          "data": {
            "text/html": [
              "<pre>| 10        | 11       | 1.727336     | 0.996534          | 0.990610            |</pre>"
            ],
            "text/plain": [
              "| 10        | 11       | 1.727336     | 0.996534          | 0.990610            |"
            ]
          },
          "metadata": {
            "tags": []
          }
        },
        {
          "output_type": "display_data",
          "data": {
            "text/html": [
              "<pre>+-----------+----------+--------------+-------------------+---------------------+</pre>"
            ],
            "text/plain": [
              "+-----------+----------+--------------+-------------------+---------------------+"
            ]
          },
          "metadata": {
            "tags": []
          }
        },
        {
          "output_type": "display_data",
          "data": {
            "text/html": [
              "<pre>Completed (Iteration limit reached).</pre>"
            ],
            "text/plain": [
              "Completed (Iteration limit reached)."
            ]
          },
          "metadata": {
            "tags": []
          }
        },
        {
          "output_type": "display_data",
          "data": {
            "text/html": [
              "<pre>This model may not be optimal. To improve it, consider increasing `max_iterations`.</pre>"
            ],
            "text/plain": [
              "This model may not be optimal. To improve it, consider increasing `max_iterations`."
            ]
          },
          "metadata": {
            "tags": []
          }
        },
        {
          "output_type": "stream",
          "text": [
            "PROGRESS: Model selection based on validation accuracy:\n",
            "PROGRESS: ---------------------------------------------\n",
            "PROGRESS: BoostedTreesClassifier          : 0.9953051643192489\n",
            "PROGRESS: RandomForestClassifier          : 0.9976525821596244\n",
            "PROGRESS: DecisionTreeClassifier          : 0.9976525821596244\n",
            "PROGRESS: SVMClassifier                   : 0.9953051643192489\n",
            "PROGRESS: LogisticClassifier              : 0.9906103286384976\n",
            "PROGRESS: ---------------------------------------------\n",
            "PROGRESS: Selecting RandomForestClassifier based on validation set performance.\n",
            "{'accuracy': 0.9986251145737856, 'auc': 0.9999999999999999, 'confusion_matrix': Columns:\n",
            "\ttarget_label\tint\n",
            "\tpredicted_label\tint\n",
            "\tcount\tint\n",
            "\n",
            "Rows: 3\n",
            "\n",
            "Data:\n",
            "+--------------+-----------------+-------+\n",
            "| target_label | predicted_label | count |\n",
            "+--------------+-----------------+-------+\n",
            "|      0       |        0        |  2046 |\n",
            "|      1       |        0        |   3   |\n",
            "|      1       |        1        |  133  |\n",
            "+--------------+-----------------+-------+\n",
            "[3 rows x 3 columns]\n",
            ", 'f1_score': 0.9888475836431226, 'log_loss': 0.12900335599925963, 'precision': 1.0, 'recall': 0.9779411764705882, 'roc_curve': Columns:\n",
            "\tthreshold\tfloat\n",
            "\tfpr\tfloat\n",
            "\ttpr\tfloat\n",
            "\tp\tint\n",
            "\tn\tint\n",
            "\n",
            "Rows: 1001\n",
            "\n",
            "Data:\n",
            "+-----------+-----+-----+-----+------+\n",
            "| threshold | fpr | tpr |  p  |  n   |\n",
            "+-----------+-----+-----+-----+------+\n",
            "|    0.0    | 1.0 | 1.0 | 136 | 2046 |\n",
            "|   0.001   | 1.0 | 1.0 | 136 | 2046 |\n",
            "|   0.002   | 1.0 | 1.0 | 136 | 2046 |\n",
            "|   0.003   | 1.0 | 1.0 | 136 | 2046 |\n",
            "|   0.004   | 1.0 | 1.0 | 136 | 2046 |\n",
            "|   0.005   | 1.0 | 1.0 | 136 | 2046 |\n",
            "|   0.006   | 1.0 | 1.0 | 136 | 2046 |\n",
            "|   0.007   | 1.0 | 1.0 | 136 | 2046 |\n",
            "|   0.008   | 1.0 | 1.0 | 136 | 2046 |\n",
            "|   0.009   | 1.0 | 1.0 | 136 | 2046 |\n",
            "+-----------+-----+-----+-----+------+\n",
            "[1001 rows x 5 columns]\n",
            "Note: Only the head of the SFrame is printed.\n",
            "You can use print_rows(num_rows=m, num_columns=n) to print more rows and columns.}\n"
          ],
          "name": "stdout"
        },
        {
          "output_type": "display_data",
          "data": {
            "image/png": "[encoded data removed]",
            "text/plain": [
              "<Figure size 432x288 with 1 Axes>"
            ]
          },
          "metadata": {
            "tags": []
          }
        }
      ]
    },
    {
      "cell_type": "code",
      "metadata": {
        "colab": {
          "base_uri": "https://localhost:8080/"
        },
        "id": "HsHxvnSObdTH",
        "outputId": "d973f49b-72f7-4cac-9284-b13a1369ba1b"
      },
      "source": [
        "print(\"Embedding is Better!\")"
      ],
      "execution_count": 8,
      "outputs": [
        {
          "output_type": "stream",
          "text": [
            "Embedding is Better!\n"
          ],
          "name": "stdout"
        }
      ]
    },
    {
      "cell_type": "markdown",
      "metadata": {
        "id": "VLGS1MiDulUo"
      },
      "source": [
        "**Question 2:** Use three different centrality algorithms to identify managers at Enron.\n",
        "    Evaluate the precision@10 of the algorithms, i.e. how many managers attained the top-10 highest ranks (30pt). Draw \n",
        "    the network and visualize one of the centrality measures (10pt)\n",
        "    "
      ]
    },
    {
      "cell_type": "code",
      "metadata": {
        "id": "xgKnOGzGFp3c",
        "colab": {
          "base_uri": "https://localhost:8080/"
        },
        "outputId": "26e3903b-707b-4a7e-ef8e-cf20e6355742"
      },
      "source": [
        "DATASET = 'enron'\n",
        "FILENAME = 'enron_mail_20150507.tar.gz'\n",
        "DOWNLOAD = f'https://www.cs.cmu.edu/~./{DATASET}/{FILENAME}'\n",
        "!rm -r *\n",
        "!ls\n",
        "!mkdir -p ./datasets/$DATASET/zip\n",
        "!mkdir -p ./datasets/$DATASET/data\n",
        "!ls ./datasets/$DATASET\n",
        "\n",
        "!wget $DOWNLOAD -O ./datasets/$DATASET/zip/$FILENAME\n",
        "!ls ./datasets/$DATASET/zip\n",
        "\n",
        "!tar -xf ./datasets/$DATASET/zip/$FILENAME -C ./datasets/$DATASET/data\n",
        "!rm -r ./datasets/$DATASET/zip/\n"
      ],
      "execution_count": 9,
      "outputs": [
        {
          "output_type": "stream",
          "text": [
            "data  zip\n",
            "--2020-11-21 15:41:58--  https://www.cs.cmu.edu/~./enron/enron_mail_20150507.tar.gz\n",
            "Resolving www.cs.cmu.edu (www.cs.cmu.edu)... 128.2.42.95\n",
            "Connecting to www.cs.cmu.edu (www.cs.cmu.edu)|128.2.42.95|:443... connected.\n",
            "HTTP request sent, awaiting response... 200 OK\n",
            "Length: 443254787 (423M) [application/x-gzip]\n",
            "Saving to: ‘./datasets/enron/zip/enron_mail_20150507.tar.gz’\n",
            "\n",
            "./datasets/enron/zi 100%[===================>] 422.72M   626KB/s    in 11m 43s \n",
            "\n",
            "2020-11-21 15:53:42 (616 KB/s) - ‘./datasets/enron/zip/enron_mail_20150507.tar.gz’ saved [443254787/443254787]\n",
            "\n",
            "enron_mail_20150507.tar.gz\n"
          ],
          "name": "stdout"
        }
      ]
    },
    {
      "cell_type": "code",
      "metadata": {
        "id": "o7YxQoAwFz_r",
        "colab": {
          "base_uri": "https://localhost:8080/",
          "height": 144,
          "referenced_widgets": [
            "4e0a262c972f4214bdd37a14cd385336",
            "93404cc715504c5d9098dc0aad1db42b",
            "2542a9c6111849c6943cef3d9de5779a",
            "58cac6bf74654fff87a30522ee7903bd",
            "dfc9591a823044d19cc5de096eb0e206",
            "dd3bba1563cd446fa441a3d6598fd28a",
            "ad68319d36364434b1bd618ba0359954",
            "08b34a529e6041d3b961e70d8a5d8e26"
          ]
        },
        "outputId": "d56ab7cd-625f-41b8-9e3f-9b9f4c64fad5"
      },
      "source": [
        "roles_file = 'http://www.inf.ed.ac.uk/teaching/courses/tts/assessed/roles.txt'\n",
        "pd_roles = pd.read_csv(roles_file, sep=\"\t\", header=None, error_bad_lines=False)\n",
        "name_index = 0\n",
        "description_index = 1\n",
        "description_have_to_contains = 'Manag'\n",
        "pd_roles[\"manager\"] = pd_roles[description_index].apply(lambda emp_role: True if description_have_to_contains in emp_role else False)\n",
        "\n",
        "\n",
        "enron_data_set_path = f\"./datasets/{DATASET}/data/maildir\"\n",
        "\n",
        "def get_links_from_email(path):\n",
        "    email_re = re.compile(r\"([a-zA-Z0-9_.+-]+@[a-zA-Z0-9-]+\\.[a-zA-Z0-9-.]+)\")\n",
        "    to_list = []\n",
        "    from_list = []\n",
        "    for line in open(path, \"r\", encoding='utf8', errors='ignore').readlines():\n",
        "        line = line.strip().lower()\n",
        "        if line.startswith(\"to:\"):\n",
        "            to_list = email_re.findall(line)\n",
        "        if line.startswith(\"from:\"):\n",
        "            from_list = email_re.findall(line)\n",
        "    links = set()\n",
        "    if len(from_list) > 0 and len(to_list) >0:\n",
        "        for e1 in from_list:\n",
        "            for e2 in to_list:\n",
        "                links.add((e1,e2))\n",
        "    return links          \n",
        "\n",
        "links = set()\n",
        "files_list = [p for p in glob(f\"{enron_data_set_path}/*/*/*\") if \"/inbox/\" in p or \"/sent/\" in p]\n",
        "print(\"Found %s files\" % len(files_list))\n",
        "for i in tqdm(range(len(files_list))):\n",
        "    p = files_list[i]              \n",
        "    if os.path.isfile(p):\n",
        "        try:\n",
        "            links |= get_links_from_email(p)\n",
        "        except:\n",
        "            continue\n",
        "\n",
        "\n",
        "g = nx.DiGraph()\n",
        "g.add_edges_from(links)\n",
        "min_degree = 200\n",
        "l = [n for n,degree in dict(g.degree()).items() if degree > min_degree]\n",
        "h = g.subgraph(l)"
      ],
      "execution_count": 10,
      "outputs": [
        {
          "output_type": "stream",
          "text": [
            "b'Skipping line 140: expected 2 fields, saw 3\\n'\n"
          ],
          "name": "stderr"
        },
        {
          "output_type": "stream",
          "text": [
            "Found 99279 files\n"
          ],
          "name": "stdout"
        },
        {
          "output_type": "stream",
          "text": [
            "/usr/local/lib/python3.6/dist-packages/ipykernel_launcher.py:31: TqdmDeprecationWarning: This function will be removed in tqdm==5.0.0\n",
            "Please use `tqdm.notebook.tqdm` instead of `tqdm.tqdm_notebook`\n"
          ],
          "name": "stderr"
        },
        {
          "output_type": "display_data",
          "data": {
            "application/vnd.jupyter.widget-view+json": {
              "model_id": "4e0a262c972f4214bdd37a14cd385336",
              "version_minor": 0,
              "version_major": 2
            },
            "text/plain": [
              "HBox(children=(FloatProgress(value=0.0, max=99279.0), HTML(value='')))"
            ]
          },
          "metadata": {
            "tags": []
          }
        },
        {
          "output_type": "stream",
          "text": [
            "\n"
          ],
          "name": "stdout"
        }
      ]
    },
    {
      "cell_type": "code",
      "metadata": {
        "id": "qCdq_XICZKuq"
      },
      "source": [
        "def is_manager(empl):\n",
        "  try:\n",
        "    is_manager = pd_roles.loc[pd_roles[name_index].apply(lambda x: True if x in empl[0] else False), \"manager\"].values[0]  \n",
        "    if is_manager:\n",
        "      return True\n",
        "    else:\n",
        "      return False\n",
        "  except:\n",
        "    return False  "
      ],
      "execution_count": 11,
      "outputs": []
    },
    {
      "cell_type": "markdown",
      "metadata": {
        "id": "6jdRJCAra_gq"
      },
      "source": [
        "**By degree**"
      ]
    },
    {
      "cell_type": "code",
      "metadata": {
        "id": "XApS73miISAC",
        "colab": {
          "base_uri": "https://localhost:8080/"
        },
        "outputId": "6761bbde-a725-4a45-d8df-76da383e2134"
      },
      "source": [
        "import operator\n",
        "emp_degree = sorted(dict(g.degree()).items(), key=operator.itemgetter(1), reverse=True)[:10]\n",
        "managers_count = 0\n",
        "for empl in emp_degree:\n",
        "  if is_manager(empl):\n",
        "    managers_count += 1\n",
        "print(f'{managers_count} managers attained the top10 ')"
      ],
      "execution_count": 12,
      "outputs": [
        {
          "output_type": "stream",
          "text": [
            "1 managers attained the top10 \n"
          ],
          "name": "stdout"
        }
      ]
    },
    {
      "cell_type": "markdown",
      "metadata": {
        "id": "QDSJlGQUgKNb"
      },
      "source": [
        "**By eigenvector centrality**"
      ]
    },
    {
      "cell_type": "code",
      "metadata": {
        "id": "Iee_HtAFIVGZ",
        "colab": {
          "base_uri": "https://localhost:8080/"
        },
        "outputId": "8cc52496-7693-43ea-f255-cf8fdc9f9487"
      },
      "source": [
        "eigenvector_centrality = sorted(dict(nx.eigenvector_centrality(g)).items(), key=operator.itemgetter(1), reverse=True)\n",
        "managers_count_eigenvector = 0\n",
        "for empl in eigenvector_centrality[:10]:\n",
        "    if is_manager(empl):\n",
        "        managers_count_eigenvector += 1\n",
        "print(f'{managers_count_eigenvector} managers attained the top10 ')"
      ],
      "execution_count": 14,
      "outputs": [
        {
          "output_type": "stream",
          "text": [
            "2 managers attained the top10 \n"
          ],
          "name": "stdout"
        }
      ]
    },
    {
      "cell_type": "markdown",
      "metadata": {
        "id": "_A8wuLFygO0h"
      },
      "source": [
        "**By betweenness centrality**"
      ]
    },
    {
      "cell_type": "code",
      "metadata": {
        "id": "j3P5-Zz0IW8m",
        "colab": {
          "base_uri": "https://localhost:8080/"
        },
        "outputId": "5c49915c-7207-4164-d747-5017fa8ba911"
      },
      "source": [
        "betweenness = sorted(dict(nx.betweenness_centrality(h)).items(), key=operator.itemgetter(1), reverse=True)[:10]\n",
        "managers_count_betweenness = 0\n",
        "for empl in betweenness:\n",
        "    if is_manager(empl):\n",
        "        managers_count_betweenness += 1\n",
        "print(f'{managers_count_betweenness} managers attained the top10 ')"
      ],
      "execution_count": 15,
      "outputs": [
        {
          "output_type": "stream",
          "text": [
            "1 managers attained the top10 \n"
          ],
          "name": "stdout"
        }
      ]
    },
    {
      "cell_type": "code",
      "metadata": {
        "id": "wkOfdmMHfqPK"
      },
      "source": [
        "d = dict(betweenness[:30])\n",
        "l = [name for name, desc in d.items()]"
      ],
      "execution_count": 16,
      "outputs": []
    },
    {
      "cell_type": "code",
      "metadata": {
        "id": "5tiHhxXuIYTl",
        "colab": {
          "base_uri": "https://localhost:8080/",
          "height": 1000
        },
        "outputId": "e804e9f7-7990-4a7f-e6e6-6f8e97f6e1d3"
      },
      "source": [
        "h = g.subgraph(l)\n",
        "plt.figure(3, figsize=(15,20))\n",
        "nx.draw_kamada_kawai(h, with_labels=True, node_size=[(d[node]) for node in h.nodes()])"
      ],
      "execution_count": 17,
      "outputs": [
        {
          "output_type": "display_data",
          "data": {
            "image/png": "[encoded data removed]",
            "text/plain": [
              "<Figure size 1080x1440 with 1 Axes>"
            ]
          },
          "metadata": {
            "tags": []
          }
        }
      ]
    },
    {
      "cell_type": "code",
      "metadata": {
        "id": "p3QJgVMHJ0aW"
      },
      "source": [
        ""
      ],
      "execution_count": null,
      "outputs": []
    }
  ]
}